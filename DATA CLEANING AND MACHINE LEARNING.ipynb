{
 "cells": [
  {
   "cell_type": "code",
   "execution_count": 192,
   "metadata": {},
   "outputs": [],
   "source": [
    "import numpy as np\n",
    "import pandas as pd\n",
    "import matplotlib.pyplot as plt\n",
    "import seaborn as sns"
   ]
  },
  {
   "cell_type": "code",
   "execution_count": 193,
   "metadata": {},
   "outputs": [],
   "source": [
    "from collections import OrderedDict"
   ]
  },
  {
   "cell_type": "code",
   "execution_count": 194,
   "metadata": {},
   "outputs": [],
   "source": [
    "from sklearn.preprocessing import StandardScaler"
   ]
  },
  {
   "cell_type": "code",
   "execution_count": 195,
   "metadata": {},
   "outputs": [],
   "source": [
    "from sklearn.metrics import r2_score\n",
    "from sklearn.metrics import mean_squared_error\n",
    "from sklearn.model_selection import train_test_split\n",
    "from xgboost import XGBRegressor\n",
    "pd.set_option('display.float_format',lambda x: '{:.3f}'.format(x))"
   ]
  },
  {
   "cell_type": "code",
   "execution_count": 196,
   "metadata": {},
   "outputs": [],
   "source": [
    "dx=pd.read_csv('listings.csv')"
   ]
  },
  {
   "cell_type": "code",
   "execution_count": 197,
   "metadata": {},
   "outputs": [
    {
     "data": {
      "text/html": [
       "<div>\n",
       "<style scoped>\n",
       "    .dataframe tbody tr th:only-of-type {\n",
       "        vertical-align: middle;\n",
       "    }\n",
       "\n",
       "    .dataframe tbody tr th {\n",
       "        vertical-align: top;\n",
       "    }\n",
       "\n",
       "    .dataframe thead th {\n",
       "        text-align: right;\n",
       "    }\n",
       "</style>\n",
       "<table border=\"1\" class=\"dataframe\">\n",
       "  <thead>\n",
       "    <tr style=\"text-align: right;\">\n",
       "      <th></th>\n",
       "      <th>id</th>\n",
       "      <th>name</th>\n",
       "      <th>host_id</th>\n",
       "      <th>host_name</th>\n",
       "      <th>neighbourhood_group</th>\n",
       "      <th>latitude</th>\n",
       "      <th>longitude</th>\n",
       "      <th>room_type</th>\n",
       "      <th>price</th>\n",
       "      <th>minimum_nights</th>\n",
       "      <th>number_of_reviews</th>\n",
       "      <th>last_review</th>\n",
       "      <th>reviews_per_month</th>\n",
       "      <th>calculated_host_listings_count</th>\n",
       "      <th>availability_365</th>\n",
       "    </tr>\n",
       "  </thead>\n",
       "  <tbody>\n",
       "    <tr>\n",
       "      <th>0</th>\n",
       "      <td>49091</td>\n",
       "      <td>COZICOMFORT LONG TERM STAY ROOM 2</td>\n",
       "      <td>266763</td>\n",
       "      <td>Francesca</td>\n",
       "      <td>North Region</td>\n",
       "      <td>1.443</td>\n",
       "      <td>103.796</td>\n",
       "      <td>Private room</td>\n",
       "      <td>83</td>\n",
       "      <td>180</td>\n",
       "      <td>1</td>\n",
       "      <td>10/21/2013</td>\n",
       "      <td>0.010</td>\n",
       "      <td>2</td>\n",
       "      <td>365</td>\n",
       "    </tr>\n",
       "    <tr>\n",
       "      <th>1</th>\n",
       "      <td>50646</td>\n",
       "      <td>Pleasant Room along Bukit Timah</td>\n",
       "      <td>227796</td>\n",
       "      <td>Sujatha</td>\n",
       "      <td>Central Region</td>\n",
       "      <td>1.332</td>\n",
       "      <td>103.785</td>\n",
       "      <td>Private room</td>\n",
       "      <td>81</td>\n",
       "      <td>90</td>\n",
       "      <td>18</td>\n",
       "      <td>12/26/2014</td>\n",
       "      <td>0.280</td>\n",
       "      <td>1</td>\n",
       "      <td>365</td>\n",
       "    </tr>\n",
       "    <tr>\n",
       "      <th>2</th>\n",
       "      <td>56334</td>\n",
       "      <td>COZICOMFORT</td>\n",
       "      <td>266763</td>\n",
       "      <td>Francesca</td>\n",
       "      <td>North Region</td>\n",
       "      <td>1.442</td>\n",
       "      <td>103.797</td>\n",
       "      <td>Private room</td>\n",
       "      <td>69</td>\n",
       "      <td>6</td>\n",
       "      <td>20</td>\n",
       "      <td>10/1/2015</td>\n",
       "      <td>0.200</td>\n",
       "      <td>2</td>\n",
       "      <td>365</td>\n",
       "    </tr>\n",
       "    <tr>\n",
       "      <th>3</th>\n",
       "      <td>71609</td>\n",
       "      <td>Ensuite Room (Room 1 &amp; 2) near EXPO</td>\n",
       "      <td>367042</td>\n",
       "      <td>Belinda</td>\n",
       "      <td>East Region</td>\n",
       "      <td>1.345</td>\n",
       "      <td>103.957</td>\n",
       "      <td>Private room</td>\n",
       "      <td>206</td>\n",
       "      <td>1</td>\n",
       "      <td>14</td>\n",
       "      <td>8/11/2019</td>\n",
       "      <td>0.150</td>\n",
       "      <td>9</td>\n",
       "      <td>353</td>\n",
       "    </tr>\n",
       "    <tr>\n",
       "      <th>4</th>\n",
       "      <td>71896</td>\n",
       "      <td>B&amp;B  Room 1 near Airport &amp; EXPO</td>\n",
       "      <td>367042</td>\n",
       "      <td>Belinda</td>\n",
       "      <td>East Region</td>\n",
       "      <td>1.346</td>\n",
       "      <td>103.960</td>\n",
       "      <td>Private room</td>\n",
       "      <td>94</td>\n",
       "      <td>1</td>\n",
       "      <td>22</td>\n",
       "      <td>7/28/2019</td>\n",
       "      <td>0.220</td>\n",
       "      <td>9</td>\n",
       "      <td>355</td>\n",
       "    </tr>\n",
       "  </tbody>\n",
       "</table>\n",
       "</div>"
      ],
      "text/plain": [
       "      id                                 name  host_id  host_name  \\\n",
       "0  49091    COZICOMFORT LONG TERM STAY ROOM 2   266763  Francesca   \n",
       "1  50646      Pleasant Room along Bukit Timah   227796    Sujatha   \n",
       "2  56334                          COZICOMFORT   266763  Francesca   \n",
       "3  71609  Ensuite Room (Room 1 & 2) near EXPO   367042    Belinda   \n",
       "4  71896      B&B  Room 1 near Airport & EXPO   367042    Belinda   \n",
       "\n",
       "  neighbourhood_group  latitude  longitude     room_type  price  \\\n",
       "0        North Region     1.443    103.796  Private room     83   \n",
       "1      Central Region     1.332    103.785  Private room     81   \n",
       "2        North Region     1.442    103.797  Private room     69   \n",
       "3         East Region     1.345    103.957  Private room    206   \n",
       "4         East Region     1.346    103.960  Private room     94   \n",
       "\n",
       "   minimum_nights  number_of_reviews last_review  reviews_per_month  \\\n",
       "0             180                  1  10/21/2013              0.010   \n",
       "1              90                 18  12/26/2014              0.280   \n",
       "2               6                 20   10/1/2015              0.200   \n",
       "3               1                 14   8/11/2019              0.150   \n",
       "4               1                 22   7/28/2019              0.220   \n",
       "\n",
       "   calculated_host_listings_count  availability_365  \n",
       "0                               2               365  \n",
       "1                               1               365  \n",
       "2                               2               365  \n",
       "3                               9               353  \n",
       "4                               9               355  "
      ]
     },
     "execution_count": 197,
     "metadata": {},
     "output_type": "execute_result"
    }
   ],
   "source": [
    "dx.head()"
   ]
  },
  {
   "cell_type": "code",
   "execution_count": 198,
   "metadata": {},
   "outputs": [
    {
     "data": {
      "text/plain": [
       "(7907, 15)"
      ]
     },
     "execution_count": 198,
     "metadata": {},
     "output_type": "execute_result"
    }
   ],
   "source": [
    "dx.shape"
   ]
  },
  {
   "cell_type": "code",
   "execution_count": 199,
   "metadata": {},
   "outputs": [
    {
     "data": {
      "text/plain": [
       "array(['10/21/2013', '12/26/2014', '10/1/2015', ..., '4/9/2019',\n",
       "       '6/17/2019', '3/22/2019'], dtype=object)"
      ]
     },
     "execution_count": 199,
     "metadata": {},
     "output_type": "execute_result"
    }
   ],
   "source": [
    "dx['last_review'].unique()"
   ]
  },
  {
   "cell_type": "code",
   "execution_count": 200,
   "metadata": {},
   "outputs": [
    {
     "name": "stdout",
     "output_type": "stream",
     "text": [
      "<class 'pandas.core.frame.DataFrame'>\n",
      "RangeIndex: 7907 entries, 0 to 7906\n",
      "Data columns (total 15 columns):\n",
      " #   Column                          Non-Null Count  Dtype  \n",
      "---  ------                          --------------  -----  \n",
      " 0   id                              7907 non-null   int64  \n",
      " 1   name                            7905 non-null   object \n",
      " 2   host_id                         7907 non-null   int64  \n",
      " 3   host_name                       7907 non-null   object \n",
      " 4   neighbourhood_group             7907 non-null   object \n",
      " 5   latitude                        7907 non-null   float64\n",
      " 6   longitude                       7907 non-null   float64\n",
      " 7   room_type                       7907 non-null   object \n",
      " 8   price                           7907 non-null   int64  \n",
      " 9   minimum_nights                  7907 non-null   int64  \n",
      " 10  number_of_reviews               7907 non-null   int64  \n",
      " 11  last_review                     5149 non-null   object \n",
      " 12  reviews_per_month               5149 non-null   float64\n",
      " 13  calculated_host_listings_count  7907 non-null   int64  \n",
      " 14  availability_365                7907 non-null   int64  \n",
      "dtypes: float64(3), int64(7), object(5)\n",
      "memory usage: 926.7+ KB\n"
     ]
    }
   ],
   "source": [
    "dx.info()"
   ]
  },
  {
   "cell_type": "code",
   "execution_count": 201,
   "metadata": {},
   "outputs": [
    {
     "data": {
      "text/html": [
       "<div>\n",
       "<style scoped>\n",
       "    .dataframe tbody tr th:only-of-type {\n",
       "        vertical-align: middle;\n",
       "    }\n",
       "\n",
       "    .dataframe tbody tr th {\n",
       "        vertical-align: top;\n",
       "    }\n",
       "\n",
       "    .dataframe thead th {\n",
       "        text-align: right;\n",
       "    }\n",
       "</style>\n",
       "<table border=\"1\" class=\"dataframe\">\n",
       "  <thead>\n",
       "    <tr style=\"text-align: right;\">\n",
       "      <th></th>\n",
       "      <th>id</th>\n",
       "      <th>host_id</th>\n",
       "      <th>latitude</th>\n",
       "      <th>longitude</th>\n",
       "      <th>price</th>\n",
       "      <th>minimum_nights</th>\n",
       "      <th>number_of_reviews</th>\n",
       "      <th>reviews_per_month</th>\n",
       "      <th>calculated_host_listings_count</th>\n",
       "      <th>availability_365</th>\n",
       "    </tr>\n",
       "  </thead>\n",
       "  <tbody>\n",
       "    <tr>\n",
       "      <th>count</th>\n",
       "      <td>7907.000</td>\n",
       "      <td>7907.000</td>\n",
       "      <td>7907.000</td>\n",
       "      <td>7907.000</td>\n",
       "      <td>7907.000</td>\n",
       "      <td>7907.000</td>\n",
       "      <td>7907.000</td>\n",
       "      <td>5149.000</td>\n",
       "      <td>7907.000</td>\n",
       "      <td>7907.000</td>\n",
       "    </tr>\n",
       "    <tr>\n",
       "      <th>mean</th>\n",
       "      <td>23388624.630</td>\n",
       "      <td>91144807.405</td>\n",
       "      <td>1.314</td>\n",
       "      <td>103.849</td>\n",
       "      <td>169.333</td>\n",
       "      <td>17.510</td>\n",
       "      <td>12.807</td>\n",
       "      <td>1.044</td>\n",
       "      <td>40.608</td>\n",
       "      <td>208.726</td>\n",
       "    </tr>\n",
       "    <tr>\n",
       "      <th>std</th>\n",
       "      <td>10164162.066</td>\n",
       "      <td>81909095.305</td>\n",
       "      <td>0.031</td>\n",
       "      <td>0.044</td>\n",
       "      <td>340.188</td>\n",
       "      <td>42.095</td>\n",
       "      <td>29.708</td>\n",
       "      <td>1.286</td>\n",
       "      <td>65.135</td>\n",
       "      <td>146.120</td>\n",
       "    </tr>\n",
       "    <tr>\n",
       "      <th>min</th>\n",
       "      <td>49091.000</td>\n",
       "      <td>23666.000</td>\n",
       "      <td>1.244</td>\n",
       "      <td>103.647</td>\n",
       "      <td>0.000</td>\n",
       "      <td>1.000</td>\n",
       "      <td>0.000</td>\n",
       "      <td>0.010</td>\n",
       "      <td>1.000</td>\n",
       "      <td>0.000</td>\n",
       "    </tr>\n",
       "    <tr>\n",
       "      <th>25%</th>\n",
       "      <td>15821800.500</td>\n",
       "      <td>23058075.000</td>\n",
       "      <td>1.296</td>\n",
       "      <td>103.836</td>\n",
       "      <td>65.000</td>\n",
       "      <td>1.000</td>\n",
       "      <td>0.000</td>\n",
       "      <td>0.180</td>\n",
       "      <td>2.000</td>\n",
       "      <td>54.000</td>\n",
       "    </tr>\n",
       "    <tr>\n",
       "      <th>50%</th>\n",
       "      <td>24706270.000</td>\n",
       "      <td>63448912.000</td>\n",
       "      <td>1.311</td>\n",
       "      <td>103.849</td>\n",
       "      <td>124.000</td>\n",
       "      <td>3.000</td>\n",
       "      <td>2.000</td>\n",
       "      <td>0.550</td>\n",
       "      <td>9.000</td>\n",
       "      <td>260.000</td>\n",
       "    </tr>\n",
       "    <tr>\n",
       "      <th>75%</th>\n",
       "      <td>32348500.000</td>\n",
       "      <td>155381142.000</td>\n",
       "      <td>1.322</td>\n",
       "      <td>103.873</td>\n",
       "      <td>199.000</td>\n",
       "      <td>10.000</td>\n",
       "      <td>10.000</td>\n",
       "      <td>1.370</td>\n",
       "      <td>48.000</td>\n",
       "      <td>355.000</td>\n",
       "    </tr>\n",
       "    <tr>\n",
       "      <th>max</th>\n",
       "      <td>38112762.000</td>\n",
       "      <td>288567551.000</td>\n",
       "      <td>1.455</td>\n",
       "      <td>103.973</td>\n",
       "      <td>10000.000</td>\n",
       "      <td>1000.000</td>\n",
       "      <td>323.000</td>\n",
       "      <td>13.000</td>\n",
       "      <td>274.000</td>\n",
       "      <td>365.000</td>\n",
       "    </tr>\n",
       "  </tbody>\n",
       "</table>\n",
       "</div>"
      ],
      "text/plain": [
       "                id       host_id  latitude  longitude     price  \\\n",
       "count     7907.000      7907.000  7907.000   7907.000  7907.000   \n",
       "mean  23388624.630  91144807.405     1.314    103.849   169.333   \n",
       "std   10164162.066  81909095.305     0.031      0.044   340.188   \n",
       "min      49091.000     23666.000     1.244    103.647     0.000   \n",
       "25%   15821800.500  23058075.000     1.296    103.836    65.000   \n",
       "50%   24706270.000  63448912.000     1.311    103.849   124.000   \n",
       "75%   32348500.000 155381142.000     1.322    103.873   199.000   \n",
       "max   38112762.000 288567551.000     1.455    103.973 10000.000   \n",
       "\n",
       "       minimum_nights  number_of_reviews  reviews_per_month  \\\n",
       "count        7907.000           7907.000           5149.000   \n",
       "mean           17.510             12.807              1.044   \n",
       "std            42.095             29.708              1.286   \n",
       "min             1.000              0.000              0.010   \n",
       "25%             1.000              0.000              0.180   \n",
       "50%             3.000              2.000              0.550   \n",
       "75%            10.000             10.000              1.370   \n",
       "max          1000.000            323.000             13.000   \n",
       "\n",
       "       calculated_host_listings_count  availability_365  \n",
       "count                        7907.000          7907.000  \n",
       "mean                           40.608           208.726  \n",
       "std                            65.135           146.120  \n",
       "min                             1.000             0.000  \n",
       "25%                             2.000            54.000  \n",
       "50%                             9.000           260.000  \n",
       "75%                            48.000           355.000  \n",
       "max                           274.000           365.000  "
      ]
     },
     "execution_count": 201,
     "metadata": {},
     "output_type": "execute_result"
    }
   ],
   "source": [
    "dx.describe()"
   ]
  },
  {
   "cell_type": "code",
   "execution_count": 202,
   "metadata": {},
   "outputs": [
    {
     "data": {
      "text/plain": [
       "id                                   0\n",
       "name                                 2\n",
       "host_id                              0\n",
       "host_name                            0\n",
       "neighbourhood_group                  0\n",
       "latitude                             0\n",
       "longitude                            0\n",
       "room_type                            0\n",
       "price                                0\n",
       "minimum_nights                       0\n",
       "number_of_reviews                    0\n",
       "last_review                       2758\n",
       "reviews_per_month                 2758\n",
       "calculated_host_listings_count       0\n",
       "availability_365                     0\n",
       "dtype: int64"
      ]
     },
     "execution_count": 202,
     "metadata": {},
     "output_type": "execute_result"
    }
   ],
   "source": [
    "dx.isnull().sum()"
   ]
  },
  {
   "cell_type": "code",
   "execution_count": 203,
   "metadata": {},
   "outputs": [
    {
     "data": {
      "text/plain": [
       "id                                0.000\n",
       "name                              0.030\n",
       "host_id                           0.000\n",
       "host_name                         0.000\n",
       "neighbourhood_group               0.000\n",
       "latitude                          0.000\n",
       "longitude                         0.000\n",
       "room_type                         0.000\n",
       "price                             0.000\n",
       "minimum_nights                    0.000\n",
       "number_of_reviews                 0.000\n",
       "last_review                      34.880\n",
       "reviews_per_month                34.880\n",
       "calculated_host_listings_count    0.000\n",
       "availability_365                  0.000\n",
       "dtype: float64"
      ]
     },
     "execution_count": 203,
     "metadata": {},
     "output_type": "execute_result"
    }
   ],
   "source": [
    "round(100*(dx.isnull().sum()/len(dx.index)),2)"
   ]
  },
  {
   "cell_type": "code",
   "execution_count": 204,
   "metadata": {},
   "outputs": [
    {
     "data": {
      "text/plain": [
       "1002"
      ]
     },
     "execution_count": 204,
     "metadata": {},
     "output_type": "execute_result"
    }
   ],
   "source": [
    "len(dx['last_review'].unique())"
   ]
  },
  {
   "cell_type": "code",
   "execution_count": 205,
   "metadata": {},
   "outputs": [
    {
     "data": {
      "text/plain": [
       "528"
      ]
     },
     "execution_count": 205,
     "metadata": {},
     "output_type": "execute_result"
    }
   ],
   "source": [
    "len(dx['reviews_per_month'].unique())"
   ]
  },
  {
   "cell_type": "code",
   "execution_count": 206,
   "metadata": {
    "scrolled": true
   },
   "outputs": [
    {
     "name": "stdout",
     "output_type": "stream",
     "text": [
      "name has 7456 categories\n",
      "host_name has 1833 categories\n",
      "neighbourhood_group has 5 categories\n",
      "room_type has 3 categories\n",
      "last_review has 1002 categories\n"
     ]
    }
   ],
   "source": [
    "for i in dx.columns:\n",
    "    if dx[i].dtype=='O':\n",
    "        print(i,'has',len(dx[i].unique()),'categories')"
   ]
  },
  {
   "cell_type": "code",
   "execution_count": 207,
   "metadata": {},
   "outputs": [],
   "source": [
    "dx['reviews_per_month'].fillna(0,inplace=True)"
   ]
  },
  {
   "cell_type": "code",
   "execution_count": 208,
   "metadata": {
    "scrolled": true
   },
   "outputs": [
    {
     "data": {
      "text/plain": [
       "id                                   0\n",
       "name                                 1\n",
       "host_id                              0\n",
       "host_name                            0\n",
       "neighbourhood_group                  0\n",
       "latitude                             0\n",
       "longitude                            0\n",
       "room_type                            0\n",
       "price                                0\n",
       "minimum_nights                       0\n",
       "number_of_reviews                    0\n",
       "last_review                       2758\n",
       "reviews_per_month                    0\n",
       "calculated_host_listings_count       0\n",
       "availability_365                     0\n",
       "dtype: int64"
      ]
     },
     "execution_count": 208,
     "metadata": {},
     "output_type": "execute_result"
    }
   ],
   "source": [
    "(dx[dx['reviews_per_month']==0]).isnull().sum()"
   ]
  },
  {
   "cell_type": "code",
   "execution_count": 209,
   "metadata": {},
   "outputs": [
    {
     "data": {
      "text/plain": [
       "array(['10/21/2013', '12/26/2014', '10/1/2015', ..., '4/9/2019',\n",
       "       '6/17/2019', '3/22/2019'], dtype=object)"
      ]
     },
     "execution_count": 209,
     "metadata": {},
     "output_type": "execute_result"
    }
   ],
   "source": [
    "dx['last_review'].unique()"
   ]
  },
  {
   "cell_type": "code",
   "execution_count": 210,
   "metadata": {},
   "outputs": [],
   "source": [
    "#dx['Last_review'].isnull().sum()"
   ]
  },
  {
   "cell_type": "code",
   "execution_count": 211,
   "metadata": {},
   "outputs": [],
   "source": [
    "dx['Year']=dx['last_review'].copy()"
   ]
  },
  {
   "cell_type": "code",
   "execution_count": 212,
   "metadata": {},
   "outputs": [
    {
     "data": {
      "text/plain": [
       "2758"
      ]
     },
     "execution_count": 212,
     "metadata": {},
     "output_type": "execute_result"
    }
   ],
   "source": [
    "dx['Year'].isnull().sum()"
   ]
  },
  {
   "cell_type": "code",
   "execution_count": 213,
   "metadata": {},
   "outputs": [
    {
     "data": {
      "text/plain": [
       "0    10/21/2013\n",
       "1    12/26/2014\n",
       "Name: Year, dtype: object"
      ]
     },
     "execution_count": 213,
     "metadata": {},
     "output_type": "execute_result"
    }
   ],
   "source": [
    "dx['Year'].head(2)"
   ]
  },
  {
   "cell_type": "code",
   "execution_count": 214,
   "metadata": {},
   "outputs": [
    {
     "data": {
      "text/html": [
       "<div>\n",
       "<style scoped>\n",
       "    .dataframe tbody tr th:only-of-type {\n",
       "        vertical-align: middle;\n",
       "    }\n",
       "\n",
       "    .dataframe tbody tr th {\n",
       "        vertical-align: top;\n",
       "    }\n",
       "\n",
       "    .dataframe thead th {\n",
       "        text-align: right;\n",
       "    }\n",
       "</style>\n",
       "<table border=\"1\" class=\"dataframe\">\n",
       "  <thead>\n",
       "    <tr style=\"text-align: right;\">\n",
       "      <th></th>\n",
       "      <th>id</th>\n",
       "      <th>name</th>\n",
       "      <th>host_id</th>\n",
       "      <th>host_name</th>\n",
       "      <th>neighbourhood_group</th>\n",
       "      <th>latitude</th>\n",
       "      <th>longitude</th>\n",
       "      <th>room_type</th>\n",
       "      <th>price</th>\n",
       "      <th>minimum_nights</th>\n",
       "      <th>number_of_reviews</th>\n",
       "      <th>last_review</th>\n",
       "      <th>reviews_per_month</th>\n",
       "      <th>calculated_host_listings_count</th>\n",
       "      <th>availability_365</th>\n",
       "      <th>Year</th>\n",
       "    </tr>\n",
       "  </thead>\n",
       "  <tbody>\n",
       "    <tr>\n",
       "      <th>0</th>\n",
       "      <td>49091</td>\n",
       "      <td>COZICOMFORT LONG TERM STAY ROOM 2</td>\n",
       "      <td>266763</td>\n",
       "      <td>Francesca</td>\n",
       "      <td>North Region</td>\n",
       "      <td>1.443</td>\n",
       "      <td>103.796</td>\n",
       "      <td>Private room</td>\n",
       "      <td>83</td>\n",
       "      <td>180</td>\n",
       "      <td>1</td>\n",
       "      <td>10/21/2013</td>\n",
       "      <td>0.010</td>\n",
       "      <td>2</td>\n",
       "      <td>365</td>\n",
       "      <td>10/21/2013</td>\n",
       "    </tr>\n",
       "    <tr>\n",
       "      <th>1</th>\n",
       "      <td>50646</td>\n",
       "      <td>Pleasant Room along Bukit Timah</td>\n",
       "      <td>227796</td>\n",
       "      <td>Sujatha</td>\n",
       "      <td>Central Region</td>\n",
       "      <td>1.332</td>\n",
       "      <td>103.785</td>\n",
       "      <td>Private room</td>\n",
       "      <td>81</td>\n",
       "      <td>90</td>\n",
       "      <td>18</td>\n",
       "      <td>12/26/2014</td>\n",
       "      <td>0.280</td>\n",
       "      <td>1</td>\n",
       "      <td>365</td>\n",
       "      <td>12/26/2014</td>\n",
       "    </tr>\n",
       "    <tr>\n",
       "      <th>2</th>\n",
       "      <td>56334</td>\n",
       "      <td>COZICOMFORT</td>\n",
       "      <td>266763</td>\n",
       "      <td>Francesca</td>\n",
       "      <td>North Region</td>\n",
       "      <td>1.442</td>\n",
       "      <td>103.797</td>\n",
       "      <td>Private room</td>\n",
       "      <td>69</td>\n",
       "      <td>6</td>\n",
       "      <td>20</td>\n",
       "      <td>10/1/2015</td>\n",
       "      <td>0.200</td>\n",
       "      <td>2</td>\n",
       "      <td>365</td>\n",
       "      <td>10/1/2015</td>\n",
       "    </tr>\n",
       "    <tr>\n",
       "      <th>3</th>\n",
       "      <td>71609</td>\n",
       "      <td>Ensuite Room (Room 1 &amp; 2) near EXPO</td>\n",
       "      <td>367042</td>\n",
       "      <td>Belinda</td>\n",
       "      <td>East Region</td>\n",
       "      <td>1.345</td>\n",
       "      <td>103.957</td>\n",
       "      <td>Private room</td>\n",
       "      <td>206</td>\n",
       "      <td>1</td>\n",
       "      <td>14</td>\n",
       "      <td>8/11/2019</td>\n",
       "      <td>0.150</td>\n",
       "      <td>9</td>\n",
       "      <td>353</td>\n",
       "      <td>8/11/2019</td>\n",
       "    </tr>\n",
       "    <tr>\n",
       "      <th>4</th>\n",
       "      <td>71896</td>\n",
       "      <td>B&amp;B  Room 1 near Airport &amp; EXPO</td>\n",
       "      <td>367042</td>\n",
       "      <td>Belinda</td>\n",
       "      <td>East Region</td>\n",
       "      <td>1.346</td>\n",
       "      <td>103.960</td>\n",
       "      <td>Private room</td>\n",
       "      <td>94</td>\n",
       "      <td>1</td>\n",
       "      <td>22</td>\n",
       "      <td>7/28/2019</td>\n",
       "      <td>0.220</td>\n",
       "      <td>9</td>\n",
       "      <td>355</td>\n",
       "      <td>7/28/2019</td>\n",
       "    </tr>\n",
       "  </tbody>\n",
       "</table>\n",
       "</div>"
      ],
      "text/plain": [
       "      id                                 name  host_id  host_name  \\\n",
       "0  49091    COZICOMFORT LONG TERM STAY ROOM 2   266763  Francesca   \n",
       "1  50646      Pleasant Room along Bukit Timah   227796    Sujatha   \n",
       "2  56334                          COZICOMFORT   266763  Francesca   \n",
       "3  71609  Ensuite Room (Room 1 & 2) near EXPO   367042    Belinda   \n",
       "4  71896      B&B  Room 1 near Airport & EXPO   367042    Belinda   \n",
       "\n",
       "  neighbourhood_group  latitude  longitude     room_type  price  \\\n",
       "0        North Region     1.443    103.796  Private room     83   \n",
       "1      Central Region     1.332    103.785  Private room     81   \n",
       "2        North Region     1.442    103.797  Private room     69   \n",
       "3         East Region     1.345    103.957  Private room    206   \n",
       "4         East Region     1.346    103.960  Private room     94   \n",
       "\n",
       "   minimum_nights  number_of_reviews last_review  reviews_per_month  \\\n",
       "0             180                  1  10/21/2013              0.010   \n",
       "1              90                 18  12/26/2014              0.280   \n",
       "2               6                 20   10/1/2015              0.200   \n",
       "3               1                 14   8/11/2019              0.150   \n",
       "4               1                 22   7/28/2019              0.220   \n",
       "\n",
       "   calculated_host_listings_count  availability_365        Year  \n",
       "0                               2               365  10/21/2013  \n",
       "1                               1               365  12/26/2014  \n",
       "2                               2               365   10/1/2015  \n",
       "3                               9               353   8/11/2019  \n",
       "4                               9               355   7/28/2019  "
      ]
     },
     "execution_count": 214,
     "metadata": {},
     "output_type": "execute_result"
    }
   ],
   "source": [
    "dx.head(5)"
   ]
  },
  {
   "cell_type": "code",
   "execution_count": 215,
   "metadata": {},
   "outputs": [],
   "source": [
    "dx['Year'].fillna('0/00/0000',inplace=True)"
   ]
  },
  {
   "cell_type": "code",
   "execution_count": 216,
   "metadata": {},
   "outputs": [],
   "source": [
    "dx['Year']=dx['Year'].str.split('/')"
   ]
  },
  {
   "cell_type": "code",
   "execution_count": 217,
   "metadata": {},
   "outputs": [
    {
     "data": {
      "text/plain": [
       "0       [10, 21, 2013]\n",
       "1       [12, 26, 2014]\n",
       "2        [10, 1, 2015]\n",
       "3        [8, 11, 2019]\n",
       "4        [7, 28, 2019]\n",
       "             ...      \n",
       "7902     [0, 00, 0000]\n",
       "7903     [0, 00, 0000]\n",
       "7904     [0, 00, 0000]\n",
       "7905     [0, 00, 0000]\n",
       "7906     [0, 00, 0000]\n",
       "Name: Year, Length: 7907, dtype: object"
      ]
     },
     "execution_count": 217,
     "metadata": {},
     "output_type": "execute_result"
    }
   ],
   "source": [
    "dx['Year']"
   ]
  },
  {
   "cell_type": "code",
   "execution_count": 218,
   "metadata": {},
   "outputs": [],
   "source": [
    "#dx['last_review'].fillna('01/01/2012',inplace=True)"
   ]
  },
  {
   "cell_type": "code",
   "execution_count": 219,
   "metadata": {},
   "outputs": [],
   "source": [
    "dx['Year']=dx['Year'].apply(lambda x:x[2])"
   ]
  },
  {
   "cell_type": "code",
   "execution_count": 220,
   "metadata": {},
   "outputs": [],
   "source": [
    "dx['last_review'].fillna('01/01/2012',inplace=True)"
   ]
  },
  {
   "cell_type": "code",
   "execution_count": 221,
   "metadata": {},
   "outputs": [
    {
     "data": {
      "text/plain": [
       "id                                0\n",
       "name                              2\n",
       "host_id                           0\n",
       "host_name                         0\n",
       "neighbourhood_group               0\n",
       "latitude                          0\n",
       "longitude                         0\n",
       "room_type                         0\n",
       "price                             0\n",
       "minimum_nights                    0\n",
       "number_of_reviews                 0\n",
       "last_review                       0\n",
       "reviews_per_month                 0\n",
       "calculated_host_listings_count    0\n",
       "availability_365                  0\n",
       "Year                              0\n",
       "dtype: int64"
      ]
     },
     "execution_count": 221,
     "metadata": {},
     "output_type": "execute_result"
    }
   ],
   "source": [
    "dx.isnull().sum()"
   ]
  },
  {
   "cell_type": "code",
   "execution_count": 222,
   "metadata": {},
   "outputs": [
    {
     "data": {
      "text/plain": [
       "7907"
      ]
     },
     "execution_count": 222,
     "metadata": {},
     "output_type": "execute_result"
    }
   ],
   "source": [
    "len(dx['id'].unique())"
   ]
  },
  {
   "cell_type": "code",
   "execution_count": 223,
   "metadata": {},
   "outputs": [
    {
     "data": {
      "text/plain": [
       "2705"
      ]
     },
     "execution_count": 223,
     "metadata": {},
     "output_type": "execute_result"
    }
   ],
   "source": [
    "len(dx['host_id'].unique())"
   ]
  },
  {
   "cell_type": "code",
   "execution_count": 224,
   "metadata": {},
   "outputs": [
    {
     "data": {
      "text/plain": [
       "7456"
      ]
     },
     "execution_count": 224,
     "metadata": {},
     "output_type": "execute_result"
    }
   ],
   "source": [
    "len(dx['name'].unique())"
   ]
  },
  {
   "cell_type": "code",
   "execution_count": 225,
   "metadata": {},
   "outputs": [
    {
     "data": {
      "text/plain": [
       "1833"
      ]
     },
     "execution_count": 225,
     "metadata": {},
     "output_type": "execute_result"
    }
   ],
   "source": [
    "len(dx['host_name'].unique())"
   ]
  },
  {
   "cell_type": "code",
   "execution_count": 226,
   "metadata": {},
   "outputs": [],
   "source": [
    "dx.drop(['id','host_name','name'],axis=1,inplace=True)"
   ]
  },
  {
   "cell_type": "code",
   "execution_count": 227,
   "metadata": {
    "scrolled": true
   },
   "outputs": [
    {
     "data": {
      "text/plain": [
       "host_id                             int64\n",
       "neighbourhood_group                object\n",
       "latitude                          float64\n",
       "longitude                         float64\n",
       "room_type                          object\n",
       "price                               int64\n",
       "minimum_nights                      int64\n",
       "number_of_reviews                   int64\n",
       "last_review                        object\n",
       "reviews_per_month                 float64\n",
       "calculated_host_listings_count      int64\n",
       "availability_365                    int64\n",
       "Year                               object\n",
       "dtype: object"
      ]
     },
     "execution_count": 227,
     "metadata": {},
     "output_type": "execute_result"
    }
   ],
   "source": [
    "dx.dtypes\n"
   ]
  },
  {
   "cell_type": "code",
   "execution_count": 228,
   "metadata": {
    "scrolled": true
   },
   "outputs": [
    {
     "data": {
      "text/html": [
       "<div>\n",
       "<style scoped>\n",
       "    .dataframe tbody tr th:only-of-type {\n",
       "        vertical-align: middle;\n",
       "    }\n",
       "\n",
       "    .dataframe tbody tr th {\n",
       "        vertical-align: top;\n",
       "    }\n",
       "\n",
       "    .dataframe thead th {\n",
       "        text-align: right;\n",
       "    }\n",
       "</style>\n",
       "<table border=\"1\" class=\"dataframe\">\n",
       "  <thead>\n",
       "    <tr style=\"text-align: right;\">\n",
       "      <th></th>\n",
       "      <th>host_id</th>\n",
       "      <th>neighbourhood_group</th>\n",
       "      <th>latitude</th>\n",
       "      <th>longitude</th>\n",
       "      <th>room_type</th>\n",
       "      <th>price</th>\n",
       "      <th>minimum_nights</th>\n",
       "      <th>number_of_reviews</th>\n",
       "      <th>last_review</th>\n",
       "      <th>reviews_per_month</th>\n",
       "      <th>calculated_host_listings_count</th>\n",
       "      <th>availability_365</th>\n",
       "      <th>Year</th>\n",
       "    </tr>\n",
       "  </thead>\n",
       "  <tbody>\n",
       "    <tr>\n",
       "      <th>0</th>\n",
       "      <td>266763</td>\n",
       "      <td>North Region</td>\n",
       "      <td>1.443</td>\n",
       "      <td>103.796</td>\n",
       "      <td>Private room</td>\n",
       "      <td>83</td>\n",
       "      <td>180</td>\n",
       "      <td>1</td>\n",
       "      <td>10/21/2013</td>\n",
       "      <td>0.010</td>\n",
       "      <td>2</td>\n",
       "      <td>365</td>\n",
       "      <td>2013</td>\n",
       "    </tr>\n",
       "    <tr>\n",
       "      <th>1</th>\n",
       "      <td>227796</td>\n",
       "      <td>Central Region</td>\n",
       "      <td>1.332</td>\n",
       "      <td>103.785</td>\n",
       "      <td>Private room</td>\n",
       "      <td>81</td>\n",
       "      <td>90</td>\n",
       "      <td>18</td>\n",
       "      <td>12/26/2014</td>\n",
       "      <td>0.280</td>\n",
       "      <td>1</td>\n",
       "      <td>365</td>\n",
       "      <td>2014</td>\n",
       "    </tr>\n",
       "    <tr>\n",
       "      <th>2</th>\n",
       "      <td>266763</td>\n",
       "      <td>North Region</td>\n",
       "      <td>1.442</td>\n",
       "      <td>103.797</td>\n",
       "      <td>Private room</td>\n",
       "      <td>69</td>\n",
       "      <td>6</td>\n",
       "      <td>20</td>\n",
       "      <td>10/1/2015</td>\n",
       "      <td>0.200</td>\n",
       "      <td>2</td>\n",
       "      <td>365</td>\n",
       "      <td>2015</td>\n",
       "    </tr>\n",
       "    <tr>\n",
       "      <th>3</th>\n",
       "      <td>367042</td>\n",
       "      <td>East Region</td>\n",
       "      <td>1.345</td>\n",
       "      <td>103.957</td>\n",
       "      <td>Private room</td>\n",
       "      <td>206</td>\n",
       "      <td>1</td>\n",
       "      <td>14</td>\n",
       "      <td>8/11/2019</td>\n",
       "      <td>0.150</td>\n",
       "      <td>9</td>\n",
       "      <td>353</td>\n",
       "      <td>2019</td>\n",
       "    </tr>\n",
       "    <tr>\n",
       "      <th>4</th>\n",
       "      <td>367042</td>\n",
       "      <td>East Region</td>\n",
       "      <td>1.346</td>\n",
       "      <td>103.960</td>\n",
       "      <td>Private room</td>\n",
       "      <td>94</td>\n",
       "      <td>1</td>\n",
       "      <td>22</td>\n",
       "      <td>7/28/2019</td>\n",
       "      <td>0.220</td>\n",
       "      <td>9</td>\n",
       "      <td>355</td>\n",
       "      <td>2019</td>\n",
       "    </tr>\n",
       "    <tr>\n",
       "      <th>5</th>\n",
       "      <td>367042</td>\n",
       "      <td>East Region</td>\n",
       "      <td>1.347</td>\n",
       "      <td>103.961</td>\n",
       "      <td>Private room</td>\n",
       "      <td>104</td>\n",
       "      <td>1</td>\n",
       "      <td>39</td>\n",
       "      <td>8/15/2019</td>\n",
       "      <td>0.380</td>\n",
       "      <td>9</td>\n",
       "      <td>346</td>\n",
       "      <td>2019</td>\n",
       "    </tr>\n",
       "    <tr>\n",
       "      <th>6</th>\n",
       "      <td>367042</td>\n",
       "      <td>East Region</td>\n",
       "      <td>1.343</td>\n",
       "      <td>103.963</td>\n",
       "      <td>Private room</td>\n",
       "      <td>208</td>\n",
       "      <td>1</td>\n",
       "      <td>25</td>\n",
       "      <td>7/25/2019</td>\n",
       "      <td>0.250</td>\n",
       "      <td>9</td>\n",
       "      <td>172</td>\n",
       "      <td>2019</td>\n",
       "    </tr>\n",
       "    <tr>\n",
       "      <th>7</th>\n",
       "      <td>1017645</td>\n",
       "      <td>East Region</td>\n",
       "      <td>1.323</td>\n",
       "      <td>103.914</td>\n",
       "      <td>Private room</td>\n",
       "      <td>50</td>\n",
       "      <td>90</td>\n",
       "      <td>174</td>\n",
       "      <td>5/31/2019</td>\n",
       "      <td>1.880</td>\n",
       "      <td>4</td>\n",
       "      <td>59</td>\n",
       "      <td>2019</td>\n",
       "    </tr>\n",
       "    <tr>\n",
       "      <th>8</th>\n",
       "      <td>1017645</td>\n",
       "      <td>East Region</td>\n",
       "      <td>1.325</td>\n",
       "      <td>103.912</td>\n",
       "      <td>Private room</td>\n",
       "      <td>54</td>\n",
       "      <td>90</td>\n",
       "      <td>198</td>\n",
       "      <td>4/28/2019</td>\n",
       "      <td>2.080</td>\n",
       "      <td>4</td>\n",
       "      <td>133</td>\n",
       "      <td>2019</td>\n",
       "    </tr>\n",
       "    <tr>\n",
       "      <th>9</th>\n",
       "      <td>1017645</td>\n",
       "      <td>East Region</td>\n",
       "      <td>1.325</td>\n",
       "      <td>103.912</td>\n",
       "      <td>Private room</td>\n",
       "      <td>42</td>\n",
       "      <td>90</td>\n",
       "      <td>236</td>\n",
       "      <td>7/31/2019</td>\n",
       "      <td>2.530</td>\n",
       "      <td>4</td>\n",
       "      <td>147</td>\n",
       "      <td>2019</td>\n",
       "    </tr>\n",
       "    <tr>\n",
       "      <th>10</th>\n",
       "      <td>1439258</td>\n",
       "      <td>Central Region</td>\n",
       "      <td>1.289</td>\n",
       "      <td>103.808</td>\n",
       "      <td>Private room</td>\n",
       "      <td>44</td>\n",
       "      <td>15</td>\n",
       "      <td>18</td>\n",
       "      <td>4/21/2019</td>\n",
       "      <td>0.230</td>\n",
       "      <td>32</td>\n",
       "      <td>331</td>\n",
       "      <td>2019</td>\n",
       "    </tr>\n",
       "    <tr>\n",
       "      <th>11</th>\n",
       "      <td>1439258</td>\n",
       "      <td>Central Region</td>\n",
       "      <td>1.288</td>\n",
       "      <td>103.811</td>\n",
       "      <td>Private room</td>\n",
       "      <td>40</td>\n",
       "      <td>30</td>\n",
       "      <td>10</td>\n",
       "      <td>9/13/2018</td>\n",
       "      <td>0.110</td>\n",
       "      <td>32</td>\n",
       "      <td>276</td>\n",
       "      <td>2018</td>\n",
       "    </tr>\n",
       "    <tr>\n",
       "      <th>12</th>\n",
       "      <td>367042</td>\n",
       "      <td>East Region</td>\n",
       "      <td>1.346</td>\n",
       "      <td>103.960</td>\n",
       "      <td>Private room</td>\n",
       "      <td>417</td>\n",
       "      <td>2</td>\n",
       "      <td>12</td>\n",
       "      <td>1/1/2019</td>\n",
       "      <td>0.140</td>\n",
       "      <td>9</td>\n",
       "      <td>239</td>\n",
       "      <td>2019</td>\n",
       "    </tr>\n",
       "    <tr>\n",
       "      <th>13</th>\n",
       "      <td>1521514</td>\n",
       "      <td>Central Region</td>\n",
       "      <td>1.311</td>\n",
       "      <td>103.838</td>\n",
       "      <td>Private room</td>\n",
       "      <td>65</td>\n",
       "      <td>2</td>\n",
       "      <td>125</td>\n",
       "      <td>8/22/2019</td>\n",
       "      <td>1.350</td>\n",
       "      <td>6</td>\n",
       "      <td>336</td>\n",
       "      <td>2019</td>\n",
       "    </tr>\n",
       "    <tr>\n",
       "      <th>14</th>\n",
       "      <td>1439258</td>\n",
       "      <td>Central Region</td>\n",
       "      <td>1.290</td>\n",
       "      <td>103.809</td>\n",
       "      <td>Private room</td>\n",
       "      <td>44</td>\n",
       "      <td>30</td>\n",
       "      <td>13</td>\n",
       "      <td>2/2/2019</td>\n",
       "      <td>0.150</td>\n",
       "      <td>32</td>\n",
       "      <td>340</td>\n",
       "      <td>2019</td>\n",
       "    </tr>\n",
       "    <tr>\n",
       "      <th>15</th>\n",
       "      <td>1439258</td>\n",
       "      <td>Central Region</td>\n",
       "      <td>1.287</td>\n",
       "      <td>103.812</td>\n",
       "      <td>Private room</td>\n",
       "      <td>40</td>\n",
       "      <td>30</td>\n",
       "      <td>10</td>\n",
       "      <td>4/27/2019</td>\n",
       "      <td>0.140</td>\n",
       "      <td>32</td>\n",
       "      <td>331</td>\n",
       "      <td>2019</td>\n",
       "    </tr>\n",
       "    <tr>\n",
       "      <th>16</th>\n",
       "      <td>1439258</td>\n",
       "      <td>Central Region</td>\n",
       "      <td>1.285</td>\n",
       "      <td>103.811</td>\n",
       "      <td>Private room</td>\n",
       "      <td>31</td>\n",
       "      <td>90</td>\n",
       "      <td>3</td>\n",
       "      <td>8/22/2016</td>\n",
       "      <td>0.040</td>\n",
       "      <td>32</td>\n",
       "      <td>361</td>\n",
       "      <td>2016</td>\n",
       "    </tr>\n",
       "    <tr>\n",
       "      <th>17</th>\n",
       "      <td>367042</td>\n",
       "      <td>East Region</td>\n",
       "      <td>1.349</td>\n",
       "      <td>103.960</td>\n",
       "      <td>Private room</td>\n",
       "      <td>49</td>\n",
       "      <td>2</td>\n",
       "      <td>45</td>\n",
       "      <td>8/11/2019</td>\n",
       "      <td>0.500</td>\n",
       "      <td>9</td>\n",
       "      <td>357</td>\n",
       "      <td>2019</td>\n",
       "    </tr>\n",
       "    <tr>\n",
       "      <th>18</th>\n",
       "      <td>1759905</td>\n",
       "      <td>Central Region</td>\n",
       "      <td>1.314</td>\n",
       "      <td>103.902</td>\n",
       "      <td>Private room</td>\n",
       "      <td>81</td>\n",
       "      <td>90</td>\n",
       "      <td>0</td>\n",
       "      <td>01/01/2012</td>\n",
       "      <td>0.000</td>\n",
       "      <td>1</td>\n",
       "      <td>173</td>\n",
       "      <td>0000</td>\n",
       "    </tr>\n",
       "    <tr>\n",
       "      <th>19</th>\n",
       "      <td>1521514</td>\n",
       "      <td>Central Region</td>\n",
       "      <td>1.312</td>\n",
       "      <td>103.838</td>\n",
       "      <td>Private room</td>\n",
       "      <td>60</td>\n",
       "      <td>2</td>\n",
       "      <td>84</td>\n",
       "      <td>7/10/2019</td>\n",
       "      <td>1.170</td>\n",
       "      <td>6</td>\n",
       "      <td>340</td>\n",
       "      <td>2019</td>\n",
       "    </tr>\n",
       "  </tbody>\n",
       "</table>\n",
       "</div>"
      ],
      "text/plain": [
       "    host_id neighbourhood_group  latitude  longitude     room_type  price  \\\n",
       "0    266763        North Region     1.443    103.796  Private room     83   \n",
       "1    227796      Central Region     1.332    103.785  Private room     81   \n",
       "2    266763        North Region     1.442    103.797  Private room     69   \n",
       "3    367042         East Region     1.345    103.957  Private room    206   \n",
       "4    367042         East Region     1.346    103.960  Private room     94   \n",
       "5    367042         East Region     1.347    103.961  Private room    104   \n",
       "6    367042         East Region     1.343    103.963  Private room    208   \n",
       "7   1017645         East Region     1.323    103.914  Private room     50   \n",
       "8   1017645         East Region     1.325    103.912  Private room     54   \n",
       "9   1017645         East Region     1.325    103.912  Private room     42   \n",
       "10  1439258      Central Region     1.289    103.808  Private room     44   \n",
       "11  1439258      Central Region     1.288    103.811  Private room     40   \n",
       "12   367042         East Region     1.346    103.960  Private room    417   \n",
       "13  1521514      Central Region     1.311    103.838  Private room     65   \n",
       "14  1439258      Central Region     1.290    103.809  Private room     44   \n",
       "15  1439258      Central Region     1.287    103.812  Private room     40   \n",
       "16  1439258      Central Region     1.285    103.811  Private room     31   \n",
       "17   367042         East Region     1.349    103.960  Private room     49   \n",
       "18  1759905      Central Region     1.314    103.902  Private room     81   \n",
       "19  1521514      Central Region     1.312    103.838  Private room     60   \n",
       "\n",
       "    minimum_nights  number_of_reviews last_review  reviews_per_month  \\\n",
       "0              180                  1  10/21/2013              0.010   \n",
       "1               90                 18  12/26/2014              0.280   \n",
       "2                6                 20   10/1/2015              0.200   \n",
       "3                1                 14   8/11/2019              0.150   \n",
       "4                1                 22   7/28/2019              0.220   \n",
       "5                1                 39   8/15/2019              0.380   \n",
       "6                1                 25   7/25/2019              0.250   \n",
       "7               90                174   5/31/2019              1.880   \n",
       "8               90                198   4/28/2019              2.080   \n",
       "9               90                236   7/31/2019              2.530   \n",
       "10              15                 18   4/21/2019              0.230   \n",
       "11              30                 10   9/13/2018              0.110   \n",
       "12               2                 12    1/1/2019              0.140   \n",
       "13               2                125   8/22/2019              1.350   \n",
       "14              30                 13    2/2/2019              0.150   \n",
       "15              30                 10   4/27/2019              0.140   \n",
       "16              90                  3   8/22/2016              0.040   \n",
       "17               2                 45   8/11/2019              0.500   \n",
       "18              90                  0  01/01/2012              0.000   \n",
       "19               2                 84   7/10/2019              1.170   \n",
       "\n",
       "    calculated_host_listings_count  availability_365  Year  \n",
       "0                                2               365  2013  \n",
       "1                                1               365  2014  \n",
       "2                                2               365  2015  \n",
       "3                                9               353  2019  \n",
       "4                                9               355  2019  \n",
       "5                                9               346  2019  \n",
       "6                                9               172  2019  \n",
       "7                                4                59  2019  \n",
       "8                                4               133  2019  \n",
       "9                                4               147  2019  \n",
       "10                              32               331  2019  \n",
       "11                              32               276  2018  \n",
       "12                               9               239  2019  \n",
       "13                               6               336  2019  \n",
       "14                              32               340  2019  \n",
       "15                              32               331  2019  \n",
       "16                              32               361  2016  \n",
       "17                               9               357  2019  \n",
       "18                               1               173  0000  \n",
       "19                               6               340  2019  "
      ]
     },
     "execution_count": 228,
     "metadata": {},
     "output_type": "execute_result"
    }
   ],
   "source": [
    "dx.head(20)"
   ]
  },
  {
   "cell_type": "code",
   "execution_count": 229,
   "metadata": {},
   "outputs": [],
   "source": [
    "dx['last_review']=pd.to_datetime(dx['last_review'],infer_datetime_format=True)"
   ]
  },
  {
   "cell_type": "code",
   "execution_count": 230,
   "metadata": {},
   "outputs": [],
   "source": [
    "dx['Year']=dx['Year'].astype('int64')"
   ]
  },
  {
   "cell_type": "code",
   "execution_count": 231,
   "metadata": {},
   "outputs": [
    {
     "data": {
      "text/plain": [
       "0       2013\n",
       "1       2014\n",
       "2       2015\n",
       "3       2019\n",
       "4       2019\n",
       "        ... \n",
       "7902       0\n",
       "7903       0\n",
       "7904       0\n",
       "7905       0\n",
       "7906       0\n",
       "Name: Year, Length: 7907, dtype: int64"
      ]
     },
     "execution_count": 231,
     "metadata": {},
     "output_type": "execute_result"
    }
   ],
   "source": [
    "dx['Year']"
   ]
  },
  {
   "cell_type": "code",
   "execution_count": 232,
   "metadata": {},
   "outputs": [
    {
     "data": {
      "text/plain": [
       "host_id                                    int64\n",
       "neighbourhood_group                       object\n",
       "latitude                                 float64\n",
       "longitude                                float64\n",
       "room_type                                 object\n",
       "price                                      int64\n",
       "minimum_nights                             int64\n",
       "number_of_reviews                          int64\n",
       "last_review                       datetime64[ns]\n",
       "reviews_per_month                        float64\n",
       "calculated_host_listings_count             int64\n",
       "availability_365                           int64\n",
       "Year                                       int64\n",
       "dtype: object"
      ]
     },
     "execution_count": 232,
     "metadata": {},
     "output_type": "execute_result"
    }
   ],
   "source": [
    "dx.dtypes"
   ]
  },
  {
   "cell_type": "code",
   "execution_count": 233,
   "metadata": {},
   "outputs": [],
   "source": [
    "for i in dx.columns:\n",
    "   if dx[i].dtype=='O':\n",
    "        dx=pd.concat([dx,pd.get_dummies(dx[i],prefix=i,drop_first=True)],axis=1)\n",
    "        dx=dx.drop(i,axis=1)\n",
    "    "
   ]
  },
  {
   "cell_type": "code",
   "execution_count": null,
   "metadata": {},
   "outputs": [],
   "source": []
  },
  {
   "cell_type": "code",
   "execution_count": 234,
   "metadata": {},
   "outputs": [
    {
     "data": {
      "text/html": [
       "<div>\n",
       "<style scoped>\n",
       "    .dataframe tbody tr th:only-of-type {\n",
       "        vertical-align: middle;\n",
       "    }\n",
       "\n",
       "    .dataframe tbody tr th {\n",
       "        vertical-align: top;\n",
       "    }\n",
       "\n",
       "    .dataframe thead th {\n",
       "        text-align: right;\n",
       "    }\n",
       "</style>\n",
       "<table border=\"1\" class=\"dataframe\">\n",
       "  <thead>\n",
       "    <tr style=\"text-align: right;\">\n",
       "      <th></th>\n",
       "      <th>host_id</th>\n",
       "      <th>latitude</th>\n",
       "      <th>longitude</th>\n",
       "      <th>price</th>\n",
       "      <th>minimum_nights</th>\n",
       "      <th>number_of_reviews</th>\n",
       "      <th>last_review</th>\n",
       "      <th>reviews_per_month</th>\n",
       "      <th>calculated_host_listings_count</th>\n",
       "      <th>availability_365</th>\n",
       "      <th>Year</th>\n",
       "      <th>neighbourhood_group_East Region</th>\n",
       "      <th>neighbourhood_group_North Region</th>\n",
       "      <th>neighbourhood_group_North-East Region</th>\n",
       "      <th>neighbourhood_group_West Region</th>\n",
       "      <th>room_type_Private room</th>\n",
       "      <th>room_type_Shared room</th>\n",
       "    </tr>\n",
       "  </thead>\n",
       "  <tbody>\n",
       "    <tr>\n",
       "      <th>0</th>\n",
       "      <td>266763</td>\n",
       "      <td>1.443</td>\n",
       "      <td>103.796</td>\n",
       "      <td>83</td>\n",
       "      <td>180</td>\n",
       "      <td>1</td>\n",
       "      <td>2013-10-21</td>\n",
       "      <td>0.010</td>\n",
       "      <td>2</td>\n",
       "      <td>365</td>\n",
       "      <td>2013</td>\n",
       "      <td>0</td>\n",
       "      <td>1</td>\n",
       "      <td>0</td>\n",
       "      <td>0</td>\n",
       "      <td>1</td>\n",
       "      <td>0</td>\n",
       "    </tr>\n",
       "    <tr>\n",
       "      <th>1</th>\n",
       "      <td>227796</td>\n",
       "      <td>1.332</td>\n",
       "      <td>103.785</td>\n",
       "      <td>81</td>\n",
       "      <td>90</td>\n",
       "      <td>18</td>\n",
       "      <td>2014-12-26</td>\n",
       "      <td>0.280</td>\n",
       "      <td>1</td>\n",
       "      <td>365</td>\n",
       "      <td>2014</td>\n",
       "      <td>0</td>\n",
       "      <td>0</td>\n",
       "      <td>0</td>\n",
       "      <td>0</td>\n",
       "      <td>1</td>\n",
       "      <td>0</td>\n",
       "    </tr>\n",
       "    <tr>\n",
       "      <th>2</th>\n",
       "      <td>266763</td>\n",
       "      <td>1.442</td>\n",
       "      <td>103.797</td>\n",
       "      <td>69</td>\n",
       "      <td>6</td>\n",
       "      <td>20</td>\n",
       "      <td>2015-10-01</td>\n",
       "      <td>0.200</td>\n",
       "      <td>2</td>\n",
       "      <td>365</td>\n",
       "      <td>2015</td>\n",
       "      <td>0</td>\n",
       "      <td>1</td>\n",
       "      <td>0</td>\n",
       "      <td>0</td>\n",
       "      <td>1</td>\n",
       "      <td>0</td>\n",
       "    </tr>\n",
       "    <tr>\n",
       "      <th>3</th>\n",
       "      <td>367042</td>\n",
       "      <td>1.345</td>\n",
       "      <td>103.957</td>\n",
       "      <td>206</td>\n",
       "      <td>1</td>\n",
       "      <td>14</td>\n",
       "      <td>2019-08-11</td>\n",
       "      <td>0.150</td>\n",
       "      <td>9</td>\n",
       "      <td>353</td>\n",
       "      <td>2019</td>\n",
       "      <td>1</td>\n",
       "      <td>0</td>\n",
       "      <td>0</td>\n",
       "      <td>0</td>\n",
       "      <td>1</td>\n",
       "      <td>0</td>\n",
       "    </tr>\n",
       "    <tr>\n",
       "      <th>4</th>\n",
       "      <td>367042</td>\n",
       "      <td>1.346</td>\n",
       "      <td>103.960</td>\n",
       "      <td>94</td>\n",
       "      <td>1</td>\n",
       "      <td>22</td>\n",
       "      <td>2019-07-28</td>\n",
       "      <td>0.220</td>\n",
       "      <td>9</td>\n",
       "      <td>355</td>\n",
       "      <td>2019</td>\n",
       "      <td>1</td>\n",
       "      <td>0</td>\n",
       "      <td>0</td>\n",
       "      <td>0</td>\n",
       "      <td>1</td>\n",
       "      <td>0</td>\n",
       "    </tr>\n",
       "  </tbody>\n",
       "</table>\n",
       "</div>"
      ],
      "text/plain": [
       "   host_id  latitude  longitude  price  minimum_nights  number_of_reviews  \\\n",
       "0   266763     1.443    103.796     83             180                  1   \n",
       "1   227796     1.332    103.785     81              90                 18   \n",
       "2   266763     1.442    103.797     69               6                 20   \n",
       "3   367042     1.345    103.957    206               1                 14   \n",
       "4   367042     1.346    103.960     94               1                 22   \n",
       "\n",
       "  last_review  reviews_per_month  calculated_host_listings_count  \\\n",
       "0  2013-10-21              0.010                               2   \n",
       "1  2014-12-26              0.280                               1   \n",
       "2  2015-10-01              0.200                               2   \n",
       "3  2019-08-11              0.150                               9   \n",
       "4  2019-07-28              0.220                               9   \n",
       "\n",
       "   availability_365  Year  neighbourhood_group_East Region  \\\n",
       "0               365  2013                                0   \n",
       "1               365  2014                                0   \n",
       "2               365  2015                                0   \n",
       "3               353  2019                                1   \n",
       "4               355  2019                                1   \n",
       "\n",
       "   neighbourhood_group_North Region  neighbourhood_group_North-East Region  \\\n",
       "0                                 1                                      0   \n",
       "1                                 0                                      0   \n",
       "2                                 1                                      0   \n",
       "3                                 0                                      0   \n",
       "4                                 0                                      0   \n",
       "\n",
       "   neighbourhood_group_West Region  room_type_Private room  \\\n",
       "0                                0                       1   \n",
       "1                                0                       1   \n",
       "2                                0                       1   \n",
       "3                                0                       1   \n",
       "4                                0                       1   \n",
       "\n",
       "   room_type_Shared room  \n",
       "0                      0  \n",
       "1                      0  \n",
       "2                      0  \n",
       "3                      0  \n",
       "4                      0  "
      ]
     },
     "execution_count": 234,
     "metadata": {},
     "output_type": "execute_result"
    }
   ],
   "source": [
    "dx.head()"
   ]
  },
  {
   "cell_type": "code",
   "execution_count": 235,
   "metadata": {},
   "outputs": [
    {
     "data": {
      "text/plain": [
       "(7907, 17)"
      ]
     },
     "execution_count": 235,
     "metadata": {},
     "output_type": "execute_result"
    }
   ],
   "source": [
    "dx.shape"
   ]
  },
  {
   "cell_type": "code",
   "execution_count": null,
   "metadata": {},
   "outputs": [],
   "source": []
  },
  {
   "cell_type": "code",
   "execution_count": 236,
   "metadata": {},
   "outputs": [
    {
     "data": {
      "text/plain": [
       "<matplotlib.axes._subplots.AxesSubplot at 0x28c9d8a4ac0>"
      ]
     },
     "execution_count": 236,
     "metadata": {},
     "output_type": "execute_result"
    },
    {
     "data": {
      "image/png": "[encoded data removed]",
      "text/plain": [
       "<Figure size 720x720 with 1 Axes>"
      ]
     },
     "metadata": {
      "needs_background": "light"
     },
     "output_type": "display_data"
    }
   ],
   "source": [
    "#PREPROCESSING....checking for outlier\n",
    "\n",
    "plt.figure(figsize=(10,10))\n",
    "dx['price'].plot.box()"
   ]
  },
  {
   "cell_type": "code",
   "execution_count": 237,
   "metadata": {},
   "outputs": [],
   "source": [
    "dx['price'].values[dx['price'].values>400]=400"
   ]
  },
  {
   "cell_type": "code",
   "execution_count": 238,
   "metadata": {},
   "outputs": [
    {
     "data": {
      "text/html": [
       "<div>\n",
       "<style scoped>\n",
       "    .dataframe tbody tr th:only-of-type {\n",
       "        vertical-align: middle;\n",
       "    }\n",
       "\n",
       "    .dataframe tbody tr th {\n",
       "        vertical-align: top;\n",
       "    }\n",
       "\n",
       "    .dataframe thead th {\n",
       "        text-align: right;\n",
       "    }\n",
       "</style>\n",
       "<table border=\"1\" class=\"dataframe\">\n",
       "  <thead>\n",
       "    <tr style=\"text-align: right;\">\n",
       "      <th></th>\n",
       "      <th>host_id</th>\n",
       "      <th>latitude</th>\n",
       "      <th>longitude</th>\n",
       "      <th>price</th>\n",
       "      <th>minimum_nights</th>\n",
       "      <th>number_of_reviews</th>\n",
       "      <th>last_review</th>\n",
       "      <th>reviews_per_month</th>\n",
       "      <th>calculated_host_listings_count</th>\n",
       "      <th>availability_365</th>\n",
       "      <th>Year</th>\n",
       "      <th>neighbourhood_group_East Region</th>\n",
       "      <th>neighbourhood_group_North Region</th>\n",
       "      <th>neighbourhood_group_North-East Region</th>\n",
       "      <th>neighbourhood_group_West Region</th>\n",
       "      <th>room_type_Private room</th>\n",
       "      <th>room_type_Shared room</th>\n",
       "    </tr>\n",
       "  </thead>\n",
       "  <tbody>\n",
       "  </tbody>\n",
       "</table>\n",
       "</div>"
      ],
      "text/plain": [
       "Empty DataFrame\n",
       "Columns: [host_id, latitude, longitude, price, minimum_nights, number_of_reviews, last_review, reviews_per_month, calculated_host_listings_count, availability_365, Year, neighbourhood_group_East Region, neighbourhood_group_North Region, neighbourhood_group_North-East Region, neighbourhood_group_West Region, room_type_Private room, room_type_Shared room]\n",
       "Index: []"
      ]
     },
     "execution_count": 238,
     "metadata": {},
     "output_type": "execute_result"
    }
   ],
   "source": [
    "dx[dx['price']>400]"
   ]
  },
  {
   "cell_type": "code",
   "execution_count": 239,
   "metadata": {},
   "outputs": [],
   "source": [
    "dx['month']=dx['last_review'].dt.month"
   ]
  },
  {
   "cell_type": "code",
   "execution_count": 240,
   "metadata": {},
   "outputs": [
    {
     "data": {
      "text/html": [
       "<div>\n",
       "<style scoped>\n",
       "    .dataframe tbody tr th:only-of-type {\n",
       "        vertical-align: middle;\n",
       "    }\n",
       "\n",
       "    .dataframe tbody tr th {\n",
       "        vertical-align: top;\n",
       "    }\n",
       "\n",
       "    .dataframe thead th {\n",
       "        text-align: right;\n",
       "    }\n",
       "</style>\n",
       "<table border=\"1\" class=\"dataframe\">\n",
       "  <thead>\n",
       "    <tr style=\"text-align: right;\">\n",
       "      <th></th>\n",
       "      <th>month</th>\n",
       "    </tr>\n",
       "  </thead>\n",
       "  <tbody>\n",
       "    <tr>\n",
       "      <th>0</th>\n",
       "      <td>10</td>\n",
       "    </tr>\n",
       "    <tr>\n",
       "      <th>1</th>\n",
       "      <td>12</td>\n",
       "    </tr>\n",
       "    <tr>\n",
       "      <th>2</th>\n",
       "      <td>10</td>\n",
       "    </tr>\n",
       "    <tr>\n",
       "      <th>3</th>\n",
       "      <td>8</td>\n",
       "    </tr>\n",
       "    <tr>\n",
       "      <th>4</th>\n",
       "      <td>7</td>\n",
       "    </tr>\n",
       "    <tr>\n",
       "      <th>...</th>\n",
       "      <td>...</td>\n",
       "    </tr>\n",
       "    <tr>\n",
       "      <th>7902</th>\n",
       "      <td>1</td>\n",
       "    </tr>\n",
       "    <tr>\n",
       "      <th>7903</th>\n",
       "      <td>1</td>\n",
       "    </tr>\n",
       "    <tr>\n",
       "      <th>7904</th>\n",
       "      <td>1</td>\n",
       "    </tr>\n",
       "    <tr>\n",
       "      <th>7905</th>\n",
       "      <td>1</td>\n",
       "    </tr>\n",
       "    <tr>\n",
       "      <th>7906</th>\n",
       "      <td>1</td>\n",
       "    </tr>\n",
       "  </tbody>\n",
       "</table>\n",
       "<p>7907 rows × 1 columns</p>\n",
       "</div>"
      ],
      "text/plain": [
       "      month\n",
       "0        10\n",
       "1        12\n",
       "2        10\n",
       "3         8\n",
       "4         7\n",
       "...     ...\n",
       "7902      1\n",
       "7903      1\n",
       "7904      1\n",
       "7905      1\n",
       "7906      1\n",
       "\n",
       "[7907 rows x 1 columns]"
      ]
     },
     "execution_count": 240,
     "metadata": {},
     "output_type": "execute_result"
    }
   ],
   "source": [
    "dx['month'].to_frame()"
   ]
  },
  {
   "cell_type": "code",
   "execution_count": 241,
   "metadata": {},
   "outputs": [
    {
     "data": {
      "text/html": [
       "<div>\n",
       "<style scoped>\n",
       "    .dataframe tbody tr th:only-of-type {\n",
       "        vertical-align: middle;\n",
       "    }\n",
       "\n",
       "    .dataframe tbody tr th {\n",
       "        vertical-align: top;\n",
       "    }\n",
       "\n",
       "    .dataframe thead th {\n",
       "        text-align: right;\n",
       "    }\n",
       "</style>\n",
       "<table border=\"1\" class=\"dataframe\">\n",
       "  <thead>\n",
       "    <tr style=\"text-align: right;\">\n",
       "      <th></th>\n",
       "      <th>host_id</th>\n",
       "      <th>latitude</th>\n",
       "      <th>longitude</th>\n",
       "      <th>price</th>\n",
       "      <th>minimum_nights</th>\n",
       "      <th>number_of_reviews</th>\n",
       "      <th>last_review</th>\n",
       "      <th>reviews_per_month</th>\n",
       "      <th>calculated_host_listings_count</th>\n",
       "      <th>availability_365</th>\n",
       "      <th>Year</th>\n",
       "      <th>neighbourhood_group_East Region</th>\n",
       "      <th>neighbourhood_group_North Region</th>\n",
       "      <th>neighbourhood_group_North-East Region</th>\n",
       "      <th>neighbourhood_group_West Region</th>\n",
       "      <th>room_type_Private room</th>\n",
       "      <th>room_type_Shared room</th>\n",
       "      <th>month</th>\n",
       "    </tr>\n",
       "  </thead>\n",
       "  <tbody>\n",
       "    <tr>\n",
       "      <th>0</th>\n",
       "      <td>266763</td>\n",
       "      <td>1.443</td>\n",
       "      <td>103.796</td>\n",
       "      <td>83</td>\n",
       "      <td>180</td>\n",
       "      <td>1</td>\n",
       "      <td>2013-10-21</td>\n",
       "      <td>0.010</td>\n",
       "      <td>2</td>\n",
       "      <td>365</td>\n",
       "      <td>2013</td>\n",
       "      <td>0</td>\n",
       "      <td>1</td>\n",
       "      <td>0</td>\n",
       "      <td>0</td>\n",
       "      <td>1</td>\n",
       "      <td>0</td>\n",
       "      <td>10</td>\n",
       "    </tr>\n",
       "    <tr>\n",
       "      <th>1</th>\n",
       "      <td>227796</td>\n",
       "      <td>1.332</td>\n",
       "      <td>103.785</td>\n",
       "      <td>81</td>\n",
       "      <td>90</td>\n",
       "      <td>18</td>\n",
       "      <td>2014-12-26</td>\n",
       "      <td>0.280</td>\n",
       "      <td>1</td>\n",
       "      <td>365</td>\n",
       "      <td>2014</td>\n",
       "      <td>0</td>\n",
       "      <td>0</td>\n",
       "      <td>0</td>\n",
       "      <td>0</td>\n",
       "      <td>1</td>\n",
       "      <td>0</td>\n",
       "      <td>12</td>\n",
       "    </tr>\n",
       "    <tr>\n",
       "      <th>2</th>\n",
       "      <td>266763</td>\n",
       "      <td>1.442</td>\n",
       "      <td>103.797</td>\n",
       "      <td>69</td>\n",
       "      <td>6</td>\n",
       "      <td>20</td>\n",
       "      <td>2015-10-01</td>\n",
       "      <td>0.200</td>\n",
       "      <td>2</td>\n",
       "      <td>365</td>\n",
       "      <td>2015</td>\n",
       "      <td>0</td>\n",
       "      <td>1</td>\n",
       "      <td>0</td>\n",
       "      <td>0</td>\n",
       "      <td>1</td>\n",
       "      <td>0</td>\n",
       "      <td>10</td>\n",
       "    </tr>\n",
       "    <tr>\n",
       "      <th>3</th>\n",
       "      <td>367042</td>\n",
       "      <td>1.345</td>\n",
       "      <td>103.957</td>\n",
       "      <td>206</td>\n",
       "      <td>1</td>\n",
       "      <td>14</td>\n",
       "      <td>2019-08-11</td>\n",
       "      <td>0.150</td>\n",
       "      <td>9</td>\n",
       "      <td>353</td>\n",
       "      <td>2019</td>\n",
       "      <td>1</td>\n",
       "      <td>0</td>\n",
       "      <td>0</td>\n",
       "      <td>0</td>\n",
       "      <td>1</td>\n",
       "      <td>0</td>\n",
       "      <td>8</td>\n",
       "    </tr>\n",
       "    <tr>\n",
       "      <th>4</th>\n",
       "      <td>367042</td>\n",
       "      <td>1.346</td>\n",
       "      <td>103.960</td>\n",
       "      <td>94</td>\n",
       "      <td>1</td>\n",
       "      <td>22</td>\n",
       "      <td>2019-07-28</td>\n",
       "      <td>0.220</td>\n",
       "      <td>9</td>\n",
       "      <td>355</td>\n",
       "      <td>2019</td>\n",
       "      <td>1</td>\n",
       "      <td>0</td>\n",
       "      <td>0</td>\n",
       "      <td>0</td>\n",
       "      <td>1</td>\n",
       "      <td>0</td>\n",
       "      <td>7</td>\n",
       "    </tr>\n",
       "    <tr>\n",
       "      <th>...</th>\n",
       "      <td>...</td>\n",
       "      <td>...</td>\n",
       "      <td>...</td>\n",
       "      <td>...</td>\n",
       "      <td>...</td>\n",
       "      <td>...</td>\n",
       "      <td>...</td>\n",
       "      <td>...</td>\n",
       "      <td>...</td>\n",
       "      <td>...</td>\n",
       "      <td>...</td>\n",
       "      <td>...</td>\n",
       "      <td>...</td>\n",
       "      <td>...</td>\n",
       "      <td>...</td>\n",
       "      <td>...</td>\n",
       "      <td>...</td>\n",
       "      <td>...</td>\n",
       "    </tr>\n",
       "    <tr>\n",
       "      <th>7902</th>\n",
       "      <td>278109833</td>\n",
       "      <td>1.280</td>\n",
       "      <td>103.788</td>\n",
       "      <td>100</td>\n",
       "      <td>3</td>\n",
       "      <td>0</td>\n",
       "      <td>2012-01-01</td>\n",
       "      <td>0.000</td>\n",
       "      <td>31</td>\n",
       "      <td>61</td>\n",
       "      <td>0</td>\n",
       "      <td>0</td>\n",
       "      <td>0</td>\n",
       "      <td>0</td>\n",
       "      <td>0</td>\n",
       "      <td>0</td>\n",
       "      <td>0</td>\n",
       "      <td>1</td>\n",
       "    </tr>\n",
       "    <tr>\n",
       "      <th>7903</th>\n",
       "      <td>238891646</td>\n",
       "      <td>1.293</td>\n",
       "      <td>103.826</td>\n",
       "      <td>400</td>\n",
       "      <td>6</td>\n",
       "      <td>0</td>\n",
       "      <td>2012-01-01</td>\n",
       "      <td>0.000</td>\n",
       "      <td>34</td>\n",
       "      <td>365</td>\n",
       "      <td>0</td>\n",
       "      <td>0</td>\n",
       "      <td>0</td>\n",
       "      <td>0</td>\n",
       "      <td>0</td>\n",
       "      <td>0</td>\n",
       "      <td>0</td>\n",
       "      <td>1</td>\n",
       "    </tr>\n",
       "    <tr>\n",
       "      <th>7904</th>\n",
       "      <td>281448565</td>\n",
       "      <td>1.313</td>\n",
       "      <td>103.860</td>\n",
       "      <td>58</td>\n",
       "      <td>30</td>\n",
       "      <td>0</td>\n",
       "      <td>2012-01-01</td>\n",
       "      <td>0.000</td>\n",
       "      <td>3</td>\n",
       "      <td>173</td>\n",
       "      <td>0</td>\n",
       "      <td>0</td>\n",
       "      <td>0</td>\n",
       "      <td>0</td>\n",
       "      <td>0</td>\n",
       "      <td>1</td>\n",
       "      <td>0</td>\n",
       "      <td>1</td>\n",
       "    </tr>\n",
       "    <tr>\n",
       "      <th>7905</th>\n",
       "      <td>243835202</td>\n",
       "      <td>1.295</td>\n",
       "      <td>103.838</td>\n",
       "      <td>56</td>\n",
       "      <td>14</td>\n",
       "      <td>0</td>\n",
       "      <td>2012-01-01</td>\n",
       "      <td>0.000</td>\n",
       "      <td>2</td>\n",
       "      <td>30</td>\n",
       "      <td>0</td>\n",
       "      <td>0</td>\n",
       "      <td>0</td>\n",
       "      <td>0</td>\n",
       "      <td>0</td>\n",
       "      <td>1</td>\n",
       "      <td>0</td>\n",
       "      <td>1</td>\n",
       "    </tr>\n",
       "    <tr>\n",
       "      <th>7906</th>\n",
       "      <td>28788520</td>\n",
       "      <td>1.297</td>\n",
       "      <td>103.833</td>\n",
       "      <td>65</td>\n",
       "      <td>90</td>\n",
       "      <td>0</td>\n",
       "      <td>2012-01-01</td>\n",
       "      <td>0.000</td>\n",
       "      <td>7</td>\n",
       "      <td>365</td>\n",
       "      <td>0</td>\n",
       "      <td>0</td>\n",
       "      <td>0</td>\n",
       "      <td>0</td>\n",
       "      <td>0</td>\n",
       "      <td>1</td>\n",
       "      <td>0</td>\n",
       "      <td>1</td>\n",
       "    </tr>\n",
       "  </tbody>\n",
       "</table>\n",
       "<p>7907 rows × 18 columns</p>\n",
       "</div>"
      ],
      "text/plain": [
       "        host_id  latitude  longitude  price  minimum_nights  \\\n",
       "0        266763     1.443    103.796     83             180   \n",
       "1        227796     1.332    103.785     81              90   \n",
       "2        266763     1.442    103.797     69               6   \n",
       "3        367042     1.345    103.957    206               1   \n",
       "4        367042     1.346    103.960     94               1   \n",
       "...         ...       ...        ...    ...             ...   \n",
       "7902  278109833     1.280    103.788    100               3   \n",
       "7903  238891646     1.293    103.826    400               6   \n",
       "7904  281448565     1.313    103.860     58              30   \n",
       "7905  243835202     1.295    103.838     56              14   \n",
       "7906   28788520     1.297    103.833     65              90   \n",
       "\n",
       "      number_of_reviews last_review  reviews_per_month  \\\n",
       "0                     1  2013-10-21              0.010   \n",
       "1                    18  2014-12-26              0.280   \n",
       "2                    20  2015-10-01              0.200   \n",
       "3                    14  2019-08-11              0.150   \n",
       "4                    22  2019-07-28              0.220   \n",
       "...                 ...         ...                ...   \n",
       "7902                  0  2012-01-01              0.000   \n",
       "7903                  0  2012-01-01              0.000   \n",
       "7904                  0  2012-01-01              0.000   \n",
       "7905                  0  2012-01-01              0.000   \n",
       "7906                  0  2012-01-01              0.000   \n",
       "\n",
       "      calculated_host_listings_count  availability_365  Year  \\\n",
       "0                                  2               365  2013   \n",
       "1                                  1               365  2014   \n",
       "2                                  2               365  2015   \n",
       "3                                  9               353  2019   \n",
       "4                                  9               355  2019   \n",
       "...                              ...               ...   ...   \n",
       "7902                              31                61     0   \n",
       "7903                              34               365     0   \n",
       "7904                               3               173     0   \n",
       "7905                               2                30     0   \n",
       "7906                               7               365     0   \n",
       "\n",
       "      neighbourhood_group_East Region  neighbourhood_group_North Region  \\\n",
       "0                                   0                                 1   \n",
       "1                                   0                                 0   \n",
       "2                                   0                                 1   \n",
       "3                                   1                                 0   \n",
       "4                                   1                                 0   \n",
       "...                               ...                               ...   \n",
       "7902                                0                                 0   \n",
       "7903                                0                                 0   \n",
       "7904                                0                                 0   \n",
       "7905                                0                                 0   \n",
       "7906                                0                                 0   \n",
       "\n",
       "      neighbourhood_group_North-East Region  neighbourhood_group_West Region  \\\n",
       "0                                         0                                0   \n",
       "1                                         0                                0   \n",
       "2                                         0                                0   \n",
       "3                                         0                                0   \n",
       "4                                         0                                0   \n",
       "...                                     ...                              ...   \n",
       "7902                                      0                                0   \n",
       "7903                                      0                                0   \n",
       "7904                                      0                                0   \n",
       "7905                                      0                                0   \n",
       "7906                                      0                                0   \n",
       "\n",
       "      room_type_Private room  room_type_Shared room  month  \n",
       "0                          1                      0     10  \n",
       "1                          1                      0     12  \n",
       "2                          1                      0     10  \n",
       "3                          1                      0      8  \n",
       "4                          1                      0      7  \n",
       "...                      ...                    ...    ...  \n",
       "7902                       0                      0      1  \n",
       "7903                       0                      0      1  \n",
       "7904                       1                      0      1  \n",
       "7905                       1                      0      1  \n",
       "7906                       1                      0      1  \n",
       "\n",
       "[7907 rows x 18 columns]"
      ]
     },
     "execution_count": 241,
     "metadata": {},
     "output_type": "execute_result"
    }
   ],
   "source": [
    "dx"
   ]
  },
  {
   "cell_type": "code",
   "execution_count": 242,
   "metadata": {},
   "outputs": [],
   "source": [
    "X = dx.drop('price', axis='columns')\n",
    "y = dx['price']"
   ]
  },
  {
   "cell_type": "code",
   "execution_count": 243,
   "metadata": {},
   "outputs": [
    {
     "data": {
      "text/html": [
       "<div>\n",
       "<style scoped>\n",
       "    .dataframe tbody tr th:only-of-type {\n",
       "        vertical-align: middle;\n",
       "    }\n",
       "\n",
       "    .dataframe tbody tr th {\n",
       "        vertical-align: top;\n",
       "    }\n",
       "\n",
       "    .dataframe thead th {\n",
       "        text-align: right;\n",
       "    }\n",
       "</style>\n",
       "<table border=\"1\" class=\"dataframe\">\n",
       "  <thead>\n",
       "    <tr style=\"text-align: right;\">\n",
       "      <th></th>\n",
       "      <th>host_id</th>\n",
       "      <th>latitude</th>\n",
       "      <th>longitude</th>\n",
       "      <th>price</th>\n",
       "      <th>minimum_nights</th>\n",
       "      <th>number_of_reviews</th>\n",
       "      <th>reviews_per_month</th>\n",
       "      <th>calculated_host_listings_count</th>\n",
       "      <th>availability_365</th>\n",
       "      <th>Year</th>\n",
       "      <th>neighbourhood_group_East Region</th>\n",
       "      <th>neighbourhood_group_North Region</th>\n",
       "      <th>neighbourhood_group_North-East Region</th>\n",
       "      <th>neighbourhood_group_West Region</th>\n",
       "      <th>room_type_Private room</th>\n",
       "      <th>room_type_Shared room</th>\n",
       "      <th>month</th>\n",
       "    </tr>\n",
       "  </thead>\n",
       "  <tbody>\n",
       "    <tr>\n",
       "      <th>host_id</th>\n",
       "      <td>1.000</td>\n",
       "      <td>-0.041</td>\n",
       "      <td>-0.016</td>\n",
       "      <td>0.146</td>\n",
       "      <td>-0.090</td>\n",
       "      <td>-0.176</td>\n",
       "      <td>0.040</td>\n",
       "      <td>-0.064</td>\n",
       "      <td>0.042</td>\n",
       "      <td>-0.181</td>\n",
       "      <td>-0.037</td>\n",
       "      <td>-0.008</td>\n",
       "      <td>-0.021</td>\n",
       "      <td>-0.001</td>\n",
       "      <td>-0.106</td>\n",
       "      <td>-0.001</td>\n",
       "      <td>-0.138</td>\n",
       "    </tr>\n",
       "    <tr>\n",
       "      <th>latitude</th>\n",
       "      <td>-0.041</td>\n",
       "      <td>1.000</td>\n",
       "      <td>-0.035</td>\n",
       "      <td>-0.191</td>\n",
       "      <td>0.085</td>\n",
       "      <td>-0.015</td>\n",
       "      <td>-0.038</td>\n",
       "      <td>-0.150</td>\n",
       "      <td>-0.069</td>\n",
       "      <td>-0.040</td>\n",
       "      <td>0.136</td>\n",
       "      <td>0.560</td>\n",
       "      <td>0.425</td>\n",
       "      <td>0.264</td>\n",
       "      <td>0.232</td>\n",
       "      <td>-0.057</td>\n",
       "      <td>-0.023</td>\n",
       "    </tr>\n",
       "    <tr>\n",
       "      <th>longitude</th>\n",
       "      <td>-0.016</td>\n",
       "      <td>-0.035</td>\n",
       "      <td>1.000</td>\n",
       "      <td>0.011</td>\n",
       "      <td>-0.029</td>\n",
       "      <td>0.102</td>\n",
       "      <td>0.100</td>\n",
       "      <td>0.049</td>\n",
       "      <td>-0.036</td>\n",
       "      <td>0.032</td>\n",
       "      <td>0.487</td>\n",
       "      <td>-0.130</td>\n",
       "      <td>0.152</td>\n",
       "      <td>-0.675</td>\n",
       "      <td>-0.056</td>\n",
       "      <td>-0.018</td>\n",
       "      <td>0.027</td>\n",
       "    </tr>\n",
       "    <tr>\n",
       "      <th>price</th>\n",
       "      <td>0.146</td>\n",
       "      <td>-0.191</td>\n",
       "      <td>0.011</td>\n",
       "      <td>1.000</td>\n",
       "      <td>-0.104</td>\n",
       "      <td>-0.062</td>\n",
       "      <td>0.000</td>\n",
       "      <td>0.161</td>\n",
       "      <td>0.120</td>\n",
       "      <td>-0.085</td>\n",
       "      <td>-0.084</td>\n",
       "      <td>-0.066</td>\n",
       "      <td>-0.121</td>\n",
       "      <td>-0.097</td>\n",
       "      <td>-0.487</td>\n",
       "      <td>-0.208</td>\n",
       "      <td>-0.066</td>\n",
       "    </tr>\n",
       "    <tr>\n",
       "      <th>minimum_nights</th>\n",
       "      <td>-0.090</td>\n",
       "      <td>0.085</td>\n",
       "      <td>-0.029</td>\n",
       "      <td>-0.104</td>\n",
       "      <td>1.000</td>\n",
       "      <td>-0.076</td>\n",
       "      <td>-0.149</td>\n",
       "      <td>-0.014</td>\n",
       "      <td>0.150</td>\n",
       "      <td>-0.164</td>\n",
       "      <td>0.051</td>\n",
       "      <td>0.044</td>\n",
       "      <td>0.072</td>\n",
       "      <td>0.027</td>\n",
       "      <td>0.083</td>\n",
       "      <td>-0.073</td>\n",
       "      <td>-0.142</td>\n",
       "    </tr>\n",
       "    <tr>\n",
       "      <th>number_of_reviews</th>\n",
       "      <td>-0.176</td>\n",
       "      <td>-0.015</td>\n",
       "      <td>0.102</td>\n",
       "      <td>-0.062</td>\n",
       "      <td>-0.076</td>\n",
       "      <td>1.000</td>\n",
       "      <td>0.674</td>\n",
       "      <td>-0.150</td>\n",
       "      <td>-0.067</td>\n",
       "      <td>0.316</td>\n",
       "      <td>0.053</td>\n",
       "      <td>-0.019</td>\n",
       "      <td>-0.006</td>\n",
       "      <td>-0.060</td>\n",
       "      <td>0.023</td>\n",
       "      <td>-0.003</td>\n",
       "      <td>0.323</td>\n",
       "    </tr>\n",
       "    <tr>\n",
       "      <th>reviews_per_month</th>\n",
       "      <td>0.040</td>\n",
       "      <td>-0.038</td>\n",
       "      <td>0.100</td>\n",
       "      <td>0.000</td>\n",
       "      <td>-0.149</td>\n",
       "      <td>0.674</td>\n",
       "      <td>1.000</td>\n",
       "      <td>-0.181</td>\n",
       "      <td>-0.108</td>\n",
       "      <td>0.433</td>\n",
       "      <td>0.014</td>\n",
       "      <td>-0.016</td>\n",
       "      <td>-0.012</td>\n",
       "      <td>-0.074</td>\n",
       "      <td>-0.001</td>\n",
       "      <td>-0.030</td>\n",
       "      <td>0.459</td>\n",
       "    </tr>\n",
       "    <tr>\n",
       "      <th>calculated_host_listings_count</th>\n",
       "      <td>-0.064</td>\n",
       "      <td>-0.150</td>\n",
       "      <td>0.049</td>\n",
       "      <td>0.161</td>\n",
       "      <td>-0.014</td>\n",
       "      <td>-0.150</td>\n",
       "      <td>-0.181</td>\n",
       "      <td>1.000</td>\n",
       "      <td>0.246</td>\n",
       "      <td>-0.113</td>\n",
       "      <td>-0.114</td>\n",
       "      <td>-0.064</td>\n",
       "      <td>-0.123</td>\n",
       "      <td>-0.074</td>\n",
       "      <td>-0.327</td>\n",
       "      <td>-0.075</td>\n",
       "      <td>-0.140</td>\n",
       "    </tr>\n",
       "    <tr>\n",
       "      <th>availability_365</th>\n",
       "      <td>0.042</td>\n",
       "      <td>-0.069</td>\n",
       "      <td>-0.036</td>\n",
       "      <td>0.120</td>\n",
       "      <td>0.150</td>\n",
       "      <td>-0.067</td>\n",
       "      <td>-0.108</td>\n",
       "      <td>0.246</td>\n",
       "      <td>1.000</td>\n",
       "      <td>-0.071</td>\n",
       "      <td>-0.062</td>\n",
       "      <td>0.006</td>\n",
       "      <td>-0.060</td>\n",
       "      <td>-0.039</td>\n",
       "      <td>-0.062</td>\n",
       "      <td>0.102</td>\n",
       "      <td>-0.065</td>\n",
       "    </tr>\n",
       "    <tr>\n",
       "      <th>Year</th>\n",
       "      <td>-0.181</td>\n",
       "      <td>-0.040</td>\n",
       "      <td>0.032</td>\n",
       "      <td>-0.085</td>\n",
       "      <td>-0.164</td>\n",
       "      <td>0.316</td>\n",
       "      <td>0.433</td>\n",
       "      <td>-0.113</td>\n",
       "      <td>-0.071</td>\n",
       "      <td>1.000</td>\n",
       "      <td>0.015</td>\n",
       "      <td>-0.042</td>\n",
       "      <td>-0.013</td>\n",
       "      <td>-0.015</td>\n",
       "      <td>0.015</td>\n",
       "      <td>0.025</td>\n",
       "      <td>0.802</td>\n",
       "    </tr>\n",
       "    <tr>\n",
       "      <th>neighbourhood_group_East Region</th>\n",
       "      <td>-0.037</td>\n",
       "      <td>0.136</td>\n",
       "      <td>0.487</td>\n",
       "      <td>-0.084</td>\n",
       "      <td>0.051</td>\n",
       "      <td>0.053</td>\n",
       "      <td>0.014</td>\n",
       "      <td>-0.114</td>\n",
       "      <td>-0.062</td>\n",
       "      <td>0.015</td>\n",
       "      <td>1.000</td>\n",
       "      <td>-0.043</td>\n",
       "      <td>-0.056</td>\n",
       "      <td>-0.071</td>\n",
       "      <td>0.155</td>\n",
       "      <td>-0.034</td>\n",
       "      <td>0.010</td>\n",
       "    </tr>\n",
       "    <tr>\n",
       "      <th>neighbourhood_group_North Region</th>\n",
       "      <td>-0.008</td>\n",
       "      <td>0.560</td>\n",
       "      <td>-0.130</td>\n",
       "      <td>-0.066</td>\n",
       "      <td>0.044</td>\n",
       "      <td>-0.019</td>\n",
       "      <td>-0.016</td>\n",
       "      <td>-0.064</td>\n",
       "      <td>0.006</td>\n",
       "      <td>-0.042</td>\n",
       "      <td>-0.043</td>\n",
       "      <td>1.000</td>\n",
       "      <td>-0.035</td>\n",
       "      <td>-0.044</td>\n",
       "      <td>0.088</td>\n",
       "      <td>-0.004</td>\n",
       "      <td>-0.024</td>\n",
       "    </tr>\n",
       "    <tr>\n",
       "      <th>neighbourhood_group_North-East Region</th>\n",
       "      <td>-0.021</td>\n",
       "      <td>0.425</td>\n",
       "      <td>0.152</td>\n",
       "      <td>-0.121</td>\n",
       "      <td>0.072</td>\n",
       "      <td>-0.006</td>\n",
       "      <td>-0.012</td>\n",
       "      <td>-0.123</td>\n",
       "      <td>-0.060</td>\n",
       "      <td>-0.013</td>\n",
       "      <td>-0.056</td>\n",
       "      <td>-0.035</td>\n",
       "      <td>1.000</td>\n",
       "      <td>-0.058</td>\n",
       "      <td>0.155</td>\n",
       "      <td>-0.021</td>\n",
       "      <td>-0.013</td>\n",
       "    </tr>\n",
       "    <tr>\n",
       "      <th>neighbourhood_group_West Region</th>\n",
       "      <td>-0.001</td>\n",
       "      <td>0.264</td>\n",
       "      <td>-0.675</td>\n",
       "      <td>-0.097</td>\n",
       "      <td>0.027</td>\n",
       "      <td>-0.060</td>\n",
       "      <td>-0.074</td>\n",
       "      <td>-0.074</td>\n",
       "      <td>-0.039</td>\n",
       "      <td>-0.015</td>\n",
       "      <td>-0.071</td>\n",
       "      <td>-0.044</td>\n",
       "      <td>-0.058</td>\n",
       "      <td>1.000</td>\n",
       "      <td>0.149</td>\n",
       "      <td>-0.025</td>\n",
       "      <td>-0.014</td>\n",
       "    </tr>\n",
       "    <tr>\n",
       "      <th>room_type_Private room</th>\n",
       "      <td>-0.106</td>\n",
       "      <td>0.232</td>\n",
       "      <td>-0.056</td>\n",
       "      <td>-0.487</td>\n",
       "      <td>0.083</td>\n",
       "      <td>0.023</td>\n",
       "      <td>-0.001</td>\n",
       "      <td>-0.327</td>\n",
       "      <td>-0.062</td>\n",
       "      <td>0.015</td>\n",
       "      <td>0.155</td>\n",
       "      <td>0.088</td>\n",
       "      <td>0.155</td>\n",
       "      <td>0.149</td>\n",
       "      <td>1.000</td>\n",
       "      <td>-0.198</td>\n",
       "      <td>0.027</td>\n",
       "    </tr>\n",
       "    <tr>\n",
       "      <th>room_type_Shared room</th>\n",
       "      <td>-0.001</td>\n",
       "      <td>-0.057</td>\n",
       "      <td>-0.018</td>\n",
       "      <td>-0.208</td>\n",
       "      <td>-0.073</td>\n",
       "      <td>-0.003</td>\n",
       "      <td>-0.030</td>\n",
       "      <td>-0.075</td>\n",
       "      <td>0.102</td>\n",
       "      <td>0.025</td>\n",
       "      <td>-0.034</td>\n",
       "      <td>-0.004</td>\n",
       "      <td>-0.021</td>\n",
       "      <td>-0.025</td>\n",
       "      <td>-0.198</td>\n",
       "      <td>1.000</td>\n",
       "      <td>0.009</td>\n",
       "    </tr>\n",
       "    <tr>\n",
       "      <th>month</th>\n",
       "      <td>-0.138</td>\n",
       "      <td>-0.023</td>\n",
       "      <td>0.027</td>\n",
       "      <td>-0.066</td>\n",
       "      <td>-0.142</td>\n",
       "      <td>0.323</td>\n",
       "      <td>0.459</td>\n",
       "      <td>-0.140</td>\n",
       "      <td>-0.065</td>\n",
       "      <td>0.802</td>\n",
       "      <td>0.010</td>\n",
       "      <td>-0.024</td>\n",
       "      <td>-0.013</td>\n",
       "      <td>-0.014</td>\n",
       "      <td>0.027</td>\n",
       "      <td>0.009</td>\n",
       "      <td>1.000</td>\n",
       "    </tr>\n",
       "  </tbody>\n",
       "</table>\n",
       "</div>"
      ],
      "text/plain": [
       "                                       host_id  latitude  longitude  price  \\\n",
       "host_id                                  1.000    -0.041     -0.016  0.146   \n",
       "latitude                                -0.041     1.000     -0.035 -0.191   \n",
       "longitude                               -0.016    -0.035      1.000  0.011   \n",
       "price                                    0.146    -0.191      0.011  1.000   \n",
       "minimum_nights                          -0.090     0.085     -0.029 -0.104   \n",
       "number_of_reviews                       -0.176    -0.015      0.102 -0.062   \n",
       "reviews_per_month                        0.040    -0.038      0.100  0.000   \n",
       "calculated_host_listings_count          -0.064    -0.150      0.049  0.161   \n",
       "availability_365                         0.042    -0.069     -0.036  0.120   \n",
       "Year                                    -0.181    -0.040      0.032 -0.085   \n",
       "neighbourhood_group_East Region         -0.037     0.136      0.487 -0.084   \n",
       "neighbourhood_group_North Region        -0.008     0.560     -0.130 -0.066   \n",
       "neighbourhood_group_North-East Region   -0.021     0.425      0.152 -0.121   \n",
       "neighbourhood_group_West Region         -0.001     0.264     -0.675 -0.097   \n",
       "room_type_Private room                  -0.106     0.232     -0.056 -0.487   \n",
       "room_type_Shared room                   -0.001    -0.057     -0.018 -0.208   \n",
       "month                                   -0.138    -0.023      0.027 -0.066   \n",
       "\n",
       "                                       minimum_nights  number_of_reviews  \\\n",
       "host_id                                        -0.090             -0.176   \n",
       "latitude                                        0.085             -0.015   \n",
       "longitude                                      -0.029              0.102   \n",
       "price                                          -0.104             -0.062   \n",
       "minimum_nights                                  1.000             -0.076   \n",
       "number_of_reviews                              -0.076              1.000   \n",
       "reviews_per_month                              -0.149              0.674   \n",
       "calculated_host_listings_count                 -0.014             -0.150   \n",
       "availability_365                                0.150             -0.067   \n",
       "Year                                           -0.164              0.316   \n",
       "neighbourhood_group_East Region                 0.051              0.053   \n",
       "neighbourhood_group_North Region                0.044             -0.019   \n",
       "neighbourhood_group_North-East Region           0.072             -0.006   \n",
       "neighbourhood_group_West Region                 0.027             -0.060   \n",
       "room_type_Private room                          0.083              0.023   \n",
       "room_type_Shared room                          -0.073             -0.003   \n",
       "month                                          -0.142              0.323   \n",
       "\n",
       "                                       reviews_per_month  \\\n",
       "host_id                                            0.040   \n",
       "latitude                                          -0.038   \n",
       "longitude                                          0.100   \n",
       "price                                              0.000   \n",
       "minimum_nights                                    -0.149   \n",
       "number_of_reviews                                  0.674   \n",
       "reviews_per_month                                  1.000   \n",
       "calculated_host_listings_count                    -0.181   \n",
       "availability_365                                  -0.108   \n",
       "Year                                               0.433   \n",
       "neighbourhood_group_East Region                    0.014   \n",
       "neighbourhood_group_North Region                  -0.016   \n",
       "neighbourhood_group_North-East Region             -0.012   \n",
       "neighbourhood_group_West Region                   -0.074   \n",
       "room_type_Private room                            -0.001   \n",
       "room_type_Shared room                             -0.030   \n",
       "month                                              0.459   \n",
       "\n",
       "                                       calculated_host_listings_count  \\\n",
       "host_id                                                        -0.064   \n",
       "latitude                                                       -0.150   \n",
       "longitude                                                       0.049   \n",
       "price                                                           0.161   \n",
       "minimum_nights                                                 -0.014   \n",
       "number_of_reviews                                              -0.150   \n",
       "reviews_per_month                                              -0.181   \n",
       "calculated_host_listings_count                                  1.000   \n",
       "availability_365                                                0.246   \n",
       "Year                                                           -0.113   \n",
       "neighbourhood_group_East Region                                -0.114   \n",
       "neighbourhood_group_North Region                               -0.064   \n",
       "neighbourhood_group_North-East Region                          -0.123   \n",
       "neighbourhood_group_West Region                                -0.074   \n",
       "room_type_Private room                                         -0.327   \n",
       "room_type_Shared room                                          -0.075   \n",
       "month                                                          -0.140   \n",
       "\n",
       "                                       availability_365   Year  \\\n",
       "host_id                                           0.042 -0.181   \n",
       "latitude                                         -0.069 -0.040   \n",
       "longitude                                        -0.036  0.032   \n",
       "price                                             0.120 -0.085   \n",
       "minimum_nights                                    0.150 -0.164   \n",
       "number_of_reviews                                -0.067  0.316   \n",
       "reviews_per_month                                -0.108  0.433   \n",
       "calculated_host_listings_count                    0.246 -0.113   \n",
       "availability_365                                  1.000 -0.071   \n",
       "Year                                             -0.071  1.000   \n",
       "neighbourhood_group_East Region                  -0.062  0.015   \n",
       "neighbourhood_group_North Region                  0.006 -0.042   \n",
       "neighbourhood_group_North-East Region            -0.060 -0.013   \n",
       "neighbourhood_group_West Region                  -0.039 -0.015   \n",
       "room_type_Private room                           -0.062  0.015   \n",
       "room_type_Shared room                             0.102  0.025   \n",
       "month                                            -0.065  0.802   \n",
       "\n",
       "                                       neighbourhood_group_East Region  \\\n",
       "host_id                                                         -0.037   \n",
       "latitude                                                         0.136   \n",
       "longitude                                                        0.487   \n",
       "price                                                           -0.084   \n",
       "minimum_nights                                                   0.051   \n",
       "number_of_reviews                                                0.053   \n",
       "reviews_per_month                                                0.014   \n",
       "calculated_host_listings_count                                  -0.114   \n",
       "availability_365                                                -0.062   \n",
       "Year                                                             0.015   \n",
       "neighbourhood_group_East Region                                  1.000   \n",
       "neighbourhood_group_North Region                                -0.043   \n",
       "neighbourhood_group_North-East Region                           -0.056   \n",
       "neighbourhood_group_West Region                                 -0.071   \n",
       "room_type_Private room                                           0.155   \n",
       "room_type_Shared room                                           -0.034   \n",
       "month                                                            0.010   \n",
       "\n",
       "                                       neighbourhood_group_North Region  \\\n",
       "host_id                                                          -0.008   \n",
       "latitude                                                          0.560   \n",
       "longitude                                                        -0.130   \n",
       "price                                                            -0.066   \n",
       "minimum_nights                                                    0.044   \n",
       "number_of_reviews                                                -0.019   \n",
       "reviews_per_month                                                -0.016   \n",
       "calculated_host_listings_count                                   -0.064   \n",
       "availability_365                                                  0.006   \n",
       "Year                                                             -0.042   \n",
       "neighbourhood_group_East Region                                  -0.043   \n",
       "neighbourhood_group_North Region                                  1.000   \n",
       "neighbourhood_group_North-East Region                            -0.035   \n",
       "neighbourhood_group_West Region                                  -0.044   \n",
       "room_type_Private room                                            0.088   \n",
       "room_type_Shared room                                            -0.004   \n",
       "month                                                            -0.024   \n",
       "\n",
       "                                       neighbourhood_group_North-East Region  \\\n",
       "host_id                                                               -0.021   \n",
       "latitude                                                               0.425   \n",
       "longitude                                                              0.152   \n",
       "price                                                                 -0.121   \n",
       "minimum_nights                                                         0.072   \n",
       "number_of_reviews                                                     -0.006   \n",
       "reviews_per_month                                                     -0.012   \n",
       "calculated_host_listings_count                                        -0.123   \n",
       "availability_365                                                      -0.060   \n",
       "Year                                                                  -0.013   \n",
       "neighbourhood_group_East Region                                       -0.056   \n",
       "neighbourhood_group_North Region                                      -0.035   \n",
       "neighbourhood_group_North-East Region                                  1.000   \n",
       "neighbourhood_group_West Region                                       -0.058   \n",
       "room_type_Private room                                                 0.155   \n",
       "room_type_Shared room                                                 -0.021   \n",
       "month                                                                 -0.013   \n",
       "\n",
       "                                       neighbourhood_group_West Region  \\\n",
       "host_id                                                         -0.001   \n",
       "latitude                                                         0.264   \n",
       "longitude                                                       -0.675   \n",
       "price                                                           -0.097   \n",
       "minimum_nights                                                   0.027   \n",
       "number_of_reviews                                               -0.060   \n",
       "reviews_per_month                                               -0.074   \n",
       "calculated_host_listings_count                                  -0.074   \n",
       "availability_365                                                -0.039   \n",
       "Year                                                            -0.015   \n",
       "neighbourhood_group_East Region                                 -0.071   \n",
       "neighbourhood_group_North Region                                -0.044   \n",
       "neighbourhood_group_North-East Region                           -0.058   \n",
       "neighbourhood_group_West Region                                  1.000   \n",
       "room_type_Private room                                           0.149   \n",
       "room_type_Shared room                                           -0.025   \n",
       "month                                                           -0.014   \n",
       "\n",
       "                                       room_type_Private room  \\\n",
       "host_id                                                -0.106   \n",
       "latitude                                                0.232   \n",
       "longitude                                              -0.056   \n",
       "price                                                  -0.487   \n",
       "minimum_nights                                          0.083   \n",
       "number_of_reviews                                       0.023   \n",
       "reviews_per_month                                      -0.001   \n",
       "calculated_host_listings_count                         -0.327   \n",
       "availability_365                                       -0.062   \n",
       "Year                                                    0.015   \n",
       "neighbourhood_group_East Region                         0.155   \n",
       "neighbourhood_group_North Region                        0.088   \n",
       "neighbourhood_group_North-East Region                   0.155   \n",
       "neighbourhood_group_West Region                         0.149   \n",
       "room_type_Private room                                  1.000   \n",
       "room_type_Shared room                                  -0.198   \n",
       "month                                                   0.027   \n",
       "\n",
       "                                       room_type_Shared room  month  \n",
       "host_id                                               -0.001 -0.138  \n",
       "latitude                                              -0.057 -0.023  \n",
       "longitude                                             -0.018  0.027  \n",
       "price                                                 -0.208 -0.066  \n",
       "minimum_nights                                        -0.073 -0.142  \n",
       "number_of_reviews                                     -0.003  0.323  \n",
       "reviews_per_month                                     -0.030  0.459  \n",
       "calculated_host_listings_count                        -0.075 -0.140  \n",
       "availability_365                                       0.102 -0.065  \n",
       "Year                                                   0.025  0.802  \n",
       "neighbourhood_group_East Region                       -0.034  0.010  \n",
       "neighbourhood_group_North Region                      -0.004 -0.024  \n",
       "neighbourhood_group_North-East Region                 -0.021 -0.013  \n",
       "neighbourhood_group_West Region                       -0.025 -0.014  \n",
       "room_type_Private room                                -0.198  0.027  \n",
       "room_type_Shared room                                  1.000  0.009  \n",
       "month                                                  0.009  1.000  "
      ]
     },
     "execution_count": 243,
     "metadata": {},
     "output_type": "execute_result"
    }
   ],
   "source": [
    "#Checking for multicollinearity\n",
    "cors = dx.corr(method='pearson')\n",
    "cors"
   ]
  },
  {
   "cell_type": "code",
   "execution_count": 244,
   "metadata": {},
   "outputs": [
    {
     "data": {
      "text/plain": [
       "<matplotlib.axes._subplots.AxesSubplot at 0x28c9d8bbb50>"
      ]
     },
     "execution_count": 244,
     "metadata": {},
     "output_type": "execute_result"
    },
    {
     "data": {
      "image/png": "[encoded data removed]",
      "text/plain": [
       "<Figure size 1080x1080 with 2 Axes>"
      ]
     },
     "metadata": {
      "needs_background": "light"
     },
     "output_type": "display_data"
    }
   ],
   "source": [
    "plt.figure(figsize=(15,15))\n",
    "sns.heatmap(cors, annot=True)"
   ]
  },
  {
   "cell_type": "code",
   "execution_count": 245,
   "metadata": {},
   "outputs": [
    {
     "data": {
      "text/plain": [
       "(7907, 18)"
      ]
     },
     "execution_count": 245,
     "metadata": {},
     "output_type": "execute_result"
    }
   ],
   "source": [
    "dx.shape"
   ]
  },
  {
   "cell_type": "code",
   "execution_count": 246,
   "metadata": {},
   "outputs": [],
   "source": [
    "X = dx.drop(['price','last_review'], axis='columns')\n",
    "y = dx['price']"
   ]
  },
  {
   "cell_type": "code",
   "execution_count": 247,
   "metadata": {},
   "outputs": [],
   "source": [
    "#X = dx.drop(['price','last_review'], axis='columns')\n",
    "#y = dx['price']"
   ]
  },
  {
   "cell_type": "code",
   "execution_count": 248,
   "metadata": {},
   "outputs": [
    {
     "data": {
      "text/plain": [
       "(7907, 18)"
      ]
     },
     "execution_count": 248,
     "metadata": {},
     "output_type": "execute_result"
    }
   ],
   "source": [
    "dx.shape"
   ]
  },
  {
   "cell_type": "code",
   "execution_count": 249,
   "metadata": {},
   "outputs": [
    {
     "data": {
      "text/html": [
       "<div>\n",
       "<style scoped>\n",
       "    .dataframe tbody tr th:only-of-type {\n",
       "        vertical-align: middle;\n",
       "    }\n",
       "\n",
       "    .dataframe tbody tr th {\n",
       "        vertical-align: top;\n",
       "    }\n",
       "\n",
       "    .dataframe thead th {\n",
       "        text-align: right;\n",
       "    }\n",
       "</style>\n",
       "<table border=\"1\" class=\"dataframe\">\n",
       "  <thead>\n",
       "    <tr style=\"text-align: right;\">\n",
       "      <th></th>\n",
       "      <th>Importance</th>\n",
       "    </tr>\n",
       "  </thead>\n",
       "  <tbody>\n",
       "    <tr>\n",
       "      <th>host_id</th>\n",
       "      <td>0.753</td>\n",
       "    </tr>\n",
       "    <tr>\n",
       "      <th>calculated_host_listings_count</th>\n",
       "      <td>0.637</td>\n",
       "    </tr>\n",
       "    <tr>\n",
       "      <th>longitude</th>\n",
       "      <td>0.395</td>\n",
       "    </tr>\n",
       "    <tr>\n",
       "      <th>latitude</th>\n",
       "      <td>0.356</td>\n",
       "    </tr>\n",
       "    <tr>\n",
       "      <th>room_type_Private room</th>\n",
       "      <td>0.276</td>\n",
       "    </tr>\n",
       "    <tr>\n",
       "      <th>minimum_nights</th>\n",
       "      <td>0.259</td>\n",
       "    </tr>\n",
       "    <tr>\n",
       "      <th>availability_365</th>\n",
       "      <td>0.247</td>\n",
       "    </tr>\n",
       "    <tr>\n",
       "      <th>Year</th>\n",
       "      <td>0.078</td>\n",
       "    </tr>\n",
       "    <tr>\n",
       "      <th>room_type_Shared room</th>\n",
       "      <td>0.067</td>\n",
       "    </tr>\n",
       "    <tr>\n",
       "      <th>reviews_per_month</th>\n",
       "      <td>0.066</td>\n",
       "    </tr>\n",
       "    <tr>\n",
       "      <th>month</th>\n",
       "      <td>0.061</td>\n",
       "    </tr>\n",
       "    <tr>\n",
       "      <th>number_of_reviews</th>\n",
       "      <td>0.052</td>\n",
       "    </tr>\n",
       "    <tr>\n",
       "      <th>neighbourhood_group_North-East Region</th>\n",
       "      <td>0.023</td>\n",
       "    </tr>\n",
       "    <tr>\n",
       "      <th>neighbourhood_group_West Region</th>\n",
       "      <td>0.007</td>\n",
       "    </tr>\n",
       "    <tr>\n",
       "      <th>neighbourhood_group_East Region</th>\n",
       "      <td>0.006</td>\n",
       "    </tr>\n",
       "    <tr>\n",
       "      <th>neighbourhood_group_North Region</th>\n",
       "      <td>0.001</td>\n",
       "    </tr>\n",
       "  </tbody>\n",
       "</table>\n",
       "</div>"
      ],
      "text/plain": [
       "                                       Importance\n",
       "host_id                                     0.753\n",
       "calculated_host_listings_count              0.637\n",
       "longitude                                   0.395\n",
       "latitude                                    0.356\n",
       "room_type_Private room                      0.276\n",
       "minimum_nights                              0.259\n",
       "availability_365                            0.247\n",
       "Year                                        0.078\n",
       "room_type_Shared room                       0.067\n",
       "reviews_per_month                           0.066\n",
       "month                                       0.061\n",
       "number_of_reviews                           0.052\n",
       "neighbourhood_group_North-East Region       0.023\n",
       "neighbourhood_group_West Region             0.007\n",
       "neighbourhood_group_East Region             0.006\n",
       "neighbourhood_group_North Region            0.001"
      ]
     },
     "execution_count": 249,
     "metadata": {},
     "output_type": "execute_result"
    }
   ],
   "source": [
    "from sklearn.feature_selection import mutual_info_classif\n",
    "\n",
    "mutual_info_classif(X,y)\n",
    "\n",
    "imp = pd.DataFrame(mutual_info_classif(X,y), index=X.columns)\n",
    "\n",
    "imp\n",
    "\n",
    "imp.columns = ['Importance']\n",
    "\n",
    "imp.sort_values(by='Importance', ascending = False)"
   ]
  },
  {
   "cell_type": "code",
   "execution_count": 250,
   "metadata": {},
   "outputs": [
    {
     "data": {
      "text/html": [
       "<div>\n",
       "<style scoped>\n",
       "    .dataframe tbody tr th:only-of-type {\n",
       "        vertical-align: middle;\n",
       "    }\n",
       "\n",
       "    .dataframe tbody tr th {\n",
       "        vertical-align: top;\n",
       "    }\n",
       "\n",
       "    .dataframe thead th {\n",
       "        text-align: right;\n",
       "    }\n",
       "</style>\n",
       "<table border=\"1\" class=\"dataframe\">\n",
       "  <thead>\n",
       "    <tr style=\"text-align: right;\">\n",
       "      <th></th>\n",
       "      <th>Importance</th>\n",
       "    </tr>\n",
       "  </thead>\n",
       "  <tbody>\n",
       "    <tr>\n",
       "      <th>host_id</th>\n",
       "      <td>0.753</td>\n",
       "    </tr>\n",
       "    <tr>\n",
       "      <th>calculated_host_listings_count</th>\n",
       "      <td>0.637</td>\n",
       "    </tr>\n",
       "    <tr>\n",
       "      <th>longitude</th>\n",
       "      <td>0.395</td>\n",
       "    </tr>\n",
       "    <tr>\n",
       "      <th>latitude</th>\n",
       "      <td>0.356</td>\n",
       "    </tr>\n",
       "    <tr>\n",
       "      <th>room_type_Private room</th>\n",
       "      <td>0.276</td>\n",
       "    </tr>\n",
       "    <tr>\n",
       "      <th>minimum_nights</th>\n",
       "      <td>0.259</td>\n",
       "    </tr>\n",
       "    <tr>\n",
       "      <th>availability_365</th>\n",
       "      <td>0.247</td>\n",
       "    </tr>\n",
       "  </tbody>\n",
       "</table>\n",
       "</div>"
      ],
      "text/plain": [
       "                                Importance\n",
       "host_id                              0.753\n",
       "calculated_host_listings_count       0.637\n",
       "longitude                            0.395\n",
       "latitude                             0.356\n",
       "room_type_Private room               0.276\n",
       "minimum_nights                       0.259\n",
       "availability_365                     0.247"
      ]
     },
     "execution_count": 250,
     "metadata": {},
     "output_type": "execute_result"
    }
   ],
   "source": [
    "imp[imp['Importance']>=0.085].sort_values(by='Importance', ascending = False)"
   ]
  },
  {
   "cell_type": "code",
   "execution_count": 251,
   "metadata": {},
   "outputs": [],
   "source": [
    "### FEATURES SELECTION"
   ]
  },
  {
   "cell_type": "code",
   "execution_count": 252,
   "metadata": {},
   "outputs": [
    {
     "data": {
      "text/plain": [
       "(7907, 16)"
      ]
     },
     "execution_count": 252,
     "metadata": {},
     "output_type": "execute_result"
    }
   ],
   "source": [
    "X.shape"
   ]
  },
  {
   "cell_type": "code",
   "execution_count": 253,
   "metadata": {},
   "outputs": [],
   "source": [
    "#pip install streamlit\n"
   ]
  },
  {
   "cell_type": "code",
   "execution_count": 254,
   "metadata": {},
   "outputs": [],
   "source": [
    "from sklearn.model_selection import train_test_split"
   ]
  },
  {
   "cell_type": "code",
   "execution_count": 255,
   "metadata": {},
   "outputs": [],
   "source": [
    "#!streamlit hello"
   ]
  },
  {
   "cell_type": "code",
   "execution_count": 256,
   "metadata": {},
   "outputs": [],
   "source": [
    "scaler=StandardScaler() # prepare the scaler\n"
   ]
  },
  {
   "cell_type": "code",
   "execution_count": 257,
   "metadata": {},
   "outputs": [
    {
     "data": {
      "text/plain": [
       "StandardScaler()"
      ]
     },
     "execution_count": 257,
     "metadata": {},
     "output_type": "execute_result"
    }
   ],
   "source": [
    "scaler.fit(X) # FITTING OUR SCALER\n",
    "\n",
    "#scaler.fit_transform(x)"
   ]
  },
  {
   "cell_type": "code",
   "execution_count": 258,
   "metadata": {},
   "outputs": [],
   "source": [
    "X=scaler.transform(X)"
   ]
  },
  {
   "cell_type": "code",
   "execution_count": 259,
   "metadata": {},
   "outputs": [
    {
     "data": {
      "text/plain": [
       "array([[-1.10956898,  4.19805041, -1.21330836, ...,  1.15700354,\n",
       "        -0.22900313,  1.55788661],\n",
       "       [-1.11004475,  0.59385877, -1.45579849, ...,  1.15700354,\n",
       "        -0.22900313,  2.14772617],\n",
       "       [-1.10956898,  4.19510688, -1.19338707, ...,  1.15700354,\n",
       "        -0.22900313,  1.55788661],\n",
       "       ...,\n",
       "       [ 2.32350012, -0.04357948,  0.25582919, ...,  1.15700354,\n",
       "        -0.22900313, -1.09639142],\n",
       "       [ 1.86426245, -0.61364355, -0.24678255, ...,  1.15700354,\n",
       "        -0.22900313, -1.09639142],\n",
       "       [-0.76133463, -0.57145292, -0.35577717, ...,  1.15700354,\n",
       "        -0.22900313, -1.09639142]])"
      ]
     },
     "execution_count": 259,
     "metadata": {},
     "output_type": "execute_result"
    }
   ],
   "source": [
    "X"
   ]
  },
  {
   "cell_type": "code",
   "execution_count": 260,
   "metadata": {},
   "outputs": [],
   "source": [
    "##Splitting our data into the testing and trainning\n",
    "\n",
    "X_train,x_test,y_train,y_test=train_test_split(X,y,test_size=0.2, random_state=123)"
   ]
  },
  {
   "cell_type": "code",
   "execution_count": 261,
   "metadata": {},
   "outputs": [],
   "source": [
    "#MODEL+_eVALUATION \n",
    "from sklearn.metrics import mean_squared_error\n",
    "from sklearn.metrics import mean_absolute_error\n",
    "from sklearn.metrics import r2_score"
   ]
  },
  {
   "cell_type": "code",
   "execution_count": 262,
   "metadata": {},
   "outputs": [
    {
     "data": {
      "text/plain": [
       "LinearRegression()"
      ]
     },
     "execution_count": 262,
     "metadata": {},
     "output_type": "execute_result"
    }
   ],
   "source": [
    "##import the estimator object(model)\n",
    "\n",
    "\n",
    "from sklearn.linear_model import LinearRegression\n",
    "\n",
    "##3create instance of the estimator\n",
    "linear_regression =LinearRegression()\n",
    "###use the traininng data to train the estimator\n",
    "\n",
    "linear_regression.fit(X_train,y_train)"
   ]
  },
  {
   "cell_type": "code",
   "execution_count": 263,
   "metadata": {},
   "outputs": [
    {
     "name": "stdout",
     "output_type": "stream",
     "text": [
      "Train r2 score: 0.39077542796611275\n",
      "Train r2 score: 0.3578525012206475\n",
      "train_mae: 57.651867096919744\n",
      "test_mae: 56.7453684803695\n",
      "train_mse1: 6075.141335491112\n",
      "test_mse1: 6026.676603110119\n"
     ]
    }
   ],
   "source": [
    "##PREDICTION AND MODEL EVALUATION (R-squared,MSE,MAE)\n",
    "\n",
    "y_train_pred1 = linear_regression.predict(X_train) # Train(Already)\n",
    "y_pred1 = linear_regression.predict(x_test)\n",
    "\n",
    "print('Train r2 score:', r2_score(y_train,y_train_pred1))\n",
    "print('Train r2 score:', r2_score(y_test,y_pred1))\n",
    "\n",
    "print('train_mae:',mean_absolute_error(y_train,y_train_pred1))\n",
    "print('test_mae:',mean_absolute_error(y_test,y_pred1))\n",
    "\n",
    "print('train_mse1:',mean_squared_error(y_train,y_train_pred1))\n",
    "print('test_mse1:', mean_squared_error(y_test,y_pred1))\n"
   ]
  },
  {
   "cell_type": "code",
   "execution_count": 264,
   "metadata": {},
   "outputs": [],
   "source": [
    "d=pd.DataFrame({'OLD': y_test,'NEW': y_pred1})"
   ]
  },
  {
   "cell_type": "code",
   "execution_count": 265,
   "metadata": {},
   "outputs": [
    {
     "data": {
      "text/html": [
       "<div>\n",
       "<style scoped>\n",
       "    .dataframe tbody tr th:only-of-type {\n",
       "        vertical-align: middle;\n",
       "    }\n",
       "\n",
       "    .dataframe tbody tr th {\n",
       "        vertical-align: top;\n",
       "    }\n",
       "\n",
       "    .dataframe thead th {\n",
       "        text-align: right;\n",
       "    }\n",
       "</style>\n",
       "<table border=\"1\" class=\"dataframe\">\n",
       "  <thead>\n",
       "    <tr style=\"text-align: right;\">\n",
       "      <th></th>\n",
       "      <th>OLD</th>\n",
       "      <th>NEW</th>\n",
       "    </tr>\n",
       "  </thead>\n",
       "  <tbody>\n",
       "    <tr>\n",
       "      <th>1234</th>\n",
       "      <td>104</td>\n",
       "      <td>77.794</td>\n",
       "    </tr>\n",
       "    <tr>\n",
       "      <th>4480</th>\n",
       "      <td>260</td>\n",
       "      <td>226.136</td>\n",
       "    </tr>\n",
       "    <tr>\n",
       "      <th>239</th>\n",
       "      <td>69</td>\n",
       "      <td>58.667</td>\n",
       "    </tr>\n",
       "    <tr>\n",
       "      <th>2238</th>\n",
       "      <td>32</td>\n",
       "      <td>59.978</td>\n",
       "    </tr>\n",
       "    <tr>\n",
       "      <th>611</th>\n",
       "      <td>60</td>\n",
       "      <td>64.264</td>\n",
       "    </tr>\n",
       "    <tr>\n",
       "      <th>...</th>\n",
       "      <td>...</td>\n",
       "      <td>...</td>\n",
       "    </tr>\n",
       "    <tr>\n",
       "      <th>5285</th>\n",
       "      <td>156</td>\n",
       "      <td>173.405</td>\n",
       "    </tr>\n",
       "    <tr>\n",
       "      <th>2742</th>\n",
       "      <td>249</td>\n",
       "      <td>199.741</td>\n",
       "    </tr>\n",
       "    <tr>\n",
       "      <th>774</th>\n",
       "      <td>51</td>\n",
       "      <td>103.362</td>\n",
       "    </tr>\n",
       "    <tr>\n",
       "      <th>6696</th>\n",
       "      <td>85</td>\n",
       "      <td>128.528</td>\n",
       "    </tr>\n",
       "    <tr>\n",
       "      <th>380</th>\n",
       "      <td>69</td>\n",
       "      <td>85.268</td>\n",
       "    </tr>\n",
       "  </tbody>\n",
       "</table>\n",
       "<p>1582 rows × 2 columns</p>\n",
       "</div>"
      ],
      "text/plain": [
       "      OLD     NEW\n",
       "1234  104  77.794\n",
       "4480  260 226.136\n",
       "239    69  58.667\n",
       "2238   32  59.978\n",
       "611    60  64.264\n",
       "...   ...     ...\n",
       "5285  156 173.405\n",
       "2742  249 199.741\n",
       "774    51 103.362\n",
       "6696   85 128.528\n",
       "380    69  85.268\n",
       "\n",
       "[1582 rows x 2 columns]"
      ]
     },
     "execution_count": 265,
     "metadata": {},
     "output_type": "execute_result"
    }
   ],
   "source": [
    "d"
   ]
  },
  {
   "cell_type": "code",
   "execution_count": 266,
   "metadata": {},
   "outputs": [
    {
     "data": {
      "image/png": "[encoded data removed]",
      "text/plain": [
       "<Figure size 576x360 with 1 Axes>"
      ]
     },
     "metadata": {
      "needs_background": "light"
     },
     "output_type": "display_data"
    }
   ],
   "source": [
    "plt.subplots(figsize=(8,5))\n",
    "plt.scatter(y_pred1,y_test)\n",
    "\n",
    "plt.plot(np.unique(y_test),np.poly1d(np.polyfit(y_test,y_pred1,1))(np.unique(y_test)),c='r')\n",
    "         \n",
    "plt.title('Predicted vs Actual')\n",
    "plt.xlabel('Predicted')\n",
    "plt.ylabel('Actual')\n",
    "plt.grid()\n",
    "plt.show()\n",
    "         "
   ]
  },
  {
   "cell_type": "code",
   "execution_count": 267,
   "metadata": {},
   "outputs": [
    {
     "data": {
      "text/plain": [
       "KNeighborsRegressor()"
      ]
     },
     "execution_count": 267,
     "metadata": {},
     "output_type": "execute_result"
    }
   ],
   "source": [
    "###import the estimator object model\n",
    "\n",
    "from sklearn.neighbors import KNeighborsRegressor\n",
    "\n",
    "knn=KNeighborsRegressor()\n",
    "\n",
    "###USE THE TRAINING DATA TO TRAIN THE ESTIMATOR\n",
    "\n",
    "knn.fit(X_train,y_train)"
   ]
  },
  {
   "cell_type": "code",
   "execution_count": 268,
   "metadata": {},
   "outputs": [
    {
     "name": "stdout",
     "output_type": "stream",
     "text": [
      "Train r2 score: 0.39077542796611275\n",
      "Train r2 score: 0.3578525012206475\n",
      "train_mae: 57.651867096919744\n",
      "test_mae: 56.7453684803695\n",
      "train_mse1: 6075.141335491112\n",
      "test_mse1: 6026.676603110119\n"
     ]
    }
   ],
   "source": [
    "##PREDICTION AND MODEL EVALUATION (R-squared,MSE,MAE)\n",
    "\n",
    "y_train_pred2 = linear_regression.predict(X_train) # Train(Already)\n",
    "y_pred2 = linear_regression.predict(x_test)\n",
    "\n",
    "print('Train r2 score:', r2_score(y_train,y_train_pred2))\n",
    "print('Train r2 score:', r2_score(y_test,y_pred2))\n",
    "\n",
    "print('train_mae:',mean_absolute_error(y_train,y_train_pred2))\n",
    "print('test_mae:',mean_absolute_error(y_test,y_pred2))\n",
    "\n",
    "print('train_mse1:',mean_squared_error(y_train,y_train_pred2))\n",
    "print('test_mse1:', mean_squared_error(y_test,y_pred2))"
   ]
  },
  {
   "cell_type": "code",
   "execution_count": 269,
   "metadata": {},
   "outputs": [
    {
     "data": {
      "text/html": [
       "<div>\n",
       "<style scoped>\n",
       "    .dataframe tbody tr th:only-of-type {\n",
       "        vertical-align: middle;\n",
       "    }\n",
       "\n",
       "    .dataframe tbody tr th {\n",
       "        vertical-align: top;\n",
       "    }\n",
       "\n",
       "    .dataframe thead th {\n",
       "        text-align: right;\n",
       "    }\n",
       "</style>\n",
       "<table border=\"1\" class=\"dataframe\">\n",
       "  <thead>\n",
       "    <tr style=\"text-align: right;\">\n",
       "      <th></th>\n",
       "      <th>OLD</th>\n",
       "      <th>NEW</th>\n",
       "    </tr>\n",
       "  </thead>\n",
       "  <tbody>\n",
       "    <tr>\n",
       "      <th>1234</th>\n",
       "      <td>104</td>\n",
       "      <td>77.794</td>\n",
       "    </tr>\n",
       "    <tr>\n",
       "      <th>4480</th>\n",
       "      <td>260</td>\n",
       "      <td>226.136</td>\n",
       "    </tr>\n",
       "    <tr>\n",
       "      <th>239</th>\n",
       "      <td>69</td>\n",
       "      <td>58.667</td>\n",
       "    </tr>\n",
       "    <tr>\n",
       "      <th>2238</th>\n",
       "      <td>32</td>\n",
       "      <td>59.978</td>\n",
       "    </tr>\n",
       "    <tr>\n",
       "      <th>611</th>\n",
       "      <td>60</td>\n",
       "      <td>64.264</td>\n",
       "    </tr>\n",
       "    <tr>\n",
       "      <th>...</th>\n",
       "      <td>...</td>\n",
       "      <td>...</td>\n",
       "    </tr>\n",
       "    <tr>\n",
       "      <th>5285</th>\n",
       "      <td>156</td>\n",
       "      <td>173.405</td>\n",
       "    </tr>\n",
       "    <tr>\n",
       "      <th>2742</th>\n",
       "      <td>249</td>\n",
       "      <td>199.741</td>\n",
       "    </tr>\n",
       "    <tr>\n",
       "      <th>774</th>\n",
       "      <td>51</td>\n",
       "      <td>103.362</td>\n",
       "    </tr>\n",
       "    <tr>\n",
       "      <th>6696</th>\n",
       "      <td>85</td>\n",
       "      <td>128.528</td>\n",
       "    </tr>\n",
       "    <tr>\n",
       "      <th>380</th>\n",
       "      <td>69</td>\n",
       "      <td>85.268</td>\n",
       "    </tr>\n",
       "  </tbody>\n",
       "</table>\n",
       "<p>1582 rows × 2 columns</p>\n",
       "</div>"
      ],
      "text/plain": [
       "      OLD     NEW\n",
       "1234  104  77.794\n",
       "4480  260 226.136\n",
       "239    69  58.667\n",
       "2238   32  59.978\n",
       "611    60  64.264\n",
       "...   ...     ...\n",
       "5285  156 173.405\n",
       "2742  249 199.741\n",
       "774    51 103.362\n",
       "6696   85 128.528\n",
       "380    69  85.268\n",
       "\n",
       "[1582 rows x 2 columns]"
      ]
     },
     "execution_count": 269,
     "metadata": {},
     "output_type": "execute_result"
    }
   ],
   "source": [
    "pd.DataFrame({'OLD':y_test,'NEW':y_pred2})"
   ]
  },
  {
   "cell_type": "code",
   "execution_count": 270,
   "metadata": {},
   "outputs": [
    {
     "data": {
      "text/plain": [
       "DecisionTreeRegressor()"
      ]
     },
     "execution_count": 270,
     "metadata": {},
     "output_type": "execute_result"
    }
   ],
   "source": [
    "from sklearn.tree import DecisionTreeRegressor\n",
    "\n",
    "dtress=DecisionTreeRegressor()\n",
    "\n",
    "dtress.fit(X_train,y_train)"
   ]
  },
  {
   "cell_type": "code",
   "execution_count": 271,
   "metadata": {},
   "outputs": [
    {
     "name": "stdout",
     "output_type": "stream",
     "text": [
      "Train r2 score: 1.0\n",
      "Train r2 score: 0.1747644954807107\n",
      "train_mae: 0.0\n",
      "test_mae: 53.16182048040455\n",
      "train_mse1: 0.0\n",
      "test_mse1: 7744.992414664981\n"
     ]
    }
   ],
   "source": [
    "y_train_pred3= dtress.predict(X_train) # Train(Already)\n",
    "y_pred3 = dtress.predict(x_test)\n",
    "\n",
    "print('Train r2 score:', r2_score(y_train,y_train_pred3))\n",
    "print('Train r2 score:', r2_score(y_test,y_pred3))\n",
    "\n",
    "print('train_mae:',mean_absolute_error(y_train,y_train_pred3))\n",
    "print('test_mae:',mean_absolute_error(y_test,y_pred3))\n",
    "\n",
    "print('train_mse1:',mean_squared_error(y_train,y_train_pred3))\n",
    "print('test_mse1:', mean_squared_error(y_test,y_pred3))"
   ]
  },
  {
   "cell_type": "code",
   "execution_count": 272,
   "metadata": {
    "scrolled": true
   },
   "outputs": [
    {
     "data": {
      "text/plain": [
       "RandomForestRegressor()"
      ]
     },
     "execution_count": 272,
     "metadata": {},
     "output_type": "execute_result"
    }
   ],
   "source": [
    "### D.RANDOM FOREST MODEL\n",
    "\n",
    "from sklearn.ensemble import RandomForestRegressor\n",
    "\n",
    "##import the estimator object(model)\n",
    "\n",
    "\n",
    "##create an instance of the estimator\n",
    "\n",
    "rf= RandomForestRegressor() ##Notice here also estimating ng\n",
    "\n",
    "## using the training data to train the estimator\n",
    "\n",
    "rf.fit(X_train,y_train)"
   ]
  },
  {
   "cell_type": "code",
   "execution_count": 273,
   "metadata": {},
   "outputs": [
    {
     "name": "stdout",
     "output_type": "stream",
     "text": [
      "Train r2 score: 0.9478028180770712\n",
      "Train r2 score: 0.6002925817095757\n",
      "train_mae: 14.749511462450593\n",
      "test_mae: 40.449171934260434\n",
      "train_mse1: 520.5063486482213\n",
      "test_mse1: 3751.3302636536027\n"
     ]
    }
   ],
   "source": [
    "y_train_pred4= rf.predict(X_train) # Train(Already)\n",
    "y_pred4 = rf.predict(x_test)\n",
    "\n",
    "print('Train r2 score:', r2_score(y_train,y_train_pred4))\n",
    "print('Train r2 score:', r2_score(y_test,y_pred4))\n",
    "\n",
    "print('train_mae:',mean_absolute_error(y_train,y_train_pred4))\n",
    "print('test_mae:',mean_absolute_error(y_test,y_pred4))\n",
    "\n",
    "print('train_mse1:',mean_squared_error(y_train,y_train_pred4))\n",
    "print('test_mse1:', mean_squared_error(y_test,y_pred4))"
   ]
  },
  {
   "cell_type": "code",
   "execution_count": 274,
   "metadata": {},
   "outputs": [
    {
     "data": {
      "image/png": "[encoded data removed]",
      "text/plain": [
       "<Figure size 576x360 with 1 Axes>"
      ]
     },
     "metadata": {
      "needs_background": "light"
     },
     "output_type": "display_data"
    }
   ],
   "source": [
    "plt.subplots(figsize=(8,5))\n",
    "plt.scatter(y_pred4,y_test)\n",
    "\n",
    "plt.plot(np.unique(y_test),np.poly1d(np.polyfit(y_test,y_pred4,1))(np.unique(y_test)),c='r')\n",
    "         \n",
    "plt.title('Predicted vs Actual')\n",
    "plt.xlabel('Predicted')\n",
    "plt.ylabel('Actual')\n",
    "plt.grid()\n",
    "plt.show()\n",
    "         "
   ]
  },
  {
   "cell_type": "markdown",
   "metadata": {},
   "source": [
    "E.XGBOOST"
   ]
  },
  {
   "cell_type": "code",
   "execution_count": 275,
   "metadata": {},
   "outputs": [
    {
     "data": {
      "text/plain": [
       "XGBRegressor(base_score=0.5, booster='gbtree', colsample_bylevel=1,\n",
       "             colsample_bynode=1, colsample_bytree=1, enable_categorical=False,\n",
       "             gamma=0, gpu_id=-1, importance_type=None,\n",
       "             interaction_constraints='', learning_rate=0.300000012,\n",
       "             max_delta_step=0, max_depth=6, min_child_weight=1, missing=nan,\n",
       "             monotone_constraints='()', n_estimators=100, n_jobs=8,\n",
       "             num_parallel_tree=1, predictor='auto', random_state=0, reg_alpha=0,\n",
       "             reg_lambda=1, scale_pos_weight=1, subsample=1, tree_method='exact',\n",
       "             validate_parameters=1, verbosity=None)"
      ]
     },
     "execution_count": 275,
     "metadata": {},
     "output_type": "execute_result"
    }
   ],
   "source": [
    "from xgboost import XGBRegressor\n",
    "xgb_model1=XGBRegressor()\n",
    "xgb_model1.fit(X_train,y_train,verbose=False)"
   ]
  },
  {
   "cell_type": "code",
   "execution_count": 276,
   "metadata": {},
   "outputs": [
    {
     "name": "stdout",
     "output_type": "stream",
     "text": [
      "Train r2 score: 0.898057285013881\n",
      "Train r2 score: 0.576012692560461\n",
      "train_mae: 21.862464867175333\n",
      "test_mae: 42.385050918073325\n",
      "train_mse5: 1016.5650403705511\n",
      "test_mse5: 3979.201648560073\n"
     ]
    }
   ],
   "source": [
    "y_train_pred5= xgb_model1.predict(X_train) # Train(Already)\n",
    "y_pred5 = xgb_model1.predict(x_test)\n",
    "\n",
    "print('Train r2 score:', r2_score(y_train,y_train_pred5))\n",
    "print('Train r2 score:', r2_score(y_test,y_pred5))\n",
    "\n",
    "print('train_mae:',mean_absolute_error(y_train,y_train_pred5))\n",
    "print('test_mae:',mean_absolute_error(y_test,y_pred5))\n",
    "\n",
    "print('train_mse5:',mean_squared_error(y_train,y_train_pred5))\n",
    "print('test_mse5:', mean_squared_error(y_test,y_pred5))"
   ]
  },
  {
   "cell_type": "code",
   "execution_count": 277,
   "metadata": {},
   "outputs": [
    {
     "data": {
      "text/html": [
       "<div>\n",
       "<style scoped>\n",
       "    .dataframe tbody tr th:only-of-type {\n",
       "        vertical-align: middle;\n",
       "    }\n",
       "\n",
       "    .dataframe tbody tr th {\n",
       "        vertical-align: top;\n",
       "    }\n",
       "\n",
       "    .dataframe thead th {\n",
       "        text-align: right;\n",
       "    }\n",
       "</style>\n",
       "<table border=\"1\" class=\"dataframe\">\n",
       "  <thead>\n",
       "    <tr style=\"text-align: right;\">\n",
       "      <th></th>\n",
       "      <th>OLD</th>\n",
       "      <th>NEW</th>\n",
       "    </tr>\n",
       "  </thead>\n",
       "  <tbody>\n",
       "    <tr>\n",
       "      <th>1234</th>\n",
       "      <td>104</td>\n",
       "      <td>126.188</td>\n",
       "    </tr>\n",
       "    <tr>\n",
       "      <th>4480</th>\n",
       "      <td>260</td>\n",
       "      <td>261.304</td>\n",
       "    </tr>\n",
       "    <tr>\n",
       "      <th>239</th>\n",
       "      <td>69</td>\n",
       "      <td>68.904</td>\n",
       "    </tr>\n",
       "    <tr>\n",
       "      <th>2238</th>\n",
       "      <td>32</td>\n",
       "      <td>40.442</td>\n",
       "    </tr>\n",
       "    <tr>\n",
       "      <th>611</th>\n",
       "      <td>60</td>\n",
       "      <td>58.590</td>\n",
       "    </tr>\n",
       "    <tr>\n",
       "      <th>...</th>\n",
       "      <td>...</td>\n",
       "      <td>...</td>\n",
       "    </tr>\n",
       "    <tr>\n",
       "      <th>5285</th>\n",
       "      <td>156</td>\n",
       "      <td>213.931</td>\n",
       "    </tr>\n",
       "    <tr>\n",
       "      <th>2742</th>\n",
       "      <td>249</td>\n",
       "      <td>195.212</td>\n",
       "    </tr>\n",
       "    <tr>\n",
       "      <th>774</th>\n",
       "      <td>51</td>\n",
       "      <td>80.351</td>\n",
       "    </tr>\n",
       "    <tr>\n",
       "      <th>6696</th>\n",
       "      <td>85</td>\n",
       "      <td>153.349</td>\n",
       "    </tr>\n",
       "    <tr>\n",
       "      <th>380</th>\n",
       "      <td>69</td>\n",
       "      <td>60.072</td>\n",
       "    </tr>\n",
       "  </tbody>\n",
       "</table>\n",
       "<p>1582 rows × 2 columns</p>\n",
       "</div>"
      ],
      "text/plain": [
       "      OLD     NEW\n",
       "1234  104 126.188\n",
       "4480  260 261.304\n",
       "239    69  68.904\n",
       "2238   32  40.442\n",
       "611    60  58.590\n",
       "...   ...     ...\n",
       "5285  156 213.931\n",
       "2742  249 195.212\n",
       "774    51  80.351\n",
       "6696   85 153.349\n",
       "380    69  60.072\n",
       "\n",
       "[1582 rows x 2 columns]"
      ]
     },
     "execution_count": 277,
     "metadata": {},
     "output_type": "execute_result"
    }
   ],
   "source": [
    "pd.DataFrame({'OLD':y_test,'NEW':y_pred5})"
   ]
  },
  {
   "cell_type": "code",
   "execution_count": 191,
   "metadata": {},
   "outputs": [
    {
     "data": {
      "image/png": "[encoded data removed]",
      "text/plain": [
       "<Figure size 576x360 with 1 Axes>"
      ]
     },
     "metadata": {
      "needs_background": "light"
     },
     "output_type": "display_data"
    }
   ],
   "source": [
    "plt.subplots(figsize=(8,5))\n",
    "plt.scatter(y_pred5,y_test)\n",
    "\n",
    "plt.plot(np.unique(y_test),np.poly1d(np.polyfit(y_test,y_pred5,1))(np.unique(y_test)),c='r')\n",
    "         \n",
    "plt.title('Predicted vs Actual')\n",
    "plt.xlabel('Predicted')\n",
    "plt.ylabel('Actual')\n",
    "plt.grid()\n",
    "plt.show()"
   ]
  },
  {
   "cell_type": "code",
   "execution_count": 278,
   "metadata": {},
   "outputs": [],
   "source": [
    "##XGBOOST  OPTIMIZATION:Is the problem of finding the set of inputs to a tragetr obejective function that result in the mininmum\n",
    "#or maximum of the evaluation function\n",
    "\n",
    "#using Grid search CV for optimization\n",
    "\n",
    "from sklearn.model_selection import GridSearchCV\n",
    "import warnings\n",
    "warnings.filterwarnings('ignore')"
   ]
  },
  {
   "cell_type": "code",
   "execution_count": 279,
   "metadata": {},
   "outputs": [
    {
     "data": {
      "text/plain": [
       "dict_keys(['bootstrap', 'ccp_alpha', 'criterion', 'max_depth', 'max_features', 'max_leaf_nodes', 'max_samples', 'min_impurity_decrease', 'min_samples_leaf', 'min_samples_split', 'min_weight_fraction_leaf', 'n_estimators', 'n_jobs', 'oob_score', 'random_state', 'verbose', 'warm_start'])"
      ]
     },
     "execution_count": 279,
     "metadata": {},
     "output_type": "execute_result"
    }
   ],
   "source": [
    "##checking the parameter tha can be optimized in the models\n",
    "rf.get_params().keys()"
   ]
  },
  {
   "cell_type": "code",
   "execution_count": 280,
   "metadata": {},
   "outputs": [
    {
     "ename": "KeyboardInterrupt",
     "evalue": "",
     "output_type": "error",
     "traceback": [
      "\u001b[1;31m---------------------------------------------------------------------------\u001b[0m",
      "\u001b[1;31mKeyboardInterrupt\u001b[0m                         Traceback (most recent call last)",
      "\u001b[1;32m<ipython-input-280-34143ba9ffd6>\u001b[0m in \u001b[0;36m<module>\u001b[1;34m\u001b[0m\n\u001b[0;32m      2\u001b[0m             {'n_estimators':[10,100,1000],'max_depth':[2,10,100],'n_jobs':[2,4,6,8]})\n\u001b[0;32m      3\u001b[0m \u001b[0mgrid_search\u001b[0m\u001b[1;33m=\u001b[0m\u001b[0mGridSearchCV\u001b[0m\u001b[1;33m(\u001b[0m\u001b[0mxgb_model1\u001b[0m\u001b[1;33m,\u001b[0m\u001b[0mparam_grid\u001b[0m\u001b[1;33m,\u001b[0m\u001b[0mcv\u001b[0m\u001b[1;33m=\u001b[0m\u001b[1;36m5\u001b[0m\u001b[1;33m,\u001b[0m\u001b[0mscoring\u001b[0m\u001b[1;33m=\u001b[0m\u001b[1;34m'r2'\u001b[0m\u001b[1;33m,\u001b[0m\u001b[0mreturn_train_score\u001b[0m\u001b[1;33m=\u001b[0m\u001b[1;32mTrue\u001b[0m\u001b[1;33m)\u001b[0m\u001b[1;33m\u001b[0m\u001b[1;33m\u001b[0m\u001b[0m\n\u001b[1;32m----> 4\u001b[1;33m \u001b[0mgrid_search\u001b[0m\u001b[1;33m=\u001b[0m\u001b[0mgrid_search\u001b[0m\u001b[1;33m.\u001b[0m\u001b[0mfit\u001b[0m\u001b[1;33m(\u001b[0m\u001b[0mX_train\u001b[0m\u001b[1;33m,\u001b[0m\u001b[0my_train\u001b[0m\u001b[1;33m)\u001b[0m\u001b[1;33m\u001b[0m\u001b[1;33m\u001b[0m\u001b[0m\n\u001b[0m",
      "\u001b[1;32m~\\anaconda3\\lib\\site-packages\\sklearn\\model_selection\\_search.py\u001b[0m in \u001b[0;36mfit\u001b[1;34m(self, X, y, groups, **fit_params)\u001b[0m\n\u001b[0;32m    889\u001b[0m                 \u001b[1;32mreturn\u001b[0m \u001b[0mresults\u001b[0m\u001b[1;33m\u001b[0m\u001b[1;33m\u001b[0m\u001b[0m\n\u001b[0;32m    890\u001b[0m \u001b[1;33m\u001b[0m\u001b[0m\n\u001b[1;32m--> 891\u001b[1;33m             \u001b[0mself\u001b[0m\u001b[1;33m.\u001b[0m\u001b[0m_run_search\u001b[0m\u001b[1;33m(\u001b[0m\u001b[0mevaluate_candidates\u001b[0m\u001b[1;33m)\u001b[0m\u001b[1;33m\u001b[0m\u001b[1;33m\u001b[0m\u001b[0m\n\u001b[0m\u001b[0;32m    892\u001b[0m \u001b[1;33m\u001b[0m\u001b[0m\n\u001b[0;32m    893\u001b[0m             \u001b[1;31m# multimetric is determined here because in the case of a callable\u001b[0m\u001b[1;33m\u001b[0m\u001b[1;33m\u001b[0m\u001b[1;33m\u001b[0m\u001b[0m\n",
      "\u001b[1;32m~\\anaconda3\\lib\\site-packages\\sklearn\\model_selection\\_search.py\u001b[0m in \u001b[0;36m_run_search\u001b[1;34m(self, evaluate_candidates)\u001b[0m\n\u001b[0;32m   1390\u001b[0m     \u001b[1;32mdef\u001b[0m \u001b[0m_run_search\u001b[0m\u001b[1;33m(\u001b[0m\u001b[0mself\u001b[0m\u001b[1;33m,\u001b[0m \u001b[0mevaluate_candidates\u001b[0m\u001b[1;33m)\u001b[0m\u001b[1;33m:\u001b[0m\u001b[1;33m\u001b[0m\u001b[1;33m\u001b[0m\u001b[0m\n\u001b[0;32m   1391\u001b[0m         \u001b[1;34m\"\"\"Search all candidates in param_grid\"\"\"\u001b[0m\u001b[1;33m\u001b[0m\u001b[1;33m\u001b[0m\u001b[0m\n\u001b[1;32m-> 1392\u001b[1;33m         \u001b[0mevaluate_candidates\u001b[0m\u001b[1;33m(\u001b[0m\u001b[0mParameterGrid\u001b[0m\u001b[1;33m(\u001b[0m\u001b[0mself\u001b[0m\u001b[1;33m.\u001b[0m\u001b[0mparam_grid\u001b[0m\u001b[1;33m)\u001b[0m\u001b[1;33m)\u001b[0m\u001b[1;33m\u001b[0m\u001b[1;33m\u001b[0m\u001b[0m\n\u001b[0m\u001b[0;32m   1393\u001b[0m \u001b[1;33m\u001b[0m\u001b[0m\n\u001b[0;32m   1394\u001b[0m \u001b[1;33m\u001b[0m\u001b[0m\n",
      "\u001b[1;32m~\\anaconda3\\lib\\site-packages\\sklearn\\model_selection\\_search.py\u001b[0m in \u001b[0;36mevaluate_candidates\u001b[1;34m(candidate_params, cv, more_results)\u001b[0m\n\u001b[0;32m    836\u001b[0m                     )\n\u001b[0;32m    837\u001b[0m \u001b[1;33m\u001b[0m\u001b[0m\n\u001b[1;32m--> 838\u001b[1;33m                 out = parallel(\n\u001b[0m\u001b[0;32m    839\u001b[0m                     delayed(_fit_and_score)(\n\u001b[0;32m    840\u001b[0m                         \u001b[0mclone\u001b[0m\u001b[1;33m(\u001b[0m\u001b[0mbase_estimator\u001b[0m\u001b[1;33m)\u001b[0m\u001b[1;33m,\u001b[0m\u001b[1;33m\u001b[0m\u001b[1;33m\u001b[0m\u001b[0m\n",
      "\u001b[1;32m~\\anaconda3\\lib\\site-packages\\joblib\\parallel.py\u001b[0m in \u001b[0;36m__call__\u001b[1;34m(self, iterable)\u001b[0m\n\u001b[0;32m   1030\u001b[0m                 \u001b[0mself\u001b[0m\u001b[1;33m.\u001b[0m\u001b[0m_iterating\u001b[0m \u001b[1;33m=\u001b[0m \u001b[0mself\u001b[0m\u001b[1;33m.\u001b[0m\u001b[0m_original_iterator\u001b[0m \u001b[1;32mis\u001b[0m \u001b[1;32mnot\u001b[0m \u001b[1;32mNone\u001b[0m\u001b[1;33m\u001b[0m\u001b[1;33m\u001b[0m\u001b[0m\n\u001b[0;32m   1031\u001b[0m \u001b[1;33m\u001b[0m\u001b[0m\n\u001b[1;32m-> 1032\u001b[1;33m             \u001b[1;32mwhile\u001b[0m \u001b[0mself\u001b[0m\u001b[1;33m.\u001b[0m\u001b[0mdispatch_one_batch\u001b[0m\u001b[1;33m(\u001b[0m\u001b[0miterator\u001b[0m\u001b[1;33m)\u001b[0m\u001b[1;33m:\u001b[0m\u001b[1;33m\u001b[0m\u001b[1;33m\u001b[0m\u001b[0m\n\u001b[0m\u001b[0;32m   1033\u001b[0m                 \u001b[1;32mpass\u001b[0m\u001b[1;33m\u001b[0m\u001b[1;33m\u001b[0m\u001b[0m\n\u001b[0;32m   1034\u001b[0m \u001b[1;33m\u001b[0m\u001b[0m\n",
      "\u001b[1;32m~\\anaconda3\\lib\\site-packages\\joblib\\parallel.py\u001b[0m in \u001b[0;36mdispatch_one_batch\u001b[1;34m(self, iterator)\u001b[0m\n\u001b[0;32m    845\u001b[0m                 \u001b[1;32mreturn\u001b[0m \u001b[1;32mFalse\u001b[0m\u001b[1;33m\u001b[0m\u001b[1;33m\u001b[0m\u001b[0m\n\u001b[0;32m    846\u001b[0m             \u001b[1;32melse\u001b[0m\u001b[1;33m:\u001b[0m\u001b[1;33m\u001b[0m\u001b[1;33m\u001b[0m\u001b[0m\n\u001b[1;32m--> 847\u001b[1;33m                 \u001b[0mself\u001b[0m\u001b[1;33m.\u001b[0m\u001b[0m_dispatch\u001b[0m\u001b[1;33m(\u001b[0m\u001b[0mtasks\u001b[0m\u001b[1;33m)\u001b[0m\u001b[1;33m\u001b[0m\u001b[1;33m\u001b[0m\u001b[0m\n\u001b[0m\u001b[0;32m    848\u001b[0m                 \u001b[1;32mreturn\u001b[0m \u001b[1;32mTrue\u001b[0m\u001b[1;33m\u001b[0m\u001b[1;33m\u001b[0m\u001b[0m\n\u001b[0;32m    849\u001b[0m \u001b[1;33m\u001b[0m\u001b[0m\n",
      "\u001b[1;32m~\\anaconda3\\lib\\site-packages\\joblib\\parallel.py\u001b[0m in \u001b[0;36m_dispatch\u001b[1;34m(self, batch)\u001b[0m\n\u001b[0;32m    763\u001b[0m         \u001b[1;32mwith\u001b[0m \u001b[0mself\u001b[0m\u001b[1;33m.\u001b[0m\u001b[0m_lock\u001b[0m\u001b[1;33m:\u001b[0m\u001b[1;33m\u001b[0m\u001b[1;33m\u001b[0m\u001b[0m\n\u001b[0;32m    764\u001b[0m             \u001b[0mjob_idx\u001b[0m \u001b[1;33m=\u001b[0m \u001b[0mlen\u001b[0m\u001b[1;33m(\u001b[0m\u001b[0mself\u001b[0m\u001b[1;33m.\u001b[0m\u001b[0m_jobs\u001b[0m\u001b[1;33m)\u001b[0m\u001b[1;33m\u001b[0m\u001b[1;33m\u001b[0m\u001b[0m\n\u001b[1;32m--> 765\u001b[1;33m             \u001b[0mjob\u001b[0m \u001b[1;33m=\u001b[0m \u001b[0mself\u001b[0m\u001b[1;33m.\u001b[0m\u001b[0m_backend\u001b[0m\u001b[1;33m.\u001b[0m\u001b[0mapply_async\u001b[0m\u001b[1;33m(\u001b[0m\u001b[0mbatch\u001b[0m\u001b[1;33m,\u001b[0m \u001b[0mcallback\u001b[0m\u001b[1;33m=\u001b[0m\u001b[0mcb\u001b[0m\u001b[1;33m)\u001b[0m\u001b[1;33m\u001b[0m\u001b[1;33m\u001b[0m\u001b[0m\n\u001b[0m\u001b[0;32m    766\u001b[0m             \u001b[1;31m# A job can complete so quickly than its callback is\u001b[0m\u001b[1;33m\u001b[0m\u001b[1;33m\u001b[0m\u001b[1;33m\u001b[0m\u001b[0m\n\u001b[0;32m    767\u001b[0m             \u001b[1;31m# called before we get here, causing self._jobs to\u001b[0m\u001b[1;33m\u001b[0m\u001b[1;33m\u001b[0m\u001b[1;33m\u001b[0m\u001b[0m\n",
      "\u001b[1;32m~\\anaconda3\\lib\\site-packages\\joblib\\_parallel_backends.py\u001b[0m in \u001b[0;36mapply_async\u001b[1;34m(self, func, callback)\u001b[0m\n\u001b[0;32m    206\u001b[0m     \u001b[1;32mdef\u001b[0m \u001b[0mapply_async\u001b[0m\u001b[1;33m(\u001b[0m\u001b[0mself\u001b[0m\u001b[1;33m,\u001b[0m \u001b[0mfunc\u001b[0m\u001b[1;33m,\u001b[0m \u001b[0mcallback\u001b[0m\u001b[1;33m=\u001b[0m\u001b[1;32mNone\u001b[0m\u001b[1;33m)\u001b[0m\u001b[1;33m:\u001b[0m\u001b[1;33m\u001b[0m\u001b[1;33m\u001b[0m\u001b[0m\n\u001b[0;32m    207\u001b[0m         \u001b[1;34m\"\"\"Schedule a func to be run\"\"\"\u001b[0m\u001b[1;33m\u001b[0m\u001b[1;33m\u001b[0m\u001b[0m\n\u001b[1;32m--> 208\u001b[1;33m         \u001b[0mresult\u001b[0m \u001b[1;33m=\u001b[0m \u001b[0mImmediateResult\u001b[0m\u001b[1;33m(\u001b[0m\u001b[0mfunc\u001b[0m\u001b[1;33m)\u001b[0m\u001b[1;33m\u001b[0m\u001b[1;33m\u001b[0m\u001b[0m\n\u001b[0m\u001b[0;32m    209\u001b[0m         \u001b[1;32mif\u001b[0m \u001b[0mcallback\u001b[0m\u001b[1;33m:\u001b[0m\u001b[1;33m\u001b[0m\u001b[1;33m\u001b[0m\u001b[0m\n\u001b[0;32m    210\u001b[0m             \u001b[0mcallback\u001b[0m\u001b[1;33m(\u001b[0m\u001b[0mresult\u001b[0m\u001b[1;33m)\u001b[0m\u001b[1;33m\u001b[0m\u001b[1;33m\u001b[0m\u001b[0m\n",
      "\u001b[1;32m~\\anaconda3\\lib\\site-packages\\joblib\\_parallel_backends.py\u001b[0m in \u001b[0;36m__init__\u001b[1;34m(self, batch)\u001b[0m\n\u001b[0;32m    570\u001b[0m         \u001b[1;31m# Don't delay the application, to avoid keeping the input\u001b[0m\u001b[1;33m\u001b[0m\u001b[1;33m\u001b[0m\u001b[1;33m\u001b[0m\u001b[0m\n\u001b[0;32m    571\u001b[0m         \u001b[1;31m# arguments in memory\u001b[0m\u001b[1;33m\u001b[0m\u001b[1;33m\u001b[0m\u001b[1;33m\u001b[0m\u001b[0m\n\u001b[1;32m--> 572\u001b[1;33m         \u001b[0mself\u001b[0m\u001b[1;33m.\u001b[0m\u001b[0mresults\u001b[0m \u001b[1;33m=\u001b[0m \u001b[0mbatch\u001b[0m\u001b[1;33m(\u001b[0m\u001b[1;33m)\u001b[0m\u001b[1;33m\u001b[0m\u001b[1;33m\u001b[0m\u001b[0m\n\u001b[0m\u001b[0;32m    573\u001b[0m \u001b[1;33m\u001b[0m\u001b[0m\n\u001b[0;32m    574\u001b[0m     \u001b[1;32mdef\u001b[0m \u001b[0mget\u001b[0m\u001b[1;33m(\u001b[0m\u001b[0mself\u001b[0m\u001b[1;33m)\u001b[0m\u001b[1;33m:\u001b[0m\u001b[1;33m\u001b[0m\u001b[1;33m\u001b[0m\u001b[0m\n",
      "\u001b[1;32m~\\anaconda3\\lib\\site-packages\\joblib\\parallel.py\u001b[0m in \u001b[0;36m__call__\u001b[1;34m(self)\u001b[0m\n\u001b[0;32m    250\u001b[0m         \u001b[1;31m# change the default number of processes to -1\u001b[0m\u001b[1;33m\u001b[0m\u001b[1;33m\u001b[0m\u001b[1;33m\u001b[0m\u001b[0m\n\u001b[0;32m    251\u001b[0m         \u001b[1;32mwith\u001b[0m \u001b[0mparallel_backend\u001b[0m\u001b[1;33m(\u001b[0m\u001b[0mself\u001b[0m\u001b[1;33m.\u001b[0m\u001b[0m_backend\u001b[0m\u001b[1;33m,\u001b[0m \u001b[0mn_jobs\u001b[0m\u001b[1;33m=\u001b[0m\u001b[0mself\u001b[0m\u001b[1;33m.\u001b[0m\u001b[0m_n_jobs\u001b[0m\u001b[1;33m)\u001b[0m\u001b[1;33m:\u001b[0m\u001b[1;33m\u001b[0m\u001b[1;33m\u001b[0m\u001b[0m\n\u001b[1;32m--> 252\u001b[1;33m             return [func(*args, **kwargs)\n\u001b[0m\u001b[0;32m    253\u001b[0m                     for func, args, kwargs in self.items]\n\u001b[0;32m    254\u001b[0m \u001b[1;33m\u001b[0m\u001b[0m\n",
      "\u001b[1;32m~\\anaconda3\\lib\\site-packages\\joblib\\parallel.py\u001b[0m in \u001b[0;36m<listcomp>\u001b[1;34m(.0)\u001b[0m\n\u001b[0;32m    250\u001b[0m         \u001b[1;31m# change the default number of processes to -1\u001b[0m\u001b[1;33m\u001b[0m\u001b[1;33m\u001b[0m\u001b[1;33m\u001b[0m\u001b[0m\n\u001b[0;32m    251\u001b[0m         \u001b[1;32mwith\u001b[0m \u001b[0mparallel_backend\u001b[0m\u001b[1;33m(\u001b[0m\u001b[0mself\u001b[0m\u001b[1;33m.\u001b[0m\u001b[0m_backend\u001b[0m\u001b[1;33m,\u001b[0m \u001b[0mn_jobs\u001b[0m\u001b[1;33m=\u001b[0m\u001b[0mself\u001b[0m\u001b[1;33m.\u001b[0m\u001b[0m_n_jobs\u001b[0m\u001b[1;33m)\u001b[0m\u001b[1;33m:\u001b[0m\u001b[1;33m\u001b[0m\u001b[1;33m\u001b[0m\u001b[0m\n\u001b[1;32m--> 252\u001b[1;33m             return [func(*args, **kwargs)\n\u001b[0m\u001b[0;32m    253\u001b[0m                     for func, args, kwargs in self.items]\n\u001b[0;32m    254\u001b[0m \u001b[1;33m\u001b[0m\u001b[0m\n",
      "\u001b[1;32m~\\anaconda3\\lib\\site-packages\\sklearn\\utils\\fixes.py\u001b[0m in \u001b[0;36m__call__\u001b[1;34m(self, *args, **kwargs)\u001b[0m\n\u001b[0;32m    214\u001b[0m     \u001b[1;32mdef\u001b[0m \u001b[0m__call__\u001b[0m\u001b[1;33m(\u001b[0m\u001b[0mself\u001b[0m\u001b[1;33m,\u001b[0m \u001b[1;33m*\u001b[0m\u001b[0margs\u001b[0m\u001b[1;33m,\u001b[0m \u001b[1;33m**\u001b[0m\u001b[0mkwargs\u001b[0m\u001b[1;33m)\u001b[0m\u001b[1;33m:\u001b[0m\u001b[1;33m\u001b[0m\u001b[1;33m\u001b[0m\u001b[0m\n\u001b[0;32m    215\u001b[0m         \u001b[1;32mwith\u001b[0m \u001b[0mconfig_context\u001b[0m\u001b[1;33m(\u001b[0m\u001b[1;33m**\u001b[0m\u001b[0mself\u001b[0m\u001b[1;33m.\u001b[0m\u001b[0mconfig\u001b[0m\u001b[1;33m)\u001b[0m\u001b[1;33m:\u001b[0m\u001b[1;33m\u001b[0m\u001b[1;33m\u001b[0m\u001b[0m\n\u001b[1;32m--> 216\u001b[1;33m             \u001b[1;32mreturn\u001b[0m \u001b[0mself\u001b[0m\u001b[1;33m.\u001b[0m\u001b[0mfunction\u001b[0m\u001b[1;33m(\u001b[0m\u001b[1;33m*\u001b[0m\u001b[0margs\u001b[0m\u001b[1;33m,\u001b[0m \u001b[1;33m**\u001b[0m\u001b[0mkwargs\u001b[0m\u001b[1;33m)\u001b[0m\u001b[1;33m\u001b[0m\u001b[1;33m\u001b[0m\u001b[0m\n\u001b[0m\u001b[0;32m    217\u001b[0m \u001b[1;33m\u001b[0m\u001b[0m\n\u001b[0;32m    218\u001b[0m \u001b[1;33m\u001b[0m\u001b[0m\n",
      "\u001b[1;32m~\\anaconda3\\lib\\site-packages\\sklearn\\model_selection\\_validation.py\u001b[0m in \u001b[0;36m_fit_and_score\u001b[1;34m(estimator, X, y, scorer, train, test, verbose, parameters, fit_params, return_train_score, return_parameters, return_n_test_samples, return_times, return_estimator, split_progress, candidate_progress, error_score)\u001b[0m\n\u001b[0;32m    678\u001b[0m             \u001b[0mestimator\u001b[0m\u001b[1;33m.\u001b[0m\u001b[0mfit\u001b[0m\u001b[1;33m(\u001b[0m\u001b[0mX_train\u001b[0m\u001b[1;33m,\u001b[0m \u001b[1;33m**\u001b[0m\u001b[0mfit_params\u001b[0m\u001b[1;33m)\u001b[0m\u001b[1;33m\u001b[0m\u001b[1;33m\u001b[0m\u001b[0m\n\u001b[0;32m    679\u001b[0m         \u001b[1;32melse\u001b[0m\u001b[1;33m:\u001b[0m\u001b[1;33m\u001b[0m\u001b[1;33m\u001b[0m\u001b[0m\n\u001b[1;32m--> 680\u001b[1;33m             \u001b[0mestimator\u001b[0m\u001b[1;33m.\u001b[0m\u001b[0mfit\u001b[0m\u001b[1;33m(\u001b[0m\u001b[0mX_train\u001b[0m\u001b[1;33m,\u001b[0m \u001b[0my_train\u001b[0m\u001b[1;33m,\u001b[0m \u001b[1;33m**\u001b[0m\u001b[0mfit_params\u001b[0m\u001b[1;33m)\u001b[0m\u001b[1;33m\u001b[0m\u001b[1;33m\u001b[0m\u001b[0m\n\u001b[0m\u001b[0;32m    681\u001b[0m \u001b[1;33m\u001b[0m\u001b[0m\n\u001b[0;32m    682\u001b[0m     \u001b[1;32mexcept\u001b[0m \u001b[0mException\u001b[0m\u001b[1;33m:\u001b[0m\u001b[1;33m\u001b[0m\u001b[1;33m\u001b[0m\u001b[0m\n",
      "\u001b[1;32m~\\anaconda3\\lib\\site-packages\\xgboost\\core.py\u001b[0m in \u001b[0;36minner_f\u001b[1;34m(*args, **kwargs)\u001b[0m\n\u001b[0;32m    504\u001b[0m         \u001b[1;32mfor\u001b[0m \u001b[0mk\u001b[0m\u001b[1;33m,\u001b[0m \u001b[0marg\u001b[0m \u001b[1;32min\u001b[0m \u001b[0mzip\u001b[0m\u001b[1;33m(\u001b[0m\u001b[0msig\u001b[0m\u001b[1;33m.\u001b[0m\u001b[0mparameters\u001b[0m\u001b[1;33m,\u001b[0m \u001b[0margs\u001b[0m\u001b[1;33m)\u001b[0m\u001b[1;33m:\u001b[0m\u001b[1;33m\u001b[0m\u001b[1;33m\u001b[0m\u001b[0m\n\u001b[0;32m    505\u001b[0m             \u001b[0mkwargs\u001b[0m\u001b[1;33m[\u001b[0m\u001b[0mk\u001b[0m\u001b[1;33m]\u001b[0m \u001b[1;33m=\u001b[0m \u001b[0marg\u001b[0m\u001b[1;33m\u001b[0m\u001b[1;33m\u001b[0m\u001b[0m\n\u001b[1;32m--> 506\u001b[1;33m         \u001b[1;32mreturn\u001b[0m \u001b[0mf\u001b[0m\u001b[1;33m(\u001b[0m\u001b[1;33m**\u001b[0m\u001b[0mkwargs\u001b[0m\u001b[1;33m)\u001b[0m\u001b[1;33m\u001b[0m\u001b[1;33m\u001b[0m\u001b[0m\n\u001b[0m\u001b[0;32m    507\u001b[0m \u001b[1;33m\u001b[0m\u001b[0m\n\u001b[0;32m    508\u001b[0m     \u001b[1;32mreturn\u001b[0m \u001b[0minner_f\u001b[0m\u001b[1;33m\u001b[0m\u001b[1;33m\u001b[0m\u001b[0m\n",
      "\u001b[1;32m~\\anaconda3\\lib\\site-packages\\xgboost\\sklearn.py\u001b[0m in \u001b[0;36mfit\u001b[1;34m(self, X, y, sample_weight, base_margin, eval_set, eval_metric, early_stopping_rounds, verbose, xgb_model, sample_weight_eval_set, base_margin_eval_set, feature_weights, callbacks)\u001b[0m\n\u001b[0;32m    787\u001b[0m \u001b[1;33m\u001b[0m\u001b[0m\n\u001b[0;32m    788\u001b[0m         \u001b[0mmodel\u001b[0m\u001b[1;33m,\u001b[0m \u001b[0mfeval\u001b[0m\u001b[1;33m,\u001b[0m \u001b[0mparams\u001b[0m \u001b[1;33m=\u001b[0m \u001b[0mself\u001b[0m\u001b[1;33m.\u001b[0m\u001b[0m_configure_fit\u001b[0m\u001b[1;33m(\u001b[0m\u001b[0mxgb_model\u001b[0m\u001b[1;33m,\u001b[0m \u001b[0meval_metric\u001b[0m\u001b[1;33m,\u001b[0m \u001b[0mparams\u001b[0m\u001b[1;33m)\u001b[0m\u001b[1;33m\u001b[0m\u001b[1;33m\u001b[0m\u001b[0m\n\u001b[1;32m--> 789\u001b[1;33m         self._Booster = train(\n\u001b[0m\u001b[0;32m    790\u001b[0m             \u001b[0mparams\u001b[0m\u001b[1;33m,\u001b[0m\u001b[1;33m\u001b[0m\u001b[1;33m\u001b[0m\u001b[0m\n\u001b[0;32m    791\u001b[0m             \u001b[0mtrain_dmatrix\u001b[0m\u001b[1;33m,\u001b[0m\u001b[1;33m\u001b[0m\u001b[1;33m\u001b[0m\u001b[0m\n",
      "\u001b[1;32m~\\anaconda3\\lib\\site-packages\\xgboost\\training.py\u001b[0m in \u001b[0;36mtrain\u001b[1;34m(params, dtrain, num_boost_round, evals, obj, feval, maximize, early_stopping_rounds, evals_result, verbose_eval, xgb_model, callbacks)\u001b[0m\n\u001b[0;32m    186\u001b[0m     \u001b[0mBooster\u001b[0m \u001b[1;33m:\u001b[0m \u001b[0ma\u001b[0m \u001b[0mtrained\u001b[0m \u001b[0mbooster\u001b[0m \u001b[0mmodel\u001b[0m\u001b[1;33m\u001b[0m\u001b[1;33m\u001b[0m\u001b[0m\n\u001b[0;32m    187\u001b[0m     \"\"\"\n\u001b[1;32m--> 188\u001b[1;33m     bst = _train_internal(params, dtrain,\n\u001b[0m\u001b[0;32m    189\u001b[0m                           \u001b[0mnum_boost_round\u001b[0m\u001b[1;33m=\u001b[0m\u001b[0mnum_boost_round\u001b[0m\u001b[1;33m,\u001b[0m\u001b[1;33m\u001b[0m\u001b[1;33m\u001b[0m\u001b[0m\n\u001b[0;32m    190\u001b[0m                           \u001b[0mevals\u001b[0m\u001b[1;33m=\u001b[0m\u001b[0mevals\u001b[0m\u001b[1;33m,\u001b[0m\u001b[1;33m\u001b[0m\u001b[1;33m\u001b[0m\u001b[0m\n",
      "\u001b[1;32m~\\anaconda3\\lib\\site-packages\\xgboost\\training.py\u001b[0m in \u001b[0;36m_train_internal\u001b[1;34m(params, dtrain, num_boost_round, evals, obj, feval, xgb_model, callbacks, evals_result, maximize, verbose_eval, early_stopping_rounds)\u001b[0m\n\u001b[0;32m    110\u001b[0m     \u001b[1;31m# Copy to serialise and unserialise booster to reset state and free\u001b[0m\u001b[1;33m\u001b[0m\u001b[1;33m\u001b[0m\u001b[1;33m\u001b[0m\u001b[0m\n\u001b[0;32m    111\u001b[0m     \u001b[1;31m# training memory\u001b[0m\u001b[1;33m\u001b[0m\u001b[1;33m\u001b[0m\u001b[1;33m\u001b[0m\u001b[0m\n\u001b[1;32m--> 112\u001b[1;33m     \u001b[1;32mreturn\u001b[0m \u001b[0mbst\u001b[0m\u001b[1;33m.\u001b[0m\u001b[0mcopy\u001b[0m\u001b[1;33m(\u001b[0m\u001b[1;33m)\u001b[0m\u001b[1;33m\u001b[0m\u001b[1;33m\u001b[0m\u001b[0m\n\u001b[0m\u001b[0;32m    113\u001b[0m \u001b[1;33m\u001b[0m\u001b[0m\n\u001b[0;32m    114\u001b[0m \u001b[1;33m\u001b[0m\u001b[0m\n",
      "\u001b[1;32m~\\anaconda3\\lib\\site-packages\\xgboost\\core.py\u001b[0m in \u001b[0;36mcopy\u001b[1;34m(self)\u001b[0m\n\u001b[0;32m   1531\u001b[0m             \u001b[0ma\u001b[0m \u001b[0mcopied\u001b[0m \u001b[0mbooster\u001b[0m \u001b[0mmodel\u001b[0m\u001b[1;33m\u001b[0m\u001b[1;33m\u001b[0m\u001b[0m\n\u001b[0;32m   1532\u001b[0m         \"\"\"\n\u001b[1;32m-> 1533\u001b[1;33m         \u001b[1;32mreturn\u001b[0m \u001b[0mself\u001b[0m\u001b[1;33m.\u001b[0m\u001b[0m__copy__\u001b[0m\u001b[1;33m(\u001b[0m\u001b[1;33m)\u001b[0m\u001b[1;33m\u001b[0m\u001b[1;33m\u001b[0m\u001b[0m\n\u001b[0m\u001b[0;32m   1534\u001b[0m \u001b[1;33m\u001b[0m\u001b[0m\n\u001b[0;32m   1535\u001b[0m     \u001b[1;32mdef\u001b[0m \u001b[0mattr\u001b[0m\u001b[1;33m(\u001b[0m\u001b[0mself\u001b[0m\u001b[1;33m,\u001b[0m \u001b[0mkey\u001b[0m\u001b[1;33m)\u001b[0m\u001b[1;33m:\u001b[0m\u001b[1;33m\u001b[0m\u001b[1;33m\u001b[0m\u001b[0m\n",
      "\u001b[1;32m~\\anaconda3\\lib\\site-packages\\xgboost\\core.py\u001b[0m in \u001b[0;36m__copy__\u001b[1;34m(self)\u001b[0m\n\u001b[0;32m   1517\u001b[0m \u001b[1;33m\u001b[0m\u001b[0m\n\u001b[0;32m   1518\u001b[0m     \u001b[1;32mdef\u001b[0m \u001b[0m__copy__\u001b[0m\u001b[1;33m(\u001b[0m\u001b[0mself\u001b[0m\u001b[1;33m)\u001b[0m\u001b[1;33m:\u001b[0m\u001b[1;33m\u001b[0m\u001b[1;33m\u001b[0m\u001b[0m\n\u001b[1;32m-> 1519\u001b[1;33m         \u001b[1;32mreturn\u001b[0m \u001b[0mself\u001b[0m\u001b[1;33m.\u001b[0m\u001b[0m__deepcopy__\u001b[0m\u001b[1;33m(\u001b[0m\u001b[1;32mNone\u001b[0m\u001b[1;33m)\u001b[0m\u001b[1;33m\u001b[0m\u001b[1;33m\u001b[0m\u001b[0m\n\u001b[0m\u001b[0;32m   1520\u001b[0m \u001b[1;33m\u001b[0m\u001b[0m\n\u001b[0;32m   1521\u001b[0m     \u001b[1;32mdef\u001b[0m \u001b[0m__deepcopy__\u001b[0m\u001b[1;33m(\u001b[0m\u001b[0mself\u001b[0m\u001b[1;33m,\u001b[0m \u001b[0m_\u001b[0m\u001b[1;33m)\u001b[0m\u001b[1;33m:\u001b[0m\u001b[1;33m\u001b[0m\u001b[1;33m\u001b[0m\u001b[0m\n",
      "\u001b[1;32m~\\anaconda3\\lib\\site-packages\\xgboost\\core.py\u001b[0m in \u001b[0;36m__deepcopy__\u001b[1;34m(self, _)\u001b[0m\n\u001b[0;32m   1521\u001b[0m     \u001b[1;32mdef\u001b[0m \u001b[0m__deepcopy__\u001b[0m\u001b[1;33m(\u001b[0m\u001b[0mself\u001b[0m\u001b[1;33m,\u001b[0m \u001b[0m_\u001b[0m\u001b[1;33m)\u001b[0m\u001b[1;33m:\u001b[0m\u001b[1;33m\u001b[0m\u001b[1;33m\u001b[0m\u001b[0m\n\u001b[0;32m   1522\u001b[0m         \u001b[1;34m'''Return a copy of booster.'''\u001b[0m\u001b[1;33m\u001b[0m\u001b[1;33m\u001b[0m\u001b[0m\n\u001b[1;32m-> 1523\u001b[1;33m         \u001b[1;32mreturn\u001b[0m \u001b[0mBooster\u001b[0m\u001b[1;33m(\u001b[0m\u001b[0mmodel_file\u001b[0m\u001b[1;33m=\u001b[0m\u001b[0mself\u001b[0m\u001b[1;33m)\u001b[0m\u001b[1;33m\u001b[0m\u001b[1;33m\u001b[0m\u001b[0m\n\u001b[0m\u001b[0;32m   1524\u001b[0m \u001b[1;33m\u001b[0m\u001b[0m\n\u001b[0;32m   1525\u001b[0m     \u001b[1;32mdef\u001b[0m \u001b[0mcopy\u001b[0m\u001b[1;33m(\u001b[0m\u001b[0mself\u001b[0m\u001b[1;33m)\u001b[0m\u001b[1;33m:\u001b[0m\u001b[1;33m\u001b[0m\u001b[1;33m\u001b[0m\u001b[0m\n",
      "\u001b[1;32m~\\anaconda3\\lib\\site-packages\\xgboost\\core.py\u001b[0m in \u001b[0;36m__init__\u001b[1;34m(self, params, cache, model_file)\u001b[0m\n\u001b[0;32m   1315\u001b[0m             \u001b[1;31m# We use the pickle interface for getting memory snapshot from\u001b[0m\u001b[1;33m\u001b[0m\u001b[1;33m\u001b[0m\u001b[1;33m\u001b[0m\u001b[0m\n\u001b[0;32m   1316\u001b[0m             \u001b[1;31m# another model, and load the snapshot with this booster.\u001b[0m\u001b[1;33m\u001b[0m\u001b[1;33m\u001b[0m\u001b[1;33m\u001b[0m\u001b[0m\n\u001b[1;32m-> 1317\u001b[1;33m             \u001b[0mstate\u001b[0m \u001b[1;33m=\u001b[0m \u001b[0mmodel_file\u001b[0m\u001b[1;33m.\u001b[0m\u001b[0m__getstate__\u001b[0m\u001b[1;33m(\u001b[0m\u001b[1;33m)\u001b[0m\u001b[1;33m\u001b[0m\u001b[1;33m\u001b[0m\u001b[0m\n\u001b[0m\u001b[0;32m   1318\u001b[0m             \u001b[0mhandle\u001b[0m \u001b[1;33m=\u001b[0m \u001b[0mstate\u001b[0m\u001b[1;33m[\u001b[0m\u001b[1;34m'handle'\u001b[0m\u001b[1;33m]\u001b[0m\u001b[1;33m\u001b[0m\u001b[1;33m\u001b[0m\u001b[0m\n\u001b[0;32m   1319\u001b[0m             \u001b[1;32mdel\u001b[0m \u001b[0mstate\u001b[0m\u001b[1;33m[\u001b[0m\u001b[1;34m'handle'\u001b[0m\u001b[1;33m]\u001b[0m\u001b[1;33m\u001b[0m\u001b[1;33m\u001b[0m\u001b[0m\n",
      "\u001b[1;32m~\\anaconda3\\lib\\site-packages\\xgboost\\core.py\u001b[0m in \u001b[0;36m__getstate__\u001b[1;34m(self)\u001b[0m\n\u001b[0;32m   1431\u001b[0m             \u001b[0mlength\u001b[0m \u001b[1;33m=\u001b[0m \u001b[0mc_bst_ulong\u001b[0m\u001b[1;33m(\u001b[0m\u001b[1;33m)\u001b[0m\u001b[1;33m\u001b[0m\u001b[1;33m\u001b[0m\u001b[0m\n\u001b[0;32m   1432\u001b[0m             \u001b[0mcptr\u001b[0m \u001b[1;33m=\u001b[0m \u001b[0mctypes\u001b[0m\u001b[1;33m.\u001b[0m\u001b[0mPOINTER\u001b[0m\u001b[1;33m(\u001b[0m\u001b[0mctypes\u001b[0m\u001b[1;33m.\u001b[0m\u001b[0mc_char\u001b[0m\u001b[1;33m)\u001b[0m\u001b[1;33m(\u001b[0m\u001b[1;33m)\u001b[0m\u001b[1;33m\u001b[0m\u001b[1;33m\u001b[0m\u001b[0m\n\u001b[1;32m-> 1433\u001b[1;33m             _check_call(_LIB.XGBoosterSerializeToBuffer(self.handle,\n\u001b[0m\u001b[0;32m   1434\u001b[0m                                                         \u001b[0mctypes\u001b[0m\u001b[1;33m.\u001b[0m\u001b[0mbyref\u001b[0m\u001b[1;33m(\u001b[0m\u001b[0mlength\u001b[0m\u001b[1;33m)\u001b[0m\u001b[1;33m,\u001b[0m\u001b[1;33m\u001b[0m\u001b[1;33m\u001b[0m\u001b[0m\n\u001b[0;32m   1435\u001b[0m                                                         ctypes.byref(cptr)))\n",
      "\u001b[1;31mKeyboardInterrupt\u001b[0m: "
     ]
    }
   ],
   "source": [
    "param_grid=({'n_estimators':[10,100,100],'n_jobs':[2,4,6,8],'max_depth':[2,10,100]},\n",
    "            {'n_estimators':[10,100,1000],'max_depth':[2,10,100],'n_jobs':[2,4,6,8]})\n",
    "grid_search=GridSearchCV(xgb_model1,param_grid,cv=5,scoring='r2',return_train_score=True)\n",
    "grid_search=grid_search.fit(X_train,y_train)"
   ]
  },
  {
   "cell_type": "code",
   "execution_count": 91,
   "metadata": {},
   "outputs": [
    {
     "data": {
      "text/plain": [
       "{'max_depth': 10, 'n_estimators': 100, 'n_jobs': 2}"
      ]
     },
     "execution_count": 91,
     "metadata": {},
     "output_type": "execute_result"
    }
   ],
   "source": [
    "###To see the best parameter for our model\n",
    "grid_search.best_params_"
   ]
  },
  {
   "cell_type": "code",
   "execution_count": null,
   "metadata": {},
   "outputs": [],
   "source": []
  },
  {
   "cell_type": "code",
   "execution_count": 92,
   "metadata": {},
   "outputs": [
    {
     "data": {
      "text/plain": [
       "RandomForestRegressor()"
      ]
     },
     "execution_count": 92,
     "metadata": {},
     "output_type": "execute_result"
    }
   ],
   "source": [
    "###import the estimator object\n",
    "from sklearn.ensemble import RandomForestRegressor\n",
    "\n",
    "rf=RandomForestRegressor()\n",
    "\n",
    "rf.fit(X_train,y_train) # use the training data to train the estimator"
   ]
  },
  {
   "cell_type": "code",
   "execution_count": 281,
   "metadata": {},
   "outputs": [
    {
     "name": "stdout",
     "output_type": "stream",
     "text": [
      "Train r2 score: 0.7677361470083388\n",
      "Train r2 score: 0.5647973460283502\n",
      "train_mae: 33.748727418186625\n",
      "test_mae: 43.57824894117719\n",
      "train_mse1: 2316.1175678442355\n",
      "test_mse1: 4084.459812251947\n"
     ]
    }
   ],
   "source": [
    "rf= RandomForestRegressor(max_depth=10,n_estimators=100,n_jobs=2)\n",
    "\n",
    "rf.fit(X_train,y_train)\n",
    "\n",
    "y_train_pred4a= rf.predict(X_train) # Train(Already)\n",
    "y_pred4a = rf.predict(x_test) ##Test(new)\n",
    "\n",
    "print('Train r2 score:', r2_score(y_train,y_train_pred4a))\n",
    "print('Train r2 score:', r2_score(y_test,y_pred4a))\n",
    "\n",
    "print('train_mae:',mean_absolute_error(y_train,y_train_pred4a))\n",
    "print('test_mae:',mean_absolute_error(y_test,y_pred4a))\n",
    "\n",
    "print('train_mse1:',mean_squared_error(y_train,y_train_pred4a))\n",
    "print('test_mse1:', mean_squared_error(y_test,y_pred4a))"
   ]
  },
  {
   "cell_type": "code",
   "execution_count": 282,
   "metadata": {},
   "outputs": [
    {
     "data": {
      "image/png": "[encoded data removed]",
      "text/plain": [
       "<Figure size 576x360 with 1 Axes>"
      ]
     },
     "metadata": {
      "needs_background": "light"
     },
     "output_type": "display_data"
    }
   ],
   "source": [
    "plt.subplots(figsize=(8,5))\n",
    "plt.scatter(y_pred4,y_test)\n",
    "\n",
    "plt.plot(np.unique(y_test),np.poly1d(np.polyfit(y_test,y_pred4,1))(np.unique(y_test)),c='r')\n",
    "         \n",
    "plt.title('Predicted vs Actual')\n",
    "plt.xlabel('Predicted')\n",
    "plt.ylabel('Actual')\n",
    "plt.grid()\n",
    "plt.show()"
   ]
  },
  {
   "cell_type": "code",
   "execution_count": 283,
   "metadata": {},
   "outputs": [],
   "source": [
    "##VALIDATION\n",
    "\n",
    "from sklearn.model_selection import cross_val_score\n",
    "import sklearn.metrics\n"
   ]
  },
  {
   "cell_type": "code",
   "execution_count": 284,
   "metadata": {},
   "outputs": [
    {
     "data": {
      "text/plain": [
       "['accuracy',\n",
       " 'adjusted_mutual_info_score',\n",
       " 'adjusted_rand_score',\n",
       " 'average_precision',\n",
       " 'balanced_accuracy',\n",
       " 'completeness_score',\n",
       " 'explained_variance',\n",
       " 'f1',\n",
       " 'f1_macro',\n",
       " 'f1_micro',\n",
       " 'f1_samples',\n",
       " 'f1_weighted',\n",
       " 'fowlkes_mallows_score',\n",
       " 'homogeneity_score',\n",
       " 'jaccard',\n",
       " 'jaccard_macro',\n",
       " 'jaccard_micro',\n",
       " 'jaccard_samples',\n",
       " 'jaccard_weighted',\n",
       " 'max_error',\n",
       " 'mutual_info_score',\n",
       " 'neg_brier_score',\n",
       " 'neg_log_loss',\n",
       " 'neg_mean_absolute_error',\n",
       " 'neg_mean_absolute_percentage_error',\n",
       " 'neg_mean_gamma_deviance',\n",
       " 'neg_mean_poisson_deviance',\n",
       " 'neg_mean_squared_error',\n",
       " 'neg_mean_squared_log_error',\n",
       " 'neg_median_absolute_error',\n",
       " 'neg_root_mean_squared_error',\n",
       " 'normalized_mutual_info_score',\n",
       " 'precision',\n",
       " 'precision_macro',\n",
       " 'precision_micro',\n",
       " 'precision_samples',\n",
       " 'precision_weighted',\n",
       " 'r2',\n",
       " 'rand_score',\n",
       " 'recall',\n",
       " 'recall_macro',\n",
       " 'recall_micro',\n",
       " 'recall_samples',\n",
       " 'recall_weighted',\n",
       " 'roc_auc',\n",
       " 'roc_auc_ovo',\n",
       " 'roc_auc_ovo_weighted',\n",
       " 'roc_auc_ovr',\n",
       " 'roc_auc_ovr_weighted',\n",
       " 'top_k_accuracy',\n",
       " 'v_measure_score']"
      ]
     },
     "execution_count": 284,
     "metadata": {},
     "output_type": "execute_result"
    }
   ],
   "source": [
    "###use this to check the evaluate scores available for use in your validation\n",
    "\n",
    "sorted(sklearn.metrics.SCORERS.keys())"
   ]
  },
  {
   "cell_type": "code",
   "execution_count": 285,
   "metadata": {},
   "outputs": [
    {
     "name": "stdout",
     "output_type": "stream",
     "text": [
      "scores: [0.59694984 0.60114636 0.59001762 0.55197343 0.56054502 0.67071551\n",
      " 0.54693152 0.58810541 0.56525362 0.60217075]\n",
      "mean: 0.5873809057404493\n",
      "standard deviation: 0.0339875709476806\n"
     ]
    }
   ],
   "source": [
    "##I will be using 'r evaluation metric to carry out evaluation on the lineear regression'\n",
    "scores=cross_val_score(rf,X_train, y_train,scoring='r2',cv=10)\n",
    "\n",
    "def display_scores(scores):\n",
    "    print('scores:',scores)\n",
    "    print('mean:',scores.mean())\n",
    "    print('standard deviation:',scores.std())\n",
    "    \n",
    "display_scores(scores)"
   ]
  },
  {
   "cell_type": "code",
   "execution_count": 286,
   "metadata": {},
   "outputs": [],
   "source": [
    "import pickle\n",
    "from pickle import dump\n"
   ]
  },
  {
   "cell_type": "code",
   "execution_count": 287,
   "metadata": {},
   "outputs": [],
   "source": [
    "#save the model()\n",
    "dump(rf,open('model(rf).pkl','wb'))\n",
    "\n",
    "##save the scaler\n",
    "dump(scaler,open('scaler.pkl','wb'))"
   ]
  },
  {
   "cell_type": "code",
   "execution_count": 288,
   "metadata": {},
   "outputs": [
    {
     "data": {
      "text/plain": [
       "RandomForestRegressor(max_depth=10, n_jobs=2)"
      ]
     },
     "execution_count": 288,
     "metadata": {},
     "output_type": "execute_result"
    }
   ],
   "source": [
    "model=pickle.load(open('model(rf).pkl','rb'))\n",
    "model"
   ]
  },
  {
   "cell_type": "code",
   "execution_count": 289,
   "metadata": {},
   "outputs": [],
   "source": [
    "#m=pd.DataFrame({'score':[7,8,4,3]})"
   ]
  },
  {
   "cell_type": "code",
   "execution_count": 290,
   "metadata": {},
   "outputs": [],
   "source": [
    "import streamlit as st"
   ]
  },
  {
   "cell_type": "code",
   "execution_count": 291,
   "metadata": {},
   "outputs": [
    {
     "name": "stdout",
     "output_type": "stream",
     "text": [
      "Overwriting khala.py\n"
     ]
    }
   ],
   "source": [
    "%%writefile khala.py\n",
    "\n",
    "import streamlit as st\n",
    "import pandas as pd\n",
    "import numpy as np\n",
    "import pickle\n",
    "\n",
    "st.write(\"\"\"\n",
    "# AIRBNB HOUSE PRICE PREDICT APP:\n",
    "\"\"\"\n",
    ")\n",
    "\n",
    "model=pickle.load(open('model(rf).pkl', 'rb'))\n",
    "\n",
    "scaler=pickle.load(open('scaler.pkl', 'rb'))\n",
    "\n",
    "\n",
    "\n",
    "st.sidebar.header('User Input Parameters')\n",
    "\n",
    "def user_input_features():\n",
    "    \n",
    "    Room_type=st.sidebar.selectbox('Room Type',('Private room','Entire home/apt', 'Shared room'))\n",
    "         \n",
    "    if Room_type=='Private room':\n",
    "            Entire=0\n",
    "            Private =1\n",
    "            Shared=0\n",
    "    if Room_type=='Entire home/apt':\n",
    "            Entire=1\n",
    "            Private=0\n",
    "            Shared =0\n",
    "            \n",
    "    if Room_type=='Shared room':\n",
    "            Entire =0\n",
    "            Private =0\n",
    "            Shared=1\n",
    "            \n",
    "    Region_hood=st.sidebar.selectbox('Region', ('North Region','Central Region','East Region', 'West Region','North East Region'))\n",
    "         \n",
    "    if Region_hood=='Central Region':\n",
    "        Central=1\n",
    "        North=0\n",
    "        East=0\n",
    "        West=0\n",
    "        North_East=0\n",
    "        \n",
    "    if Region_hood=='North Region':\n",
    "        Central=0\n",
    "        North=1\n",
    "        East=0\n",
    "        West=0\n",
    "        North_East=0\n",
    "    \n",
    "\n",
    "    if Region_hood=='West Region':\n",
    "        Central=0\n",
    "        North=0\n",
    "        East=0\n",
    "        West=1\n",
    "        North_East=0\n",
    "        \n",
    "    if Region_hood=='East Region':\n",
    "        Central=0\n",
    "        North=0\n",
    "        East=1\n",
    "        West=0\n",
    "        North_East=0\n",
    "        \n",
    "    if Region_hood=='North East Region':\n",
    "        Central=0\n",
    "        North=0\n",
    "        East=0\n",
    "        West=0\n",
    "        North_East=1\n",
    "\n",
    "\n",
    "\n",
    "    Host_id=st.number_input('What is the Host ID')\n",
    "    Host_list_count=st.number_input('Host listing count')\n",
    "    longitude=st.number_input(\"Building's Longitudinal Location\")\n",
    "    latitude=st.number_input(\"Building's Latitudinal Location\")\n",
    "    \n",
    "\n",
    "    \n",
    "    \n",
    "    minimum_nights=st.number_input('How many nights will you be staying for')\n",
    "    availability=st.number_input('For how many days is the building available ')\n",
    "    last_rev_month=st.number_input('On which month was the last review',max_value=12,min_value=1,step=1)\n",
    "    last_rev_year=st.number_input('On which year was the last review',max_value=2022,min_value=2012,step=1)\n",
    "    no_reviews=st.number_input('Number of reviews received')\n",
    "    reviews_per_month=st.number_input('How many reviews per month')\n",
    "    \n",
    "\n",
    "        \n",
    "        \n",
    "    data={'host_id':Host_id,\n",
    "         'latitude':latitude,\n",
    "         'longitude':longitude,\n",
    "         'minimum_nights':minimum_nights,\n",
    "         'calculated_host_listings_count':Host_list_count,\n",
    "         'availabilty_365':availability,\n",
    "         'last_review_month':last_rev_month,\n",
    "         'last_review_year':last_rev_year,\n",
    "         'number_of_reviews':no_reviews,\n",
    "         'reviews_per_month':reviews_per_month,\n",
    "         'room_type_Private room':Private,\n",
    "         'room_type_Shared room':Shared,\n",
    "         'neighbourhood_group_North-East Region':North_East,\n",
    "         'neighbourhood_group_East Region':East,\n",
    "         'neighbourhood_group_North Region':North,\n",
    "         'neighbourhood_group_West Region':West}\n",
    "    \n",
    "    features = pd.DataFrame(data, index=[0])\n",
    "    return features\n",
    "\n",
    "input_df =user_input_features()\n",
    "input_df =scaler.transform(input_df)\n",
    "\n",
    "if st.button('PREDICT'):\n",
    "    y_out=model.predict(input_df)\n",
    "    st.write(f' This room will cost you $',y_out[0])\n",
    "    "
   ]
  },
  {
   "cell_type": "code",
   "execution_count": 292,
   "metadata": {},
   "outputs": [
    {
     "name": "stdout",
     "output_type": "stream",
     "text": [
      "^C\n"
     ]
    }
   ],
   "source": [
    "!streamlit run khala.py"
   ]
  },
  {
   "cell_type": "code",
   "execution_count": null,
   "metadata": {},
   "outputs": [],
   "source": []
  }
 ],
 "metadata": {
  "kernelspec": {
   "display_name": "Python 3",
   "language": "python",
   "name": "python3"
  },
  "language_info": {
   "codemirror_mode": {
    "name": "ipython",
    "version": 3
   },
   "file_extension": ".py",
   "mimetype": "text/x-python",
   "name": "python",
   "nbconvert_exporter": "python",
   "pygments_lexer": "ipython3",
   "version": "3.8.3"
  }
 },
 "nbformat": 4,
 "nbformat_minor": 4
}
