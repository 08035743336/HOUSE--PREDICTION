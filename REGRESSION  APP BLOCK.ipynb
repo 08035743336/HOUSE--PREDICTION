{
 "cells": [
  {
   "cell_type": "code",
   "execution_count": 2,
   "metadata": {},
   "outputs": [
    {
     "name": "stdout",
     "output_type": "stream",
     "text": [
      "Overwriting khala.py\n"
     ]
    }
   ],
   "source": [
    "%%writefile khala.py\n",
    "\n",
    "import streamlit as st\n",
    "import pandas as pd\n",
    "import numpy as np\n",
    "import pickle\n",
    "\n",
    "st.write(\"\"\"\n",
    "# AIRBNB HOUSE PRICE PREDICT APP:\n",
    "\"\"\"\n",
    ")\n",
    "\n",
    "model=pickle.load(open('model(rf).pkl', 'rb'))\n",
    "\n",
    "scaler=pickle.load(open('scaler.pkl', 'rb'))\n",
    "\n",
    "\n",
    "\n",
    "st.sidebar.header('User Input Parameters')\n",
    "\n",
    "def user_input_features():\n",
    "    \n",
    "    Room_type=st.sidebar.selectbox('Room Type',('Private room','Entire home/apt', 'Shared room'))\n",
    "         \n",
    "    if Room_type=='Private room':\n",
    "            Entire=0\n",
    "            Private =1\n",
    "            Shared=0\n",
    "    if Room_type=='Entire home/apt':\n",
    "            Entire=1\n",
    "            Private=0\n",
    "            Shared =0\n",
    "            \n",
    "    if Room_type=='Shared room':\n",
    "            Entire =0\n",
    "            Private =0\n",
    "            Shared=1\n",
    "            \n",
    "    Region_hood=st.sidebar.selectbox('Region', ('North Region','Central Region','East Region', 'West Region','North East Region'))\n",
    "         \n",
    "    if Region_hood=='Central Region':\n",
    "        Central=1\n",
    "        North=0\n",
    "        East=0\n",
    "        West=0\n",
    "        North_East=0\n",
    "        \n",
    "    if Region_hood=='North Region':\n",
    "        Central=0\n",
    "        North=1\n",
    "        East=0\n",
    "        West=0\n",
    "        North_East=0\n",
    "    \n",
    "\n",
    "    if Region_hood=='West Region':\n",
    "        Central=0\n",
    "        North=0\n",
    "        East=0\n",
    "        West=1\n",
    "        North_East=0\n",
    "        \n",
    "    if Region_hood=='East Region':\n",
    "        Central=0\n",
    "        North=0\n",
    "        East=1\n",
    "        West=0\n",
    "        North_East=0\n",
    "        \n",
    "    if Region_hood=='North East Region':\n",
    "        Central=0\n",
    "        North=0\n",
    "        East=0\n",
    "        West=0\n",
    "        North_East=1\n",
    "\n",
    "\n",
    "\n",
    "    Host_id=st.number_input('What is the Host ID')\n",
    "    Host_list_count=st.number_input('Host listing count')\n",
    "    longitude=st.number_input(\"Building's Longitudinal Location\")\n",
    "    latitude=st.number_input(\"Building's Latitudinal Location\")\n",
    "    \n",
    "\n",
    "    \n",
    "    \n",
    "    minimum_nights=st.number_input('How many nights will you be staying for')\n",
    "    availability=st.number_input('For how many days is the building available ')\n",
    "    last_rev_month=st.number_input('On which month was the last review',max_value=12,min_value=1,step=1)\n",
    "    last_rev_year=st.number_input('On which year was the last review',max_value=2022,min_value=2012,step=1)\n",
    "    no_reviews=st.number_input('Number of reviews received')\n",
    "    reviews_per_month=st.number_input('How many reviews per month')\n",
    "    \n",
    "\n",
    "        \n",
    "        \n",
    "    data={'host_id':Host_id,\n",
    "         'latitude':latitude,\n",
    "         'longitude':longitude,\n",
    "         'minimum_nights':minimum_nights,\n",
    "         'calculated_host_listings_count':Host_list_count,\n",
    "         'availabilty_365':availability,\n",
    "         'last_review_month':last_rev_month,\n",
    "         'last_review_year':last_rev_year,\n",
    "         'number_of_reviews':no_reviews,\n",
    "         'reviews_per_month':reviews_per_month,\n",
    "         'room_type_Private room':Private,\n",
    "         'room_type_Shared room':Shared,\n",
    "         'neighbourhood_group_North-East Region':North_East,\n",
    "         'neighbourhood_group_East Region':East,\n",
    "         'neighbourhood_group_North Region':North,\n",
    "         'neighbourhood_group_West Region':West}\n",
    "    \n",
    "    features = pd.DataFrame(data, index=[0])\n",
    "    return features\n",
    "\n",
    "input_df =user_input_features()\n",
    "input_df =scaler.transform(input_df)\n",
    "\n",
    "if st.button('PREDICT'):\n",
    "    y_out=model.predict(input_df)\n",
    "    st.write(f' This room will cost you $',y_out[0])\n",
    "    "
   ]
  },
  {
   "cell_type": "code",
   "execution_count": 3,
   "metadata": {},
   "outputs": [
    {
     "name": "stdout",
     "output_type": "stream",
     "text": [
      "^C\n"
     ]
    }
   ],
   "source": [
    "!streamlit run khala.py\n"
   ]
  },
  {
   "cell_type": "code",
   "execution_count": 4,
   "metadata": {},
   "outputs": [
    {
     "ename": "NameError",
     "evalue": "name 'plt' is not defined",
     "output_type": "error",
     "traceback": [
      "\u001b[1;31m---------------------------------------------------------------------------\u001b[0m",
      "\u001b[1;31mNameError\u001b[0m                                 Traceback (most recent call last)",
      "\u001b[1;32m<ipython-input-4-d2ddd589bef1>\u001b[0m in \u001b[0;36m<module>\u001b[1;34m\u001b[0m\n\u001b[1;32m----> 1\u001b[1;33m \u001b[0mplt\u001b[0m\u001b[1;33m.\u001b[0m\u001b[0msavefig\u001b[0m\u001b[1;33m(\u001b[0m\u001b[1;34m'heatmap'\u001b[0m\u001b[1;33m)\u001b[0m\u001b[1;33m\u001b[0m\u001b[1;33m\u001b[0m\u001b[0m\n\u001b[0m",
      "\u001b[1;31mNameError\u001b[0m: name 'plt' is not defined"
     ]
    }
   ],
   "source": [
    "plt.savefig('heatmap')"
   ]
  },
  {
   "cell_type": "markdown",
   "metadata": {},
   "source": []
  }
 ],
 "metadata": {
  "kernelspec": {
   "display_name": "Python 3",
   "language": "python",
   "name": "python3"
  },
  "language_info": {
   "codemirror_mode": {
    "name": "ipython",
    "version": 3
   },
   "file_extension": ".py",
   "mimetype": "text/x-python",
   "name": "python",
   "nbconvert_exporter": "python",
   "pygments_lexer": "ipython3",
   "version": "3.8.3"
  }
 },
 "nbformat": 4,
 "nbformat_minor": 4
}
